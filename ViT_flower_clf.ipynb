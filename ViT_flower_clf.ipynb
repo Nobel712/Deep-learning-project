{
  "nbformat": 4,
  "nbformat_minor": 0,
  "metadata": {
    "colab": {
      "provenance": [],
      "authorship_tag": "ABX9TyMLbF5XHrW93vKQt9fW63RE",
      "include_colab_link": true
    },
    "kernelspec": {
      "name": "python3",
      "display_name": "Python 3"
    },
    "language_info": {
      "name": "python"
    },
    "accelerator": "GPU",
    "gpuClass": "standard"
  },
  "cells": [
    {
      "cell_type": "markdown",
      "metadata": {
        "id": "view-in-github",
        "colab_type": "text"
      },
      "source": [
        "<a href=\"https://colab.research.google.com/github/Nobel712/Deep-learning-project/blob/main/ViT_flower_clf.ipynb\" target=\"_parent\"><img src=\"https://colab.research.google.com/assets/colab-badge.svg\" alt=\"Open In Colab\"/></a>"
      ]
    },
    {
      "cell_type": "code",
      "execution_count": 1,
      "metadata": {
        "id": "7NX9x2td_tUT"
      },
      "outputs": [],
      "source": [
        "import os\n",
        "os.environ['TF_CPP_MIN_LOG_LEVEL']='2'\n",
        "import numpy as np\n",
        "import cv2 \n",
        "from glob import glob\n",
        "from sklearn.utils import shuffle\n",
        "from sklearn.model_selection import train_test_split\n",
        "from patchify import patchify\n",
        "import tensorflow as tf\n",
        "from tensorflow.keras.callbacks import ModelCheckpoint,CSVLogger,ReduceLROnPlateau,EarlyStopping\n",
        "from tensorflow.keras.layers import*\n",
        "from tensorflow.keras.models import Model"
      ]
    },
    {
      "cell_type": "code",
      "source": [
        "\n",
        "from google.colab import drive\n",
        "drive.mount('/content/drive')"
      ],
      "metadata": {
        "colab": {
          "base_uri": "https://localhost:8080/"
        },
        "id": "_3YIu7ELFawz",
        "outputId": "3dd1b47f-d0b8-46aa-deee-201b4fe8aed5"
      },
      "execution_count": 2,
      "outputs": [
        {
          "output_type": "stream",
          "name": "stdout",
          "text": [
            "Drive already mounted at /content/drive; to attempt to forcibly remount, call drive.mount(\"/content/drive\", force_remount=True).\n"
          ]
        }
      ]
    },
    {
      "cell_type": "code",
      "source": [
        "!cd /content/drive/MyDrive/Deep_Db/\n",
        "!tar -xvzf flower_photos.tgz"
      ],
      "metadata": {
        "colab": {
          "base_uri": "https://localhost:8080/"
        },
        "id": "k82HfwRbun2N",
        "outputId": "f3595327-3879-4c2b-e847-17e2bd13f947"
      },
      "execution_count": 3,
      "outputs": [
        {
          "output_type": "stream",
          "name": "stdout",
          "text": [
            "tar (child): flower_photos.tgz: Cannot open: No such file or directory\n",
            "tar (child): Error is not recoverable: exiting now\n",
            "tar: Child returned status 2\n",
            "tar: Error is not recoverable: exiting now\n"
          ]
        }
      ]
    },
    {
      "cell_type": "markdown",
      "source": [
        "Cofigure"
      ],
      "metadata": {
        "id": "LP5T_39rKZER"
      }
    },
    {
      "cell_type": "code",
      "source": [
        "hp = {}\n",
        "hp[\"image_size\"] = 200\n",
        "hp[\"num_channels\"] = 3\n",
        "hp[\"patch_size\"] = 25\n",
        "hp[\"num_patches\"] = (hp[\"image_size\"]**2) // (hp[\"patch_size\"]**2)\n",
        "hp[\"flat_patches_shape\"] = (hp[\"num_patches\"], hp[\"patch_size\"]*hp[\"patch_size\"]*hp[\"num_channels\"])\n",
        "\n",
        "hp[\"batch_size\"] = 32\n",
        "hp[\"lr\"] = 1e-4\n",
        "hp[\"num_epochs\"] = 500\n",
        "hp[\"num_classes\"] = 5\n",
        "hp[\"class_names\"] = [\"daisy\", \"dandelion\", \"roses\", \"sunflowers\", \"tulips\"]\n",
        "\n",
        "hp[\"num_layers\"] = 12\n",
        "hp[\"hidden_dim\"] = 768\n",
        "hp[\"mlp_dim\"] = 3072\n",
        "hp[\"num_heads\"] = 12\n",
        "hp[\"dropout_rate\"] = 0.1\n",
        "hp['num_heads']=12"
      ],
      "metadata": {
        "id": "JmVt0GtPvtgM"
      },
      "execution_count": 4,
      "outputs": []
    },
    {
      "cell_type": "markdown",
      "source": [
        "VIT "
      ],
      "metadata": {
        "id": "gsMHSX_4Kjrl"
      }
    },
    {
      "cell_type": "code",
      "source": [
        "class ClassToken(Layer):\n",
        "  def __init__(self):\n",
        "    super().__init__()\n",
        "  def build(self,input_shape):\n",
        "    w_init=tf.random_normal_initializer()\n",
        "    self.w=tf.Variable(initial_value=w_init(shape=(1,1,input_shape[-1]),dtype=tf.float32),\n",
        "                       trainable=True)\n",
        "  def call(self,inputs):\n",
        "    batch_size=tf.shape(inputs)[0]\n",
        "    hidden_dim=self.w.shape[-1]\n",
        "    cls=tf.broadcast_to(self.w,[batch_size,1,hidden_dim])\n",
        "    cls=tf.cast(cls,dtype=inputs.dtype)\n",
        "    return cls"
      ],
      "metadata": {
        "id": "_At27n1bKl42"
      },
      "execution_count": 5,
      "outputs": []
    },
    {
      "cell_type": "code",
      "source": [
        "def mlp(x,cf):\n",
        "  x=Dense(cf['mlp_dim'],activation='gelu')(x)\n",
        "  x=Dropout(cf['dropout_rate'])(x)\n",
        "  x=Dense(cf['hidden_dim'])(x)\n",
        "  return x"
      ],
      "metadata": {
        "id": "ajJuzhmIKv4i"
      },
      "execution_count": 6,
      "outputs": []
    },
    {
      "cell_type": "code",
      "source": [
        "def transformer_encoder(x ,cf):\n",
        "  skip_1=x\n",
        "  x=LayerNormalization()(x)\n",
        "  x=MultiHeadAttention(\n",
        "      num_heads=cf['num_heads'],key_dim=cf['hidden_dim']\n",
        "  )(x,x)\n",
        "  x=Add()([x,skip_1])\n",
        "  skip_2=x\n",
        "  x=LayerNormalization()(x)\n",
        "  x=mlp(x,cf)\n",
        "  x=Add()([x,skip_2])\n",
        "  return x"
      ],
      "metadata": {
        "id": "Ht2cgds7KyDG"
      },
      "execution_count": 7,
      "outputs": []
    },
    {
      "cell_type": "code",
      "source": [
        "def ViT(cf):\n",
        "  input_shape=(cf['num_patches'],cf['patch_size']*cf['patch_size']*cf['num_channels'])\n",
        "  inputs=Input(input_shape)\n",
        "  patch_embed=Dense(cf['hidden_dim'])(inputs)\n",
        "  positions=tf.range(start=0,limit=cf['num_patches'],delta=1)\n",
        "  pos_embed=Embedding(input_dim=cf['num_patches'],output_dim=cf['hidden_dim'])(positions)\n",
        "  embed=patch_embed+pos_embed ##(none,256,768)\n",
        "\n",
        "  #adding class token\n",
        "  token=ClassToken()(embed)\n",
        "  x=Concatenate(axis=1)([token,embed]) ##(None, 257, 768)\n",
        "  for _ in range(cf['num_layers']):\n",
        "    x=transformer_encoder(x,cf) ##(None, 257, 768)\n",
        "  x=LayerNormalization()(x)\n",
        "  x=x[:,0,:]##(None, 768)\n",
        "  x=Dense(cf['num_classes'],activation='softmax')(x)\n",
        "  model=Model(inputs,x)\n",
        "  return model"
      ],
      "metadata": {
        "id": "Brq2BTMEK2cP"
      },
      "execution_count": 8,
      "outputs": []
    },
    {
      "cell_type": "markdown",
      "source": [
        "data load and processing"
      ],
      "metadata": {
        "id": "hsiL5QioKfw2"
      }
    },
    {
      "cell_type": "code",
      "source": [
        "\n",
        "def creat_dir(path):\n",
        "  if not os.path.exists(path):\n",
        "    os.makedirs(path)"
      ],
      "metadata": {
        "id": "GCu0tKHevx_Y"
      },
      "execution_count": 9,
      "outputs": []
    },
    {
      "cell_type": "code",
      "source": [
        "def load_data(path,split=0.1):\n",
        "  images=shuffle(glob(os.path.join(path,'*',\"*jpg\")))\n",
        "  split_size=int(len(images)*split)\n",
        "  xtrain,xvalid=train_test_split(images,test_size=split_size,random_state=42)\n",
        "  xtrain,xtest=train_test_split(xtrain,test_size=.1,random_state=42)\n",
        "  return xtrain,xvalid,xtest\n"
      ],
      "metadata": {
        "id": "-sHNKZPhw6Xv"
      },
      "execution_count": 10,
      "outputs": []
    },
    {
      "cell_type": "code",
      "source": [
        "def process_image_label(path):\n",
        "    \"\"\" Reading images \"\"\"\n",
        "    path = path.decode()\n",
        "    image = cv2.imread(path, cv2.IMREAD_COLOR)\n",
        "    image = cv2.resize(image, (hp[\"image_size\"], hp[\"image_size\"]))\n",
        "    image = image/255.0\n",
        "\n",
        "    \"\"\" Preprocessing to patches \"\"\"\n",
        "    patch_shape = (hp[\"patch_size\"], hp[\"patch_size\"], hp[\"num_channels\"])\n",
        "    patches = patchify(image, patch_shape, hp[\"patch_size\"])\n",
        "\n",
        "    # patches = np.reshape(patches, (64, 25, 25, 3))\n",
        "    # for i in range(64):\n",
        "    #     cv2.imwrite(f\"files/{i}.png\", patches[i])\n",
        "\n",
        "    patches = np.reshape(patches, hp[\"flat_patches_shape\"])\n",
        "    patches = patches.astype(np.float32)\n",
        "\n",
        "    \"\"\" Label \"\"\"\n",
        "    class_name = path.split(\"/\")[-2]\n",
        "    class_idx = hp[\"class_names\"].index(class_name)\n",
        "    class_idx = np.array(class_idx, dtype=np.int32)\n",
        "\n",
        "    return patches, class_idx\n"
      ],
      "metadata": {
        "id": "4j1tpm-By3Xw"
      },
      "execution_count": 11,
      "outputs": []
    },
    {
      "cell_type": "code",
      "source": [
        "def parse(path):\n",
        "    patches, labels = tf.numpy_function(process_image_label, [path], [tf.float32, tf.int32])\n",
        "    labels = tf.one_hot(labels, hp[\"num_classes\"])\n",
        "\n",
        "    patches.set_shape(hp[\"flat_patches_shape\"])\n",
        "    labels.set_shape(hp[\"num_classes\"])\n",
        "\n",
        "    return patches, labels\n",
        "\n",
        "def tf_dataset(images, batch=32):\n",
        "    ds = tf.data.Dataset.from_tensor_slices((images))\n",
        "    ds = ds.map(parse).batch(batch).prefetch(8)\n",
        "    return ds"
      ],
      "metadata": {
        "id": "XZ7QEqHTIcsd"
      },
      "execution_count": 12,
      "outputs": []
    },
    {
      "cell_type": "code",
      "source": [],
      "metadata": {
        "id": "gvz-mlsZyxTs"
      },
      "execution_count": 12,
      "outputs": []
    },
    {
      "cell_type": "code",
      "source": [
        "if __name__=='__main__':\n",
        "  np.random.seed(42)\n",
        "  tf.random.set_seed(42)\n",
        "  creat_dir('files')\n",
        "  dataset_path='/content/drive/MyDrive/Deep_Db/flower_photos'\n",
        "  model_path=os.path.join('files','model.h5')\n",
        "  csv_path=os.path.join('files','log.csv')\n",
        "  xtrain,xvalid,xtest=load_data(dataset_path)\n",
        "  train_ds=tf_dataset(xtrain,batch=hp['batch_size'])\n",
        "  valid_ds=tf_dataset(xvalid,batch=hp['batch_size'])\n",
        "  "
      ],
      "metadata": {
        "id": "QiIrCbnFE9cL"
      },
      "execution_count": 13,
      "outputs": []
    },
    {
      "cell_type": "code",
      "source": [
        "model=ViT(hp)\n",
        "model.summary()"
      ],
      "metadata": {
        "id": "YH9GAYxWFJpi",
        "colab": {
          "base_uri": "https://localhost:8080/"
        },
        "outputId": "739884a2-fce9-4be7-bfd5-f0f17e25309a"
      },
      "execution_count": 14,
      "outputs": [
        {
          "output_type": "stream",
          "name": "stdout",
          "text": [
            "Model: \"model\"\n",
            "__________________________________________________________________________________________________\n",
            " Layer (type)                   Output Shape         Param #     Connected to                     \n",
            "==================================================================================================\n",
            " input_1 (InputLayer)           [(None, 64, 1875)]   0           []                               \n",
            "                                                                                                  \n",
            " dense (Dense)                  (None, 64, 768)      1440768     ['input_1[0][0]']                \n",
            "                                                                                                  \n",
            " tf.__operators__.add (TFOpLamb  (None, 64, 768)     0           ['dense[0][0]']                  \n",
            " da)                                                                                              \n",
            "                                                                                                  \n",
            " class_token (ClassToken)       (None, 1, 768)       768         ['tf.__operators__.add[0][0]']   \n",
            "                                                                                                  \n",
            " concatenate (Concatenate)      (None, 65, 768)      0           ['class_token[0][0]',            \n",
            "                                                                  'tf.__operators__.add[0][0]']   \n",
            "                                                                                                  \n",
            " layer_normalization (LayerNorm  (None, 65, 768)     1536        ['concatenate[0][0]']            \n",
            " alization)                                                                                       \n",
            "                                                                                                  \n",
            " multi_head_attention (MultiHea  (None, 65, 768)     28339968    ['layer_normalization[0][0]',    \n",
            " dAttention)                                                      'layer_normalization[0][0]']    \n",
            "                                                                                                  \n",
            " add (Add)                      (None, 65, 768)      0           ['multi_head_attention[0][0]',   \n",
            "                                                                  'concatenate[0][0]']            \n",
            "                                                                                                  \n",
            " layer_normalization_1 (LayerNo  (None, 65, 768)     1536        ['add[0][0]']                    \n",
            " rmalization)                                                                                     \n",
            "                                                                                                  \n",
            " dense_1 (Dense)                (None, 65, 3072)     2362368     ['layer_normalization_1[0][0]']  \n",
            "                                                                                                  \n",
            " dropout (Dropout)              (None, 65, 3072)     0           ['dense_1[0][0]']                \n",
            "                                                                                                  \n",
            " dense_2 (Dense)                (None, 65, 768)      2360064     ['dropout[0][0]']                \n",
            "                                                                                                  \n",
            " add_1 (Add)                    (None, 65, 768)      0           ['dense_2[0][0]',                \n",
            "                                                                  'add[0][0]']                    \n",
            "                                                                                                  \n",
            " layer_normalization_2 (LayerNo  (None, 65, 768)     1536        ['add_1[0][0]']                  \n",
            " rmalization)                                                                                     \n",
            "                                                                                                  \n",
            " multi_head_attention_1 (MultiH  (None, 65, 768)     28339968    ['layer_normalization_2[0][0]',  \n",
            " eadAttention)                                                    'layer_normalization_2[0][0]']  \n",
            "                                                                                                  \n",
            " add_2 (Add)                    (None, 65, 768)      0           ['multi_head_attention_1[0][0]', \n",
            "                                                                  'add_1[0][0]']                  \n",
            "                                                                                                  \n",
            " layer_normalization_3 (LayerNo  (None, 65, 768)     1536        ['add_2[0][0]']                  \n",
            " rmalization)                                                                                     \n",
            "                                                                                                  \n",
            " dense_3 (Dense)                (None, 65, 3072)     2362368     ['layer_normalization_3[0][0]']  \n",
            "                                                                                                  \n",
            " dropout_1 (Dropout)            (None, 65, 3072)     0           ['dense_3[0][0]']                \n",
            "                                                                                                  \n",
            " dense_4 (Dense)                (None, 65, 768)      2360064     ['dropout_1[0][0]']              \n",
            "                                                                                                  \n",
            " add_3 (Add)                    (None, 65, 768)      0           ['dense_4[0][0]',                \n",
            "                                                                  'add_2[0][0]']                  \n",
            "                                                                                                  \n",
            " layer_normalization_4 (LayerNo  (None, 65, 768)     1536        ['add_3[0][0]']                  \n",
            " rmalization)                                                                                     \n",
            "                                                                                                  \n",
            " multi_head_attention_2 (MultiH  (None, 65, 768)     28339968    ['layer_normalization_4[0][0]',  \n",
            " eadAttention)                                                    'layer_normalization_4[0][0]']  \n",
            "                                                                                                  \n",
            " add_4 (Add)                    (None, 65, 768)      0           ['multi_head_attention_2[0][0]', \n",
            "                                                                  'add_3[0][0]']                  \n",
            "                                                                                                  \n",
            " layer_normalization_5 (LayerNo  (None, 65, 768)     1536        ['add_4[0][0]']                  \n",
            " rmalization)                                                                                     \n",
            "                                                                                                  \n",
            " dense_5 (Dense)                (None, 65, 3072)     2362368     ['layer_normalization_5[0][0]']  \n",
            "                                                                                                  \n",
            " dropout_2 (Dropout)            (None, 65, 3072)     0           ['dense_5[0][0]']                \n",
            "                                                                                                  \n",
            " dense_6 (Dense)                (None, 65, 768)      2360064     ['dropout_2[0][0]']              \n",
            "                                                                                                  \n",
            " add_5 (Add)                    (None, 65, 768)      0           ['dense_6[0][0]',                \n",
            "                                                                  'add_4[0][0]']                  \n",
            "                                                                                                  \n",
            " layer_normalization_6 (LayerNo  (None, 65, 768)     1536        ['add_5[0][0]']                  \n",
            " rmalization)                                                                                     \n",
            "                                                                                                  \n",
            " multi_head_attention_3 (MultiH  (None, 65, 768)     28339968    ['layer_normalization_6[0][0]',  \n",
            " eadAttention)                                                    'layer_normalization_6[0][0]']  \n",
            "                                                                                                  \n",
            " add_6 (Add)                    (None, 65, 768)      0           ['multi_head_attention_3[0][0]', \n",
            "                                                                  'add_5[0][0]']                  \n",
            "                                                                                                  \n",
            " layer_normalization_7 (LayerNo  (None, 65, 768)     1536        ['add_6[0][0]']                  \n",
            " rmalization)                                                                                     \n",
            "                                                                                                  \n",
            " dense_7 (Dense)                (None, 65, 3072)     2362368     ['layer_normalization_7[0][0]']  \n",
            "                                                                                                  \n",
            " dropout_3 (Dropout)            (None, 65, 3072)     0           ['dense_7[0][0]']                \n",
            "                                                                                                  \n",
            " dense_8 (Dense)                (None, 65, 768)      2360064     ['dropout_3[0][0]']              \n",
            "                                                                                                  \n",
            " add_7 (Add)                    (None, 65, 768)      0           ['dense_8[0][0]',                \n",
            "                                                                  'add_6[0][0]']                  \n",
            "                                                                                                  \n",
            " layer_normalization_8 (LayerNo  (None, 65, 768)     1536        ['add_7[0][0]']                  \n",
            " rmalization)                                                                                     \n",
            "                                                                                                  \n",
            " multi_head_attention_4 (MultiH  (None, 65, 768)     28339968    ['layer_normalization_8[0][0]',  \n",
            " eadAttention)                                                    'layer_normalization_8[0][0]']  \n",
            "                                                                                                  \n",
            " add_8 (Add)                    (None, 65, 768)      0           ['multi_head_attention_4[0][0]', \n",
            "                                                                  'add_7[0][0]']                  \n",
            "                                                                                                  \n",
            " layer_normalization_9 (LayerNo  (None, 65, 768)     1536        ['add_8[0][0]']                  \n",
            " rmalization)                                                                                     \n",
            "                                                                                                  \n",
            " dense_9 (Dense)                (None, 65, 3072)     2362368     ['layer_normalization_9[0][0]']  \n",
            "                                                                                                  \n",
            " dropout_4 (Dropout)            (None, 65, 3072)     0           ['dense_9[0][0]']                \n",
            "                                                                                                  \n",
            " dense_10 (Dense)               (None, 65, 768)      2360064     ['dropout_4[0][0]']              \n",
            "                                                                                                  \n",
            " add_9 (Add)                    (None, 65, 768)      0           ['dense_10[0][0]',               \n",
            "                                                                  'add_8[0][0]']                  \n",
            "                                                                                                  \n",
            " layer_normalization_10 (LayerN  (None, 65, 768)     1536        ['add_9[0][0]']                  \n",
            " ormalization)                                                                                    \n",
            "                                                                                                  \n",
            " multi_head_attention_5 (MultiH  (None, 65, 768)     28339968    ['layer_normalization_10[0][0]', \n",
            " eadAttention)                                                    'layer_normalization_10[0][0]'] \n",
            "                                                                                                  \n",
            " add_10 (Add)                   (None, 65, 768)      0           ['multi_head_attention_5[0][0]', \n",
            "                                                                  'add_9[0][0]']                  \n",
            "                                                                                                  \n",
            " layer_normalization_11 (LayerN  (None, 65, 768)     1536        ['add_10[0][0]']                 \n",
            " ormalization)                                                                                    \n",
            "                                                                                                  \n",
            " dense_11 (Dense)               (None, 65, 3072)     2362368     ['layer_normalization_11[0][0]'] \n",
            "                                                                                                  \n",
            " dropout_5 (Dropout)            (None, 65, 3072)     0           ['dense_11[0][0]']               \n",
            "                                                                                                  \n",
            " dense_12 (Dense)               (None, 65, 768)      2360064     ['dropout_5[0][0]']              \n",
            "                                                                                                  \n",
            " add_11 (Add)                   (None, 65, 768)      0           ['dense_12[0][0]',               \n",
            "                                                                  'add_10[0][0]']                 \n",
            "                                                                                                  \n",
            " layer_normalization_12 (LayerN  (None, 65, 768)     1536        ['add_11[0][0]']                 \n",
            " ormalization)                                                                                    \n",
            "                                                                                                  \n",
            " multi_head_attention_6 (MultiH  (None, 65, 768)     28339968    ['layer_normalization_12[0][0]', \n",
            " eadAttention)                                                    'layer_normalization_12[0][0]'] \n",
            "                                                                                                  \n",
            " add_12 (Add)                   (None, 65, 768)      0           ['multi_head_attention_6[0][0]', \n",
            "                                                                  'add_11[0][0]']                 \n",
            "                                                                                                  \n",
            " layer_normalization_13 (LayerN  (None, 65, 768)     1536        ['add_12[0][0]']                 \n",
            " ormalization)                                                                                    \n",
            "                                                                                                  \n",
            " dense_13 (Dense)               (None, 65, 3072)     2362368     ['layer_normalization_13[0][0]'] \n",
            "                                                                                                  \n",
            " dropout_6 (Dropout)            (None, 65, 3072)     0           ['dense_13[0][0]']               \n",
            "                                                                                                  \n",
            " dense_14 (Dense)               (None, 65, 768)      2360064     ['dropout_6[0][0]']              \n",
            "                                                                                                  \n",
            " add_13 (Add)                   (None, 65, 768)      0           ['dense_14[0][0]',               \n",
            "                                                                  'add_12[0][0]']                 \n",
            "                                                                                                  \n",
            " layer_normalization_14 (LayerN  (None, 65, 768)     1536        ['add_13[0][0]']                 \n",
            " ormalization)                                                                                    \n",
            "                                                                                                  \n",
            " multi_head_attention_7 (MultiH  (None, 65, 768)     28339968    ['layer_normalization_14[0][0]', \n",
            " eadAttention)                                                    'layer_normalization_14[0][0]'] \n",
            "                                                                                                  \n",
            " add_14 (Add)                   (None, 65, 768)      0           ['multi_head_attention_7[0][0]', \n",
            "                                                                  'add_13[0][0]']                 \n",
            "                                                                                                  \n",
            " layer_normalization_15 (LayerN  (None, 65, 768)     1536        ['add_14[0][0]']                 \n",
            " ormalization)                                                                                    \n",
            "                                                                                                  \n",
            " dense_15 (Dense)               (None, 65, 3072)     2362368     ['layer_normalization_15[0][0]'] \n",
            "                                                                                                  \n",
            " dropout_7 (Dropout)            (None, 65, 3072)     0           ['dense_15[0][0]']               \n",
            "                                                                                                  \n",
            " dense_16 (Dense)               (None, 65, 768)      2360064     ['dropout_7[0][0]']              \n",
            "                                                                                                  \n",
            " add_15 (Add)                   (None, 65, 768)      0           ['dense_16[0][0]',               \n",
            "                                                                  'add_14[0][0]']                 \n",
            "                                                                                                  \n",
            " layer_normalization_16 (LayerN  (None, 65, 768)     1536        ['add_15[0][0]']                 \n",
            " ormalization)                                                                                    \n",
            "                                                                                                  \n",
            " multi_head_attention_8 (MultiH  (None, 65, 768)     28339968    ['layer_normalization_16[0][0]', \n",
            " eadAttention)                                                    'layer_normalization_16[0][0]'] \n",
            "                                                                                                  \n",
            " add_16 (Add)                   (None, 65, 768)      0           ['multi_head_attention_8[0][0]', \n",
            "                                                                  'add_15[0][0]']                 \n",
            "                                                                                                  \n",
            " layer_normalization_17 (LayerN  (None, 65, 768)     1536        ['add_16[0][0]']                 \n",
            " ormalization)                                                                                    \n",
            "                                                                                                  \n",
            " dense_17 (Dense)               (None, 65, 3072)     2362368     ['layer_normalization_17[0][0]'] \n",
            "                                                                                                  \n",
            " dropout_8 (Dropout)            (None, 65, 3072)     0           ['dense_17[0][0]']               \n",
            "                                                                                                  \n",
            " dense_18 (Dense)               (None, 65, 768)      2360064     ['dropout_8[0][0]']              \n",
            "                                                                                                  \n",
            " add_17 (Add)                   (None, 65, 768)      0           ['dense_18[0][0]',               \n",
            "                                                                  'add_16[0][0]']                 \n",
            "                                                                                                  \n",
            " layer_normalization_18 (LayerN  (None, 65, 768)     1536        ['add_17[0][0]']                 \n",
            " ormalization)                                                                                    \n",
            "                                                                                                  \n",
            " multi_head_attention_9 (MultiH  (None, 65, 768)     28339968    ['layer_normalization_18[0][0]', \n",
            " eadAttention)                                                    'layer_normalization_18[0][0]'] \n",
            "                                                                                                  \n",
            " add_18 (Add)                   (None, 65, 768)      0           ['multi_head_attention_9[0][0]', \n",
            "                                                                  'add_17[0][0]']                 \n",
            "                                                                                                  \n",
            " layer_normalization_19 (LayerN  (None, 65, 768)     1536        ['add_18[0][0]']                 \n",
            " ormalization)                                                                                    \n",
            "                                                                                                  \n",
            " dense_19 (Dense)               (None, 65, 3072)     2362368     ['layer_normalization_19[0][0]'] \n",
            "                                                                                                  \n",
            " dropout_9 (Dropout)            (None, 65, 3072)     0           ['dense_19[0][0]']               \n",
            "                                                                                                  \n",
            " dense_20 (Dense)               (None, 65, 768)      2360064     ['dropout_9[0][0]']              \n",
            "                                                                                                  \n",
            " add_19 (Add)                   (None, 65, 768)      0           ['dense_20[0][0]',               \n",
            "                                                                  'add_18[0][0]']                 \n",
            "                                                                                                  \n",
            " layer_normalization_20 (LayerN  (None, 65, 768)     1536        ['add_19[0][0]']                 \n",
            " ormalization)                                                                                    \n",
            "                                                                                                  \n",
            " multi_head_attention_10 (Multi  (None, 65, 768)     28339968    ['layer_normalization_20[0][0]', \n",
            " HeadAttention)                                                   'layer_normalization_20[0][0]'] \n",
            "                                                                                                  \n",
            " add_20 (Add)                   (None, 65, 768)      0           ['multi_head_attention_10[0][0]',\n",
            "                                                                  'add_19[0][0]']                 \n",
            "                                                                                                  \n",
            " layer_normalization_21 (LayerN  (None, 65, 768)     1536        ['add_20[0][0]']                 \n",
            " ormalization)                                                                                    \n",
            "                                                                                                  \n",
            " dense_21 (Dense)               (None, 65, 3072)     2362368     ['layer_normalization_21[0][0]'] \n",
            "                                                                                                  \n",
            " dropout_10 (Dropout)           (None, 65, 3072)     0           ['dense_21[0][0]']               \n",
            "                                                                                                  \n",
            " dense_22 (Dense)               (None, 65, 768)      2360064     ['dropout_10[0][0]']             \n",
            "                                                                                                  \n",
            " add_21 (Add)                   (None, 65, 768)      0           ['dense_22[0][0]',               \n",
            "                                                                  'add_20[0][0]']                 \n",
            "                                                                                                  \n",
            " layer_normalization_22 (LayerN  (None, 65, 768)     1536        ['add_21[0][0]']                 \n",
            " ormalization)                                                                                    \n",
            "                                                                                                  \n",
            " multi_head_attention_11 (Multi  (None, 65, 768)     28339968    ['layer_normalization_22[0][0]', \n",
            " HeadAttention)                                                   'layer_normalization_22[0][0]'] \n",
            "                                                                                                  \n",
            " add_22 (Add)                   (None, 65, 768)      0           ['multi_head_attention_11[0][0]',\n",
            "                                                                  'add_21[0][0]']                 \n",
            "                                                                                                  \n",
            " layer_normalization_23 (LayerN  (None, 65, 768)     1536        ['add_22[0][0]']                 \n",
            " ormalization)                                                                                    \n",
            "                                                                                                  \n",
            " dense_23 (Dense)               (None, 65, 3072)     2362368     ['layer_normalization_23[0][0]'] \n",
            "                                                                                                  \n",
            " dropout_11 (Dropout)           (None, 65, 3072)     0           ['dense_23[0][0]']               \n",
            "                                                                                                  \n",
            " dense_24 (Dense)               (None, 65, 768)      2360064     ['dropout_11[0][0]']             \n",
            "                                                                                                  \n",
            " add_23 (Add)                   (None, 65, 768)      0           ['dense_24[0][0]',               \n",
            "                                                                  'add_22[0][0]']                 \n",
            "                                                                                                  \n",
            " layer_normalization_24 (LayerN  (None, 65, 768)     1536        ['add_23[0][0]']                 \n",
            " ormalization)                                                                                    \n",
            "                                                                                                  \n",
            " tf.__operators__.getitem (Slic  (None, 768)         0           ['layer_normalization_24[0][0]'] \n",
            " ingOpLambda)                                                                                     \n",
            "                                                                                                  \n",
            " dense_25 (Dense)               (None, 5)            3845        ['tf.__operators__.getitem[0][0]'\n",
            "                                                                 ]                                \n",
            "                                                                                                  \n",
            "==================================================================================================\n",
            "Total params: 398,232,581\n",
            "Trainable params: 398,232,581\n",
            "Non-trainable params: 0\n",
            "__________________________________________________________________________________________________\n"
          ]
        }
      ]
    },
    {
      "cell_type": "code",
      "source": [
        "model.compile(\n",
        "    loss='categorical_crossentropy',\n",
        "    optimizer=tf.keras.optimizers.Adam(hp['lr'],clipvalue=1.0),\n",
        "    metrics=['acc']\n",
        ")\n",
        "callbacks=[\n",
        "    ModelCheckpoint(model_path,monitor='val_loss',verbose=1,save_best_only=True),\n",
        "    ReduceLROnPlateau(monitor='val_loss',factor=0.1,patience=10,min_lr=1e-4),\n",
        "    CSVLogger(csv_path),\n",
        "    EarlyStopping(monitor='val_loss',patience=50,restore_best_weights=False)\n",
        "]"
      ],
      "metadata": {
        "id": "gKFGvXarLWcF"
      },
      "execution_count": 15,
      "outputs": []
    },
    {
      "cell_type": "code",
      "source": [
        "model.fit(train_ds,epochs=10,validation_data=valid_ds,callbacks=callbacks)"
      ],
      "metadata": {
        "colab": {
          "base_uri": "https://localhost:8080/"
        },
        "id": "tTW1tPSwMPvH",
        "outputId": "98c60e86-b086-4f80-b790-96f995114705"
      },
      "execution_count": null,
      "outputs": [
        {
          "output_type": "stream",
          "name": "stdout",
          "text": [
            "Epoch 1/10\n",
            " 1/93 [..............................] - ETA: 4:19:27 - loss: 2.3541 - acc: 0.0625"
          ]
        }
      ]
    },
    {
      "cell_type": "code",
      "source": [],
      "metadata": {
        "id": "NnlvIdqZSO5V"
      },
      "execution_count": null,
      "outputs": []
    }
  ]
}