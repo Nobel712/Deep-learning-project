{
  "cells": [
    {
      "cell_type": "markdown",
      "metadata": {
        "id": "view-in-github",
        "colab_type": "text"
      },
      "source": [
        "<a href=\"https://colab.research.google.com/github/Nobel712/Deep-learning-project/blob/main/Flower_classification.ipynb\" target=\"_parent\"><img src=\"https://colab.research.google.com/assets/colab-badge.svg\" alt=\"Open In Colab\"/></a>"
      ]
    },
    {
      "cell_type": "code",
      "execution_count": 3,
      "metadata": {
        "id": "LrevfcfNiFQc"
      },
      "outputs": [],
      "source": [
        "import numpy as np\n",
        "import matplotlib.pyplot as plt\n",
        "import seaborn as sns\n",
        "import os\n",
        "import tensorflow as tf\n",
        "from keras.preprocessing.image import ImageDataGenerator\n",
        "from keras import layers,models"
      ]
    },
    {
      "cell_type": "code",
      "execution_count": 4,
      "metadata": {
        "colab": {
          "base_uri": "https://localhost:8080/"
        },
        "id": "n8Fh0kXFijyX",
        "outputId": "3e528152-7663-4c48-adba-65597fed35d3"
      },
      "outputs": [
        {
          "output_type": "stream",
          "name": "stdout",
          "text": [
            "Mounted at /content/drive\n"
          ]
        }
      ],
      "source": [
        "from google.colab import drive\n",
        "drive.mount('/content/drive')"
      ]
    },
    {
      "cell_type": "code",
      "execution_count": 5,
      "metadata": {
        "id": "HosOaofajGsQ"
      },
      "outputs": [],
      "source": [
        "trandata=os.path.join(\"/content/drive/MyDrive/Deep Db/flowers\")"
      ]
    },
    {
      "cell_type": "code",
      "execution_count": 6,
      "metadata": {
        "id": "nANsmeBqkBrQ"
      },
      "outputs": [],
      "source": [
        "classdata=os.listdir(trandata)"
      ]
    },
    {
      "cell_type": "code",
      "execution_count": 7,
      "metadata": {
        "colab": {
          "base_uri": "https://localhost:8080/"
        },
        "id": "GEY7UWbPkHrn",
        "outputId": "0bddfaf9-fdd5-42f3-e4e1-aa5b784f377a"
      },
      "outputs": [
        {
          "output_type": "execute_result",
          "data": {
            "text/plain": [
              "['tulip', 'daisy', 'rose', 'dandelion', 'sunflower']"
            ]
          },
          "metadata": {},
          "execution_count": 7
        }
      ],
      "source": [
        "classdata"
      ]
    },
    {
      "cell_type": "code",
      "execution_count": 8,
      "metadata": {
        "id": "_BocTwK8kJIH"
      },
      "outputs": [],
      "source": [
        "c=0\n",
        "for i in classdata:\n",
        "  c+=len(os.listdir(trandata+\"/\"+i))"
      ]
    },
    {
      "cell_type": "code",
      "execution_count": 7,
      "metadata": {
        "colab": {
          "base_uri": "https://localhost:8080/"
        },
        "id": "bk7_6SC5aPHi",
        "outputId": "b363966b-838c-4bc9-b9f3-c6a692def363"
      },
      "outputs": [
        {
          "output_type": "execute_result",
          "data": {
            "text/plain": [
              "4317"
            ]
          },
          "metadata": {},
          "execution_count": 7
        }
      ],
      "source": [
        "c"
      ]
    },
    {
      "cell_type": "code",
      "execution_count": 9,
      "metadata": {
        "id": "ToyJVs0_vQU7"
      },
      "outputs": [],
      "source": [
        "dataGen=ImageDataGenerator(rescale=1./255,\n",
        "                           horizontal_flip=True,\n",
        "                           rotation_range=0.2,\n",
        "                           width_shift_range=0.2,\n",
        "                           height_shift_range=0.2)"
      ]
    },
    {
      "cell_type": "code",
      "execution_count": 10,
      "metadata": {
        "colab": {
          "base_uri": "https://localhost:8080/"
        },
        "id": "KiRf2l52aP5p",
        "outputId": "b4980b15-2988-4f98-bef6-00ce6c0ded4d"
      },
      "outputs": [
        {
          "output_type": "stream",
          "name": "stdout",
          "text": [
            "Found 4317 images belonging to 5 classes.\n"
          ]
        }
      ],
      "source": [
        "data=dataGen.flow_from_directory(trandata,\n",
        "                                            target_size=(150,150),\n",
        "                                            batch_size=64,\n",
        "                                            class_mode=\"categorical\",\n",
        "                                            classes=['daisy', 'dandelion', 'rose', 'sunflower', 'tulip'],\n",
        "                                            shuffle=True\n",
        "                                            )"
      ]
    },
    {
      "cell_type": "code",
      "execution_count": 11,
      "metadata": {
        "id": "wsAgc9w5y9Na"
      },
      "outputs": [],
      "source": [
        "x,y=next(data)"
      ]
    },
    {
      "cell_type": "code",
      "execution_count": 12,
      "metadata": {
        "colab": {
          "base_uri": "https://localhost:8080/"
        },
        "id": "LEU0EIfhzZJC",
        "outputId": "ad27fdf2-e784-4395-941b-f2aeb6eef2e5"
      },
      "outputs": [
        {
          "output_type": "execute_result",
          "data": {
            "text/plain": [
              "(64, 150, 150, 3)"
            ]
          },
          "metadata": {},
          "execution_count": 12
        }
      ],
      "source": [
        "x.shape"
      ]
    },
    {
      "cell_type": "code",
      "execution_count": 13,
      "metadata": {
        "colab": {
          "base_uri": "https://localhost:8080/",
          "height": 269
        },
        "id": "Wozeavg2zr95",
        "outputId": "4118a303-0342-4843-c0dc-482966908fca"
      },
      "outputs": [
        {
          "output_type": "display_data",
          "data": {
            "text/plain": [
              "<Figure size 432x288 with 1 Axes>"
            ],
            "image/png": "[encoded data removed]"
          },
          "metadata": {
            "needs_background": "light"
          }
        }
      ],
      "source": [
        "plt.imshow(x[0])\n",
        "plt.show()"
      ]
    },
    {
      "cell_type": "code",
      "execution_count": 14,
      "metadata": {
        "id": "PFLjlY-azy25"
      },
      "outputs": [],
      "source": [
        "model=models.Sequential()\n",
        "model.add(layers.Conv2D(32,(3,3),activation='relu',input_shape=(150,150,3)))\n",
        "model.add(layers.MaxPool2D((2,2)))\n",
        "\n",
        "model.add(layers.Conv2D(64,(3,3),activation='relu'))\n",
        "model.add(layers.MaxPool2D(2,2))\n",
        "\n",
        "model.add(layers.Conv2D(128,(3,3),activation='relu'))\n",
        "model.add(layers.MaxPool2D(2,2))\n",
        "\n",
        "model.add(layers.Flatten())\n",
        "\n",
        "model.add(layers.Dense(128,activation='relu'))\n",
        "model.add(layers.Dense(5,activation='softmax'))\n"
      ]
    },
    {
      "cell_type": "code",
      "execution_count": 15,
      "metadata": {
        "id": "85IzGu_m3_h_"
      },
      "outputs": [],
      "source": [
        "model.compile(optimizer='adam',\n",
        "              loss='categorical_crossentropy',\n",
        "              metrics=['accuracy'])"
      ]
    },
    {
      "cell_type": "code",
      "execution_count": 16,
      "metadata": {
        "colab": {
          "base_uri": "https://localhost:8080/"
        },
        "id": "x5g6jnLO4FJG",
        "outputId": "4e34509e-69ff-44d5-ac55-2dc650ca7725"
      },
      "outputs": [
        {
          "output_type": "stream",
          "name": "stdout",
          "text": [
            "Epoch 1/10\n",
            "68/68 [==============================] - 680s 10s/step - loss: 1.2724 - accuracy: 0.4732\n",
            "Epoch 2/10\n",
            "68/68 [==============================] - 35s 513ms/step - loss: 1.0315 - accuracy: 0.5918\n",
            "Epoch 3/10\n",
            "68/68 [==============================] - 36s 525ms/step - loss: 0.9351 - accuracy: 0.6319\n",
            "Epoch 4/10\n",
            "68/68 [==============================] - 35s 514ms/step - loss: 0.8853 - accuracy: 0.6537\n",
            "Epoch 5/10\n",
            "68/68 [==============================] - 35s 511ms/step - loss: 0.7887 - accuracy: 0.6996\n",
            "Epoch 6/10\n",
            "68/68 [==============================] - 36s 534ms/step - loss: 0.7727 - accuracy: 0.7081\n",
            "Epoch 7/10\n",
            "68/68 [==============================] - 35s 514ms/step - loss: 0.7325 - accuracy: 0.7158\n",
            "Epoch 8/10\n",
            "68/68 [==============================] - 35s 509ms/step - loss: 0.7116 - accuracy: 0.7308\n",
            "Epoch 9/10\n",
            "68/68 [==============================] - 36s 528ms/step - loss: 0.6855 - accuracy: 0.7408\n",
            "Epoch 10/10\n",
            "68/68 [==============================] - 35s 511ms/step - loss: 0.6649 - accuracy: 0.7491\n"
          ]
        }
      ],
      "source": [
        "model_data=model.fit(data,epochs=10)"
      ]
    },
    {
      "cell_type": "code",
      "execution_count": null,
      "metadata": {
        "id": "crt93alk4FGH"
      },
      "outputs": [],
      "source": [
        ""
      ]
    },
    {
      "cell_type": "code",
      "execution_count": null,
      "metadata": {
        "id": "rlVPPdI34FDU"
      },
      "outputs": [],
      "source": [
        ""
      ]
    },
    {
      "cell_type": "code",
      "execution_count": null,
      "metadata": {
        "id": "Pvns26XN4FAS"
      },
      "outputs": [],
      "source": [
        ""
      ]
    },
    {
      "cell_type": "code",
      "execution_count": null,
      "metadata": {
        "id": "c82MzG8x4E84"
      },
      "outputs": [],
      "source": [
        ""
      ]
    },
    {
      "cell_type": "code",
      "execution_count": null,
      "metadata": {
        "id": "6E3Oeh9n4E5o"
      },
      "outputs": [],
      "source": [
        ""
      ]
    },
    {
      "cell_type": "code",
      "execution_count": null,
      "metadata": {
        "id": "1KAkVDEd4E2p"
      },
      "outputs": [],
      "source": [
        ""
      ]
    }
  ],
  "metadata": {
    "colab": {
      "name": "Flower classification.ipynb",
      "provenance": [],
      "authorship_tag": "ABX9TyPVyEzdFxHstkgfojGQUYky",
      "include_colab_link": true
    },
    "kernelspec": {
      "display_name": "Python 3",
      "name": "python3"
    },
    "language_info": {
      "name": "python"
    },
    "accelerator": "GPU",
    "gpuClass": "standard"
  },
  "nbformat": 4,
  "nbformat_minor": 0
}