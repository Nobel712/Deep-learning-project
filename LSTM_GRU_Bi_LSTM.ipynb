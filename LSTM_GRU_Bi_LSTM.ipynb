{
  "nbformat": 4,
  "nbformat_minor": 0,
  "metadata": {
    "colab": {
      "provenance": [],
      "authorship_tag": "ABX9TyNvXGO1LbeTDJ31EAW/2Fqo",
      "include_colab_link": true
    },
    "kernelspec": {
      "name": "python3",
      "display_name": "Python 3"
    },
    "language_info": {
      "name": "python"
    },
    "accelerator": "GPU",
    "gpuClass": "standard"
  },
  "cells": [
    {
      "cell_type": "markdown",
      "metadata": {
        "id": "view-in-github",
        "colab_type": "text"
      },
      "source": [
        "<a href=\"https://colab.research.google.com/github/Nobel712/Deep-learning-project/blob/main/LSTM_GRU_Bi_LSTM.ipynb\" target=\"_parent\"><img src=\"https://colab.research.google.com/assets/colab-badge.svg\" alt=\"Open In Colab\"/></a>"
      ]
    },
    {
      "cell_type": "code",
      "execution_count": null,
      "metadata": {
        "id": "XL3wUUZ961yD",
        "colab": {
          "base_uri": "https://localhost:8080/"
        },
        "outputId": "39d2cdd6-f621-4fda-af3e-3d3641a3acc1"
      },
      "outputs": [
        {
          "output_type": "stream",
          "name": "stdout",
          "text": [
            "Using matplotlib backend: agg\n"
          ]
        }
      ],
      "source": [
        "import numpy as np\n",
        "import pandas as pd\n",
        "import seaborn as sns\n",
        "import matplotlib as plt\n",
        "from tqdm import tqdm\n",
        "from sklearn.model_selection import train_test_split\n",
        "import tensorflow as tf\n",
        "from tensorflow.keras.models import Sequential\n",
        "from tensorflow.keras.layers import LSTM,GRU,SimpleRNN,Dense\n",
        "from tensorflow.keras.layers import Activation,Dropout,Embedding\n",
        "from tensorflow.keras.layers import BatchNormalization\n",
        "from tensorflow.keras.layers import GlobalAveragePooling1D,Conv1D,MaxPooling1D,Flatten,Bidirectional,SpatialDropout1D\n",
        "from tensorflow.keras.preprocessing import sequence,text\n",
        "from tensorflow.keras.callbacks import EarlyStopping\n",
        "from tensorflow.python.keras.utils import np_utils\n",
        "from sklearn import preprocessing,decomposition,model_selection,metrics,pipeline\n",
        "%matplotlib\n",
        "from plotly import graph_objs as  go\n",
        "import plotly.express as px\n",
        "import plotly.figure_factory as ff"
      ]
    },
    {
      "cell_type": "code",
      "source": [
        "tf.test.is_gpu_available()"
      ],
      "metadata": {
        "colab": {
          "base_uri": "https://localhost:8080/"
        },
        "id": "NhCIqasasyHm",
        "outputId": "5b794925-3237-48c9-db0d-6afea750f532"
      },
      "execution_count": null,
      "outputs": [
        {
          "output_type": "execute_result",
          "data": {
            "text/plain": [
              "True"
            ]
          },
          "metadata": {},
          "execution_count": 17
        }
      ]
    },
    {
      "cell_type": "code",
      "source": [
        "try:\n",
        "  tpu=tf.distribute.cluster_resolver.TPUClusterResolver()\n",
        "  print('Running on GPU',tpu.master())\n",
        "except ValueError:\n",
        "  tpu=None\n",
        "if tpu:\n",
        "  tf.config.experimental_connect_to_cluster(tpu)\n",
        "  tf.tpu.experimental.initialize_tpu_system(tpu)\n",
        "  strategy=tf.distribute.experimental.TPUStrategy(tpu)\n",
        "else:\n",
        "  strategy=tf.distribute.get_strategy()\n",
        "print(strategy.num_replicas_in_sync)"
      ],
      "metadata": {
        "colab": {
          "base_uri": "https://localhost:8080/"
        },
        "id": "fWtm1Jl-ASj1",
        "outputId": "97529ad6-82c8-48db-a8cb-d287593aafbb"
      },
      "execution_count": null,
      "outputs": [
        {
          "output_type": "stream",
          "name": "stdout",
          "text": [
            "1\n"
          ]
        }
      ]
    },
    {
      "cell_type": "code",
      "source": [
        " train=pd.read_csv('/content/train.csv')"
      ],
      "metadata": {
        "id": "Fp7vOalAjTS6"
      },
      "execution_count": null,
      "outputs": []
    },
    {
      "cell_type": "code",
      "source": [
        "train.head()"
      ],
      "metadata": {
        "colab": {
          "base_uri": "https://localhost:8080/",
          "height": 206
        },
        "id": "DQ8gjpfewlEW",
        "outputId": "35536eaa-5618-4929-f847-bbcb30ce213d"
      },
      "execution_count": null,
      "outputs": [
        {
          "output_type": "execute_result",
          "data": {
            "text/plain": [
              "                 id                                       comment_text  toxic  \\\n",
              "0  0000997932d777bf  Explanation\\nWhy the edits made under my usern...      0   \n",
              "1  000103f0d9cfb60f  D'aww! He matches this background colour I'm s...      0   \n",
              "2  000113f07ec002fd  Hey man, I'm really not trying to edit war. It...      0   \n",
              "3  0001b41b1c6bb37e  \"\\nMore\\nI can't make any real suggestions on ...      0   \n",
              "4  0001d958c54c6e35  You, sir, are my hero. Any chance you remember...      0   \n",
              "\n",
              "   severe_toxic  obscene  threat  insult  identity_hate  \n",
              "0             0        0       0       0              0  \n",
              "1             0        0       0       0              0  \n",
              "2             0        0       0       0              0  \n",
              "3             0        0       0       0              0  \n",
              "4             0        0       0       0              0  "
            ],
            "text/html": [
              "\n",
              "  <div id=\"df-722dcca7-9316-4f89-b774-c252ac25d815\">\n",
              "    <div class=\"colab-df-container\">\n",
              "      <div>\n",
              "<style scoped>\n",
              "    .dataframe tbody tr th:only-of-type {\n",
              "        vertical-align: middle;\n",
              "    }\n",
              "\n",
              "    .dataframe tbody tr th {\n",
              "        vertical-align: top;\n",
              "    }\n",
              "\n",
              "    .dataframe thead th {\n",
              "        text-align: right;\n",
              "    }\n",
              "</style>\n",
              "<table border=\"1\" class=\"dataframe\">\n",
              "  <thead>\n",
              "    <tr style=\"text-align: right;\">\n",
              "      <th></th>\n",
              "      <th>id</th>\n",
              "      <th>comment_text</th>\n",
              "      <th>toxic</th>\n",
              "      <th>severe_toxic</th>\n",
              "      <th>obscene</th>\n",
              "      <th>threat</th>\n",
              "      <th>insult</th>\n",
              "      <th>identity_hate</th>\n",
              "    </tr>\n",
              "  </thead>\n",
              "  <tbody>\n",
              "    <tr>\n",
              "      <th>0</th>\n",
              "      <td>0000997932d777bf</td>\n",
              "      <td>Explanation\\nWhy the edits made under my usern...</td>\n",
              "      <td>0</td>\n",
              "      <td>0</td>\n",
              "      <td>0</td>\n",
              "      <td>0</td>\n",
              "      <td>0</td>\n",
              "      <td>0</td>\n",
              "    </tr>\n",
              "    <tr>\n",
              "      <th>1</th>\n",
              "      <td>000103f0d9cfb60f</td>\n",
              "      <td>D'aww! He matches this background colour I'm s...</td>\n",
              "      <td>0</td>\n",
              "      <td>0</td>\n",
              "      <td>0</td>\n",
              "      <td>0</td>\n",
              "      <td>0</td>\n",
              "      <td>0</td>\n",
              "    </tr>\n",
              "    <tr>\n",
              "      <th>2</th>\n",
              "      <td>000113f07ec002fd</td>\n",
              "      <td>Hey man, I'm really not trying to edit war. It...</td>\n",
              "      <td>0</td>\n",
              "      <td>0</td>\n",
              "      <td>0</td>\n",
              "      <td>0</td>\n",
              "      <td>0</td>\n",
              "      <td>0</td>\n",
              "    </tr>\n",
              "    <tr>\n",
              "      <th>3</th>\n",
              "      <td>0001b41b1c6bb37e</td>\n",
              "      <td>\"\\nMore\\nI can't make any real suggestions on ...</td>\n",
              "      <td>0</td>\n",
              "      <td>0</td>\n",
              "      <td>0</td>\n",
              "      <td>0</td>\n",
              "      <td>0</td>\n",
              "      <td>0</td>\n",
              "    </tr>\n",
              "    <tr>\n",
              "      <th>4</th>\n",
              "      <td>0001d958c54c6e35</td>\n",
              "      <td>You, sir, are my hero. Any chance you remember...</td>\n",
              "      <td>0</td>\n",
              "      <td>0</td>\n",
              "      <td>0</td>\n",
              "      <td>0</td>\n",
              "      <td>0</td>\n",
              "      <td>0</td>\n",
              "    </tr>\n",
              "  </tbody>\n",
              "</table>\n",
              "</div>\n",
              "      <button class=\"colab-df-convert\" onclick=\"convertToInteractive('df-722dcca7-9316-4f89-b774-c252ac25d815')\"\n",
              "              title=\"Convert this dataframe to an interactive table.\"\n",
              "              style=\"display:none;\">\n",
              "        \n",
              "  <svg xmlns=\"http://www.w3.org/2000/svg\" height=\"24px\"viewBox=\"0 0 24 24\"\n",
              "       width=\"24px\">\n",
              "    <path d=\"M0 0h24v24H0V0z\" fill=\"none\"/>\n",
              "    <path d=\"M18.56 5.44l.94 2.06.94-2.06 2.06-.94-2.06-.94-.94-2.06-.94 2.06-2.06.94zm-11 1L8.5 8.5l.94-2.06 2.06-.94-2.06-.94L8.5 2.5l-.94 2.06-2.06.94zm10 10l.94 2.06.94-2.06 2.06-.94-2.06-.94-.94-2.06-.94 2.06-2.06.94z\"/><path d=\"M17.41 7.96l-1.37-1.37c-.4-.4-.92-.59-1.43-.59-.52 0-1.04.2-1.43.59L10.3 9.45l-7.72 7.72c-.78.78-.78 2.05 0 2.83L4 21.41c.39.39.9.59 1.41.59.51 0 1.02-.2 1.41-.59l7.78-7.78 2.81-2.81c.8-.78.8-2.07 0-2.86zM5.41 20L4 18.59l7.72-7.72 1.47 1.35L5.41 20z\"/>\n",
              "  </svg>\n",
              "      </button>\n",
              "      \n",
              "  <style>\n",
              "    .colab-df-container {\n",
              "      display:flex;\n",
              "      flex-wrap:wrap;\n",
              "      gap: 12px;\n",
              "    }\n",
              "\n",
              "    .colab-df-convert {\n",
              "      background-color: #E8F0FE;\n",
              "      border: none;\n",
              "      border-radius: 50%;\n",
              "      cursor: pointer;\n",
              "      display: none;\n",
              "      fill: #1967D2;\n",
              "      height: 32px;\n",
              "      padding: 0 0 0 0;\n",
              "      width: 32px;\n",
              "    }\n",
              "\n",
              "    .colab-df-convert:hover {\n",
              "      background-color: #E2EBFA;\n",
              "      box-shadow: 0px 1px 2px rgba(60, 64, 67, 0.3), 0px 1px 3px 1px rgba(60, 64, 67, 0.15);\n",
              "      fill: #174EA6;\n",
              "    }\n",
              "\n",
              "    [theme=dark] .colab-df-convert {\n",
              "      background-color: #3B4455;\n",
              "      fill: #D2E3FC;\n",
              "    }\n",
              "\n",
              "    [theme=dark] .colab-df-convert:hover {\n",
              "      background-color: #434B5C;\n",
              "      box-shadow: 0px 1px 3px 1px rgba(0, 0, 0, 0.15);\n",
              "      filter: drop-shadow(0px 1px 2px rgba(0, 0, 0, 0.3));\n",
              "      fill: #FFFFFF;\n",
              "    }\n",
              "  </style>\n",
              "\n",
              "      <script>\n",
              "        const buttonEl =\n",
              "          document.querySelector('#df-722dcca7-9316-4f89-b774-c252ac25d815 button.colab-df-convert');\n",
              "        buttonEl.style.display =\n",
              "          google.colab.kernel.accessAllowed ? 'block' : 'none';\n",
              "\n",
              "        async function convertToInteractive(key) {\n",
              "          const element = document.querySelector('#df-722dcca7-9316-4f89-b774-c252ac25d815');\n",
              "          const dataTable =\n",
              "            await google.colab.kernel.invokeFunction('convertToInteractive',\n",
              "                                                     [key], {});\n",
              "          if (!dataTable) return;\n",
              "\n",
              "          const docLinkHtml = 'Like what you see? Visit the ' +\n",
              "            '<a target=\"_blank\" href=https://colab.research.google.com/notebooks/data_table.ipynb>data table notebook</a>'\n",
              "            + ' to learn more about interactive tables.';\n",
              "          element.innerHTML = '';\n",
              "          dataTable['output_type'] = 'display_data';\n",
              "          await google.colab.output.renderOutput(dataTable, element);\n",
              "          const docLink = document.createElement('div');\n",
              "          docLink.innerHTML = docLinkHtml;\n",
              "          element.appendChild(docLink);\n",
              "        }\n",
              "      </script>\n",
              "    </div>\n",
              "  </div>\n",
              "  "
            ]
          },
          "metadata": {},
          "execution_count": 19
        }
      ]
    },
    {
      "cell_type": "code",
      "source": [
        "train['threat'].value_counts()"
      ],
      "metadata": {
        "colab": {
          "base_uri": "https://localhost:8080/"
        },
        "id": "aNxFPUZ6wn4l",
        "outputId": "52deb0d0-a3c9-4a53-f8b8-36e771fbeeb1"
      },
      "execution_count": null,
      "outputs": [
        {
          "output_type": "execute_result",
          "data": {
            "text/plain": [
              "0    159093\n",
              "1       478\n",
              "Name: threat, dtype: int64"
            ]
          },
          "metadata": {},
          "execution_count": 20
        }
      ]
    },
    {
      "cell_type": "code",
      "source": [
        "# col=list(train.columns)\n",
        "# for i in col:\n",
        "#   print('columns Name is :',i,\"-->\", train.value_counts)"
      ],
      "metadata": {
        "id": "_xD1ACZ-w-sM"
      },
      "execution_count": null,
      "outputs": []
    },
    {
      "cell_type": "code",
      "source": [
        "train.drop(['severe_toxic','obscene','threat','insult','identity_hate'],axis=1,inplace=True)\n",
        "train=train.loc[:12000,:]\n",
        "train.shape"
      ],
      "metadata": {
        "colab": {
          "base_uri": "https://localhost:8080/"
        },
        "id": "QERKE34ExT0U",
        "outputId": "300c20df-8ba8-48de-d46e-9459d7cadb40"
      },
      "execution_count": null,
      "outputs": [
        {
          "output_type": "execute_result",
          "data": {
            "text/plain": [
              "(12001, 3)"
            ]
          },
          "metadata": {},
          "execution_count": 22
        }
      ]
    },
    {
      "cell_type": "code",
      "source": [
        "train['comment_text'][0]"
      ],
      "metadata": {
        "colab": {
          "base_uri": "https://localhost:8080/",
          "height": 53
        },
        "id": "9f-EAlXfyzoV",
        "outputId": "672c7cf8-bbd0-4794-ca4d-42fe86c20bbf"
      },
      "execution_count": null,
      "outputs": [
        {
          "output_type": "execute_result",
          "data": {
            "text/plain": [
              "\"Explanation\\nWhy the edits made under my username Hardcore Metallica Fan were reverted? They weren't vandalisms, just closure on some GAs after I voted at New York Dolls FAC. And please don't remove the template from the talk page since I'm retired now.89.205.38.27\""
            ],
            "application/vnd.google.colaboratory.intrinsic+json": {
              "type": "string"
            }
          },
          "metadata": {},
          "execution_count": 23
        }
      ]
    },
    {
      "cell_type": "code",
      "source": [
        "train['comment_text'].apply(lambda x:len(str(x).split())).max()"
      ],
      "metadata": {
        "colab": {
          "base_uri": "https://localhost:8080/"
        },
        "id": "Ziru_v2Zy-Xi",
        "outputId": "ba5866fb-6f8c-4cb0-ef0f-1acb1eae82d9"
      },
      "execution_count": null,
      "outputs": [
        {
          "output_type": "execute_result",
          "data": {
            "text/plain": [
              "1403"
            ]
          },
          "metadata": {},
          "execution_count": 24
        }
      ]
    },
    {
      "cell_type": "code",
      "source": [
        "def roc_auc(prdictions,target):\n",
        "  fpr,tpr,thresholds=metrics.roc_curve(target,prdictions)\n",
        "  roc_auc=metrics.auc(fpr,tpr)\n",
        "  return roc_auc"
      ],
      "metadata": {
        "id": "AjPYi-SZy48c"
      },
      "execution_count": null,
      "outputs": []
    },
    {
      "cell_type": "code",
      "source": [
        "xtrain,xvalid,ytrain,yvalid=train_test_split(train.comment_text.values,train.toxic.values,\n",
        "                                            stratify=train.toxic.values,\n",
        "                                            random_state=42,\n",
        "                                            test_size=0.2,shuffle=True)"
      ],
      "metadata": {
        "id": "MptStu0VzwKm"
      },
      "execution_count": null,
      "outputs": []
    },
    {
      "cell_type": "code",
      "source": [
        "token=text.Tokenizer(num_words=None)\n",
        "max_len=1500\n",
        "token.fit_on_texts(list(xtrain)+list(xvalid))\n",
        "xtrain_seq=token.texts_to_sequences(xtrain)\n",
        "xvalid_seq=token.texts_to_sequences(xvalid)\n",
        "xtrain_pad=sequence.pad_sequences(xtrain_seq,maxlen=max_len)\n",
        "xvalid_pad=sequence.pad_sequences(xvalid_seq,maxlen=max_len)\n",
        "word_index=token.word_index"
      ],
      "metadata": {
        "id": "aTRxcCvR0ZY2"
      },
      "execution_count": null,
      "outputs": []
    },
    {
      "cell_type": "code",
      "source": [
        "word_index"
      ],
      "metadata": {
        "colab": {
          "base_uri": "https://localhost:8080/"
        },
        "id": "v1dBVRwf55dN",
        "outputId": "d57d7526-3c1b-465d-ff51-7aab1c3f732b"
      },
      "execution_count": null,
      "outputs": [
        {
          "output_type": "execute_result",
          "data": {
            "text/plain": [
              "{'the': 1,\n",
              " 'to': 2,\n",
              " 'of': 3,\n",
              " 'and': 4,\n",
              " 'a': 5,\n",
              " 'you': 6,\n",
              " 'i': 7,\n",
              " 'is': 8,\n",
              " 'that': 9,\n",
              " 'in': 10,\n",
              " 'it': 11,\n",
              " 'for': 12,\n",
              " 'this': 13,\n",
              " 'not': 14,\n",
              " 'on': 15,\n",
              " 'be': 16,\n",
              " 'as': 17,\n",
              " 'are': 18,\n",
              " 'have': 19,\n",
              " 'with': 20,\n",
              " 'your': 21,\n",
              " 'if': 22,\n",
              " 'was': 23,\n",
              " 'article': 24,\n",
              " 'or': 25,\n",
              " 'but': 26,\n",
              " 'page': 27,\n",
              " 'my': 28,\n",
              " 'an': 29,\n",
              " 'wikipedia': 30,\n",
              " 'by': 31,\n",
              " 'from': 32,\n",
              " 'do': 33,\n",
              " 'at': 34,\n",
              " 'about': 35,\n",
              " 'me': 36,\n",
              " 'so': 37,\n",
              " 'talk': 38,\n",
              " 'can': 39,\n",
              " 'what': 40,\n",
              " 'there': 41,\n",
              " 'all': 42,\n",
              " 'has': 43,\n",
              " 'no': 44,\n",
              " 'will': 45,\n",
              " 'one': 46,\n",
              " 'would': 47,\n",
              " 'like': 48,\n",
              " 'please': 49,\n",
              " 'he': 50,\n",
              " 'just': 51,\n",
              " 'they': 52,\n",
              " 'any': 53,\n",
              " 'which': 54,\n",
              " 'been': 55,\n",
              " 'more': 56,\n",
              " 'other': 57,\n",
              " 'we': 58,\n",
              " \"don't\": 59,\n",
              " 'his': 60,\n",
              " 'should': 61,\n",
              " 'some': 62,\n",
              " 'here': 63,\n",
              " 'see': 64,\n",
              " 'who': 65,\n",
              " 'also': 66,\n",
              " 'because': 67,\n",
              " 'know': 68,\n",
              " 'am': 69,\n",
              " 'think': 70,\n",
              " \"i'm\": 71,\n",
              " 'edit': 72,\n",
              " 'how': 73,\n",
              " 'up': 74,\n",
              " 'why': 75,\n",
              " 'out': 76,\n",
              " \"it's\": 77,\n",
              " 'then': 78,\n",
              " 'people': 79,\n",
              " 'use': 80,\n",
              " 'only': 81,\n",
              " 'were': 82,\n",
              " 'time': 83,\n",
              " 'when': 84,\n",
              " 'articles': 85,\n",
              " 'being': 86,\n",
              " 'may': 87,\n",
              " 'did': 88,\n",
              " 'thanks': 89,\n",
              " 'user': 90,\n",
              " 'now': 91,\n",
              " 'their': 92,\n",
              " 'than': 93,\n",
              " 'even': 94,\n",
              " 'them': 95,\n",
              " 'get': 96,\n",
              " 'fuck': 97,\n",
              " 'fish': 98,\n",
              " 'make': 99,\n",
              " 'go': 100,\n",
              " 'good': 101,\n",
              " 'had': 102,\n",
              " 'information': 103,\n",
              " 'could': 104,\n",
              " 'well': 105,\n",
              " 'very': 106,\n",
              " 'its': 107,\n",
              " 'deletion': 108,\n",
              " 'does': 109,\n",
              " 'sources': 110,\n",
              " 'balls': 111,\n",
              " 'wp': 112,\n",
              " 'want': 113,\n",
              " 'such': 114,\n",
              " 'first': 115,\n",
              " 'way': 116,\n",
              " 'name': 117,\n",
              " 'say': 118,\n",
              " 'made': 119,\n",
              " 'new': 120,\n",
              " 'image': 121,\n",
              " 'pages': 122,\n",
              " 'source': 123,\n",
              " 'going': 124,\n",
              " 'these': 125,\n",
              " 'again': 126,\n",
              " 'ass': 127,\n",
              " 'used': 128,\n",
              " 'where': 129,\n",
              " 'really': 130,\n",
              " 'section': 131,\n",
              " 'edits': 132,\n",
              " 'sex': 133,\n",
              " 'need': 134,\n",
              " 'most': 135,\n",
              " 'many': 136,\n",
              " 'help': 137,\n",
              " 'same': 138,\n",
              " 'much': 139,\n",
              " 'thank': 140,\n",
              " 'since': 141,\n",
              " \"i've\": 142,\n",
              " 'editing': 143,\n",
              " 'find': 144,\n",
              " 'after': 145,\n",
              " 'yourself': 146,\n",
              " 'read': 147,\n",
              " 'wiki': 148,\n",
              " 'discussion': 149,\n",
              " 'into': 150,\n",
              " 'right': 151,\n",
              " 'hate': 152,\n",
              " 'those': 153,\n",
              " 'before': 154,\n",
              " 'said': 155,\n",
              " 'fact': 156,\n",
              " 'him': 157,\n",
              " 'two': 158,\n",
              " 'someone': 159,\n",
              " 'work': 160,\n",
              " 'own': 161,\n",
              " 'look': 162,\n",
              " 'point': 163,\n",
              " 'something': 164,\n",
              " 'too': 165,\n",
              " 'deleted': 166,\n",
              " 'take': 167,\n",
              " 'still': 168,\n",
              " 'over': 169,\n",
              " 'add': 170,\n",
              " 'back': 171,\n",
              " 'her': 172,\n",
              " 'link': 173,\n",
              " 'history': 174,\n",
              " 'stop': 175,\n",
              " 'under': 176,\n",
              " 'content': 177,\n",
              " 'utc': 178,\n",
              " 'u': 179,\n",
              " '1': 180,\n",
              " 'blocked': 181,\n",
              " 'never': 182,\n",
              " 'case': 183,\n",
              " 'list': 184,\n",
              " 'added': 185,\n",
              " 'without': 186,\n",
              " \"you're\": 187,\n",
              " 'comment': 188,\n",
              " '2': 189,\n",
              " 'removed': 190,\n",
              " 'place': 191,\n",
              " 'editors': 192,\n",
              " 'might': 193,\n",
              " 'better': 194,\n",
              " 'another': 195,\n",
              " 'however': 196,\n",
              " 'using': 197,\n",
              " 'our': 198,\n",
              " 'note': 199,\n",
              " 'free': 200,\n",
              " 'ask': 201,\n",
              " 'personal': 202,\n",
              " \"doesn't\": 203,\n",
              " 'she': 204,\n",
              " 'done': 205,\n",
              " 'http': 206,\n",
              " 'reason': 207,\n",
              " 'block': 208,\n",
              " 'put': 209,\n",
              " 'anything': 210,\n",
              " \"that's\": 211,\n",
              " 'question': 212,\n",
              " 'thing': 213,\n",
              " 'sure': 214,\n",
              " 'person': 215,\n",
              " 'while': 216,\n",
              " 'things': 217,\n",
              " 'off': 218,\n",
              " 'believe': 219,\n",
              " 'both': 220,\n",
              " 'feel': 221,\n",
              " 'vandalism': 222,\n",
              " 'policy': 223,\n",
              " 'welcome': 224,\n",
              " 'actually': 225,\n",
              " 'part': 226,\n",
              " 'seems': 227,\n",
              " 'us': 228,\n",
              " 'nigger': 229,\n",
              " 'though': 230,\n",
              " 'hope': 231,\n",
              " 'against': 232,\n",
              " 'come': 233,\n",
              " 'problem': 234,\n",
              " 'com': 235,\n",
              " \"didn't\": 236,\n",
              " 'change': 237,\n",
              " 'comments': 238,\n",
              " \"can't\": 239,\n",
              " 'editor': 240,\n",
              " 'world': 241,\n",
              " 'sorry': 242,\n",
              " 'hi': 243,\n",
              " 'life': 244,\n",
              " 'questions': 245,\n",
              " 'post': 246,\n",
              " '3': 247,\n",
              " 'reference': 248,\n",
              " 'different': 249,\n",
              " 'little': 250,\n",
              " 'links': 251,\n",
              " \"i'll\": 252,\n",
              " 'already': 253,\n",
              " 'wrong': 254,\n",
              " 'understand': 255,\n",
              " 'years': 256,\n",
              " 'oh': 257,\n",
              " 'give': 258,\n",
              " 'making': 259,\n",
              " 'others': 260,\n",
              " 'agree': 261,\n",
              " 'nothing': 262,\n",
              " 'keep': 263,\n",
              " 'anyone': 264,\n",
              " 'reliable': 265,\n",
              " 'must': 266,\n",
              " 'english': 267,\n",
              " 'fair': 268,\n",
              " 'copyright': 269,\n",
              " 'mean': 270,\n",
              " 'rather': 271,\n",
              " 'best': 272,\n",
              " 'last': 273,\n",
              " 'issue': 274,\n",
              " 'subject': 275,\n",
              " 'far': 276,\n",
              " 'remove': 277,\n",
              " \"isn't\": 278,\n",
              " 'leave': 279,\n",
              " 'write': 280,\n",
              " 'etc': 281,\n",
              " 'long': 282,\n",
              " 'references': 283,\n",
              " 'tag': 284,\n",
              " 'above': 285,\n",
              " 'few': 286,\n",
              " 'e': 287,\n",
              " 'says': 288,\n",
              " 'trying': 289,\n",
              " 'non': 290,\n",
              " 'day': 291,\n",
              " 'found': 292,\n",
              " 'word': 293,\n",
              " 'doing': 294,\n",
              " 'got': 295,\n",
              " 'try': 296,\n",
              " 'evidence': 297,\n",
              " 'either': 298,\n",
              " 'delete': 299,\n",
              " 'sexsex': 300,\n",
              " 'every': 301,\n",
              " 'yes': 302,\n",
              " 'example': 303,\n",
              " 'probably': 304,\n",
              " 'through': 305,\n",
              " 'speedy': 306,\n",
              " 'simply': 307,\n",
              " 'between': 308,\n",
              " 'least': 309,\n",
              " 'text': 310,\n",
              " 'called': 311,\n",
              " 'encyclopedia': 312,\n",
              " 'great': 313,\n",
              " 'site': 314,\n",
              " 'users': 315,\n",
              " 'having': 316,\n",
              " 'book': 317,\n",
              " 'show': 318,\n",
              " 'based': 319,\n",
              " 'around': 320,\n",
              " 'original': 321,\n",
              " 'yet': 322,\n",
              " 'let': 323,\n",
              " 'request': 324,\n",
              " 'war': 325,\n",
              " 'reverted': 326,\n",
              " 'images': 327,\n",
              " 'opinion': 328,\n",
              " 'else': 329,\n",
              " 'enough': 330,\n",
              " 'perhaps': 331,\n",
              " 'created': 332,\n",
              " 'hello': 333,\n",
              " 'material': 334,\n",
              " 'down': 335,\n",
              " 'www': 336,\n",
              " 'ever': 337,\n",
              " 'account': 338,\n",
              " 'state': 339,\n",
              " 'check': 340,\n",
              " 'version': 341,\n",
              " 'view': 342,\n",
              " 'adding': 343,\n",
              " 'clearly': 344,\n",
              " 'states': 345,\n",
              " 're': 346,\n",
              " 'clear': 347,\n",
              " 'contributions': 348,\n",
              " 'message': 349,\n",
              " 'written': 350,\n",
              " 'bot': 351,\n",
              " 'style': 352,\n",
              " 'continue': 353,\n",
              " 'further': 354,\n",
              " 'consensus': 355,\n",
              " 'bit': 356,\n",
              " 'top': 357,\n",
              " 'needs': 358,\n",
              " 'support': 359,\n",
              " 'matter': 360,\n",
              " 'important': 361,\n",
              " 'ip': 362,\n",
              " '5': 363,\n",
              " 'saying': 364,\n",
              " 'times': 365,\n",
              " 'fucking': 366,\n",
              " 'review': 367,\n",
              " \"i'd\": 368,\n",
              " 'given': 369,\n",
              " 'website': 370,\n",
              " 'tell': 371,\n",
              " 'thought': 372,\n",
              " 'statement': 373,\n",
              " 'language': 374,\n",
              " 's': 375,\n",
              " '—': 376,\n",
              " 'bad': 377,\n",
              " 'title': 378,\n",
              " 'true': 379,\n",
              " '4': 380,\n",
              " 'once': 381,\n",
              " 'each': 382,\n",
              " 'real': 383,\n",
              " 'lot': 384,\n",
              " 'several': 385,\n",
              " 'term': 386,\n",
              " 'quite': 387,\n",
              " 'old': 388,\n",
              " 'instead': 389,\n",
              " 'claim': 390,\n",
              " 'until': 391,\n",
              " 'number': 392,\n",
              " 'revert': 393,\n",
              " 'maybe': 394,\n",
              " 'research': 395,\n",
              " '8': 396,\n",
              " 'facts': 397,\n",
              " 'mention': 398,\n",
              " 'year': 399,\n",
              " 'media': 400,\n",
              " 'always': 401,\n",
              " 'whether': 402,\n",
              " 'three': 403,\n",
              " 'template': 404,\n",
              " 'notable': 405,\n",
              " 'idea': 406,\n",
              " 'left': 407,\n",
              " 'changes': 408,\n",
              " 'correct': 409,\n",
              " 'consider': 410,\n",
              " 'following': 411,\n",
              " 'criteria': 412,\n",
              " 'useless': 413,\n",
              " 'd': 414,\n",
              " 'words': 415,\n",
              " 'pov': 416,\n",
              " 'means': 417,\n",
              " 'considered': 418,\n",
              " 'seem': 419,\n",
              " 'main': 420,\n",
              " 'fan': 421,\n",
              " \"there's\": 422,\n",
              " 'notice': 423,\n",
              " 'call': 424,\n",
              " 'c': 425,\n",
              " 'cannot': 426,\n",
              " 'admin': 427,\n",
              " 'american': 428,\n",
              " 'school': 429,\n",
              " 'homeland': 430,\n",
              " 'address': 431,\n",
              " 'second': 432,\n",
              " 'general': 433,\n",
              " '•': 434,\n",
              " 'course': 435,\n",
              " 'possible': 436,\n",
              " 'date': 437,\n",
              " 'guidelines': 438,\n",
              " 'makes': 439,\n",
              " 'current': 440,\n",
              " 'include': 441,\n",
              " 'getting': 442,\n",
              " 'securityfuck': 443,\n",
              " 'tommy2010': 444,\n",
              " 'including': 445,\n",
              " 'suggest': 446,\n",
              " 'group': 447,\n",
              " 'cool': 448,\n",
              " 'regarding': 449,\n",
              " 'man': 450,\n",
              " 'attack': 451,\n",
              " 'interest': 452,\n",
              " 'issues': 453,\n",
              " 'looking': 454,\n",
              " 'specific': 455,\n",
              " 'less': 456,\n",
              " 'end': 457,\n",
              " 'rules': 458,\n",
              " 'seen': 459,\n",
              " 'recent': 460,\n",
              " 'explain': 461,\n",
              " 'mentioned': 462,\n",
              " 'dont': 463,\n",
              " 'later': 464,\n",
              " 'whole': 465,\n",
              " 'line': 466,\n",
              " 'bob': 467,\n",
              " 'answer': 468,\n",
              " 'relevant': 469,\n",
              " 'sense': 470,\n",
              " 'ok': 471,\n",
              " 'days': 472,\n",
              " 'move': 473,\n",
              " 'kind': 474,\n",
              " 'although': 475,\n",
              " 'known': 476,\n",
              " 'project': 477,\n",
              " 'cunt': 478,\n",
              " 'changed': 479,\n",
              " 'care': 480,\n",
              " 'jpg': 481,\n",
              " 'start': 482,\n",
              " 'create': 483,\n",
              " 'org': 484,\n",
              " 'claims': 485,\n",
              " 'happy': 486,\n",
              " 'myself': 487,\n",
              " 'anyway': 488,\n",
              " '10': 489,\n",
              " 'p': 490,\n",
              " 'news': 491,\n",
              " 'listed': 492,\n",
              " 'info': 493,\n",
              " 'provide': 494,\n",
              " 'currently': 495,\n",
              " 'topic': 496,\n",
              " 'next': 497,\n",
              " 'atheist': 498,\n",
              " 'taken': 499,\n",
              " 'single': 500,\n",
              " 'anti': 501,\n",
              " 'stuff': 502,\n",
              " \"wikipedia's\": 503,\n",
              " 't': 504,\n",
              " \"you've\": 505,\n",
              " 'big': 506,\n",
              " 'certainly': 507,\n",
              " 'full': 508,\n",
              " 'summary': 509,\n",
              " '2005': 510,\n",
              " 'party': 511,\n",
              " 'books': 512,\n",
              " 'redirect': 513,\n",
              " 'attacks': 514,\n",
              " 'per': 515,\n",
              " 'four': 516,\n",
              " 'related': 517,\n",
              " 'category': 518,\n",
              " 'sentence': 519,\n",
              " '1967': 520,\n",
              " 'saget': 521,\n",
              " 'warning': 522,\n",
              " 'political': 523,\n",
              " 'talking': 524,\n",
              " 'file': 525,\n",
              " 'interested': 526,\n",
              " 'common': 527,\n",
              " 'wish': 528,\n",
              " 'picture': 529,\n",
              " 'knowledge': 530,\n",
              " 'country': 531,\n",
              " 'according': 532,\n",
              " 'self': 533,\n",
              " 'order': 534,\n",
              " 'public': 535,\n",
              " 'nor': 536,\n",
              " 'appears': 537,\n",
              " 'mind': 538,\n",
              " 'writing': 539,\n",
              " 'able': 540,\n",
              " 'love': 541,\n",
              " 'hey': 542,\n",
              " 'truth': 543,\n",
              " 'notability': 544,\n",
              " 'lead': 545,\n",
              " 'working': 546,\n",
              " 'licker': 547,\n",
              " 'faith': 548,\n",
              " 'especially': 549,\n",
              " 'names': 550,\n",
              " 'completely': 551,\n",
              " 'music': 552,\n",
              " 'web': 553,\n",
              " '20': 554,\n",
              " 'appropriate': 555,\n",
              " 'god': 556,\n",
              " 'discuss': 557,\n",
              " 'started': 558,\n",
              " 'position': 559,\n",
              " 'future': 560,\n",
              " 'published': 561,\n",
              " 'looks': 562,\n",
              " '6': 563,\n",
              " 'city': 564,\n",
              " 'major': 565,\n",
              " 'proposed': 566,\n",
              " 'included': 567,\n",
              " 'ago': 568,\n",
              " 'within': 569,\n",
              " 'official': 570,\n",
              " 'during': 571,\n",
              " 'response': 572,\n",
              " 'away': 573,\n",
              " 'neutral': 574,\n",
              " 'everything': 575,\n",
              " 'sign': 576,\n",
              " 'en': 577,\n",
              " '2007': 578,\n",
              " 'wanted': 579,\n",
              " 'nice': 580,\n",
              " 'removing': 581,\n",
              " 'wrote': 582,\n",
              " 'united': 583,\n",
              " 'false': 584,\n",
              " 'quote': 585,\n",
              " 'conflict': 586,\n",
              " 'community': 587,\n",
              " 'similar': 588,\n",
              " 'report': 589,\n",
              " 'form': 590,\n",
              " 'learn': 591,\n",
              " 'b': 592,\n",
              " 'reading': 593,\n",
              " '0': 594,\n",
              " 'asked': 595,\n",
              " 'rule': 596,\n",
              " 'policies': 597,\n",
              " 'game': 598,\n",
              " 'therefore': 599,\n",
              " '11': 600,\n",
              " '2006': 601,\n",
              " '9': 602,\n",
              " 'username': 603,\n",
              " 'unless': 604,\n",
              " 'npov': 605,\n",
              " 'today': 606,\n",
              " 'whatever': 607,\n",
              " 'side': 608,\n",
              " 'cheers': 609,\n",
              " 'pretty': 610,\n",
              " 'government': 611,\n",
              " 'live': 612,\n",
              " 'system': 613,\n",
              " 'tried': 614,\n",
              " 'deleting': 615,\n",
              " 'itself': 616,\n",
              " '24': 617,\n",
              " 'placed': 618,\n",
              " 'hard': 619,\n",
              " \"wasn't\": 620,\n",
              " 'came': 621,\n",
              " 'theory': 622,\n",
              " 'dispute': 623,\n",
              " '2008': 624,\n",
              " 'sourced': 625,\n",
              " 'penis': 626,\n",
              " 'paragraph': 627,\n",
              " 'reply': 628,\n",
              " 'present': 629,\n",
              " 'process': 630,\n",
              " 'obviously': 631,\n",
              " 'posted': 632,\n",
              " 'involved': 633,\n",
              " '7': 634,\n",
              " 'high': 635,\n",
              " '2010': 636,\n",
              " 'google': 637,\n",
              " \"won't\": 638,\n",
              " 'past': 639,\n",
              " 'stay': 640,\n",
              " 'reverting': 641,\n",
              " 'taking': 642,\n",
              " 'mud': 643,\n",
              " 'useful': 644,\n",
              " 'explanation': 645,\n",
              " 'edited': 646,\n",
              " 'play': 647,\n",
              " 'sort': 648,\n",
              " 'reasons': 649,\n",
              " 'below': 650,\n",
              " 'contribs': 651,\n",
              " 'open': 652,\n",
              " 'actual': 653,\n",
              " 'certain': 654,\n",
              " 'improve': 655,\n",
              " 'due': 656,\n",
              " 'views': 657,\n",
              " 'exactly': 658,\n",
              " 'short': 659,\n",
              " 'everyone': 660,\n",
              " 'needed': 661,\n",
              " '12': 662,\n",
              " '100': 663,\n",
              " 'guess': 664,\n",
              " 'along': 665,\n",
              " 'email': 666,\n",
              " 'sandbox': 667,\n",
              " 'become': 668,\n",
              " 'almost': 669,\n",
              " 'murder': 670,\n",
              " 'entire': 671,\n",
              " 'company': 672,\n",
              " 'problems': 673,\n",
              " 'interesting': 674,\n",
              " 'remember': 675,\n",
              " 'various': 676,\n",
              " 'de': 677,\n",
              " 'obvious': 678,\n",
              " 'band': 679,\n",
              " 'banned': 680,\n",
              " 'appreciate': 681,\n",
              " 'noticed': 682,\n",
              " 'admins': 683,\n",
              " 'fun': 684,\n",
              " 'dick': 685,\n",
              " 'internet': 686,\n",
              " 'w': 687,\n",
              " 'stated': 688,\n",
              " 'citation': 689,\n",
              " 'guy': 690,\n",
              " 'otherwise': 691,\n",
              " 'week': 692,\n",
              " 'entry': 693,\n",
              " 'status': 694,\n",
              " 'small': 695,\n",
              " 'cited': 696,\n",
              " 'argument': 697,\n",
              " 'search': 698,\n",
              " 'canada': 699,\n",
              " '15': 700,\n",
              " 'definition': 701,\n",
              " 'statements': 702,\n",
              " 'took': 703,\n",
              " 'alone': 704,\n",
              " 'went': 705,\n",
              " 'story': 706,\n",
              " 'law': 707,\n",
              " 'terms': 708,\n",
              " 'works': 709,\n",
              " 'follow': 710,\n",
              " 'themselves': 711,\n",
              " 'provided': 712,\n",
              " '\\xa0': 713,\n",
              " \"haven't\": 714,\n",
              " 'often': 715,\n",
              " 'color': 716,\n",
              " 'points': 717,\n",
              " 'kill': 718,\n",
              " 'likely': 719,\n",
              " 'death': 720,\n",
              " 'type': 721,\n",
              " 'stupid': 722,\n",
              " 'shit': 723,\n",
              " 'yeah': 724,\n",
              " '2004': 725,\n",
              " 'saw': 726,\n",
              " 'science': 727,\n",
              " 'cite': 728,\n",
              " 'soon': 729,\n",
              " 'g': 730,\n",
              " 'addition': 731,\n",
              " 'faggot': 732,\n",
              " 'proper': 733,\n",
              " 'piece': 734,\n",
              " 'series': 735,\n",
              " 'set': 736,\n",
              " 'national': 737,\n",
              " 'mr': 738,\n",
              " 'third': 739,\n",
              " 'king': 740,\n",
              " 'accurate': 741,\n",
              " 'uploaded': 742,\n",
              " 'indeed': 743,\n",
              " 'actions': 744,\n",
              " 'british': 745,\n",
              " 'shows': 746,\n",
              " 'disagree': 747,\n",
              " 'generally': 748,\n",
              " 'vandalize': 749,\n",
              " 'allowed': 750,\n",
              " 'power': 751,\n",
              " 'five': 752,\n",
              " 'calling': 753,\n",
              " 'rights': 754,\n",
              " 'regards': 755,\n",
              " 'told': 756,\n",
              " 'area': 757,\n",
              " 'human': 758,\n",
              " 'particular': 759,\n",
              " 'violation': 760,\n",
              " 'german': 761,\n",
              " \"wouldn't\": 762,\n",
              " 'm': 763,\n",
              " 'appear': 764,\n",
              " 'thus': 765,\n",
              " 'film': 766,\n",
              " 'tv': 767,\n",
              " 'accept': 768,\n",
              " 'himself': 769,\n",
              " 'external': 770,\n",
              " 'contributing': 771,\n",
              " 'assume': 772,\n",
              " 'background': 773,\n",
              " 'university': 774,\n",
              " 'india': 775,\n",
              " 'fine': 776,\n",
              " 'moved': 777,\n",
              " 'hours': 778,\n",
              " 'details': 779,\n",
              " '–': 780,\n",
              " 'black': 781,\n",
              " 'valid': 782,\n",
              " 'exist': 783,\n",
              " 'test': 784,\n",
              " 'guys': 785,\n",
              " 'cause': 786,\n",
              " 'class': 787,\n",
              " 'wikiproject': 788,\n",
              " 'attention': 789,\n",
              " 'nonsense': 790,\n",
              " 'gay': 791,\n",
              " 'legal': 792,\n",
              " 'contact': 793,\n",
              " 'administrator': 794,\n",
              " 'description': 795,\n",
              " '16': 796,\n",
              " 'together': 797,\n",
              " 'upon': 798,\n",
              " 'avoid': 799,\n",
              " 'culture': 800,\n",
              " 'outside': 801,\n",
              " 'helpful': 802,\n",
              " 'hand': 803,\n",
              " 'loser': 804,\n",
              " 'job': 805,\n",
              " 'goes': 806,\n",
              " 'attempt': 807,\n",
              " 'members': 808,\n",
              " 'debate': 809,\n",
              " \"let's\": 810,\n",
              " '19': 811,\n",
              " 'v': 812,\n",
              " \"he's\": 813,\n",
              " 'greek': 814,\n",
              " 'automatically': 815,\n",
              " 'seriously': 816,\n",
              " 'head': 817,\n",
              " \"aren't\": 818,\n",
              " \"article's\": 819,\n",
              " '000': 820,\n",
              " 'aware': 821,\n",
              " 'computer': 822,\n",
              " '2009': 823,\n",
              " 'period': 824,\n",
              " 'respect': 825,\n",
              " 'multiple': 826,\n",
              " 'lack': 827,\n",
              " 'ones': 828,\n",
              " 'bias': 829,\n",
              " 'recently': 830,\n",
              " 'result': 831,\n",
              " 'personally': 832,\n",
              " '23': 833,\n",
              " 'living': 834,\n",
              " 'citations': 835,\n",
              " 'r': 836,\n",
              " 'unblock': 837,\n",
              " 'level': 838,\n",
              " 'sites': 839,\n",
              " 'july': 840,\n",
              " '22': 841,\n",
              " 'french': 842,\n",
              " 'barnstar': 843,\n",
              " 'worked': 844,\n",
              " 'white': 845,\n",
              " '14': 846,\n",
              " 'south': 847,\n",
              " 'im': 848,\n",
              " 'context': 849,\n",
              " 'family': 850,\n",
              " 'previous': 851,\n",
              " 'online': 852,\n",
              " 'john': 853,\n",
              " 'enjoy': 854,\n",
              " 'meant': 855,\n",
              " 'happened': 856,\n",
              " 'serious': 857,\n",
              " 'comes': 858,\n",
              " 'north': 859,\n",
              " 'august': 860,\n",
              " 'data': 861,\n",
              " 'entirely': 862,\n",
              " 'incorrect': 863,\n",
              " 'tags': 864,\n",
              " 'asking': 865,\n",
              " 'complete': 866,\n",
              " 'gets': 867,\n",
              " \"what's\": 868,\n",
              " 'criticism': 869,\n",
              " '18': 870,\n",
              " 'modern': 871,\n",
              " 'watching': 872,\n",
              " 'team': 873,\n",
              " 'historical': 874,\n",
              " 'uk': 875,\n",
              " 'speak': 876,\n",
              " 'decide': 877,\n",
              " 'video': 878,\n",
              " 'earlier': 879,\n",
              " 'uses': 880,\n",
              " 'available': 881,\n",
              " 'sock': 882,\n",
              " 'author': 883,\n",
              " 'simple': 884,\n",
              " 'changing': 885,\n",
              " \"they're\": 886,\n",
              " 'children': 887,\n",
              " 'creating': 888,\n",
              " 'blocking': 889,\n",
              " 'f': 890,\n",
              " 'close': 891,\n",
              " 'specifically': 892,\n",
              " 'standard': 893,\n",
              " '30': 894,\n",
              " 'wikipedian': 895,\n",
              " 'months': 896,\n",
              " 'refer': 897,\n",
              " 'heard': 898,\n",
              " 'al': 899,\n",
              " 'run': 900,\n",
              " 'doubt': 901,\n",
              " 'accepted': 902,\n",
              " 'copy': 903,\n",
              " 'manual': 904,\n",
              " 'supposed': 905,\n",
              " 'apparently': 906,\n",
              " 'jewish': 907,\n",
              " 'none': 908,\n",
              " 'album': 909,\n",
              " 'arguments': 910,\n",
              " 'explaining': 911,\n",
              " 'ban': 912,\n",
              " 'missing': 913,\n",
              " 'light': 914,\n",
              " 'fail': 915,\n",
              " 'biased': 916,\n",
              " 'financial': 917,\n",
              " 'figure': 918,\n",
              " 'study': 919,\n",
              " 'press': 920,\n",
              " 'bastard': 921,\n",
              " 'face': 922,\n",
              " 'understanding': 923,\n",
              " 'sometimes': 924,\n",
              " \"you'll\": 925,\n",
              " 'html': 926,\n",
              " 'tagged': 927,\n",
              " 'coming': 928,\n",
              " 'events': 929,\n",
              " 'deal': 930,\n",
              " 'putting': 931,\n",
              " \"shouldn't\": 932,\n",
              " 'action': 933,\n",
              " '13': 934,\n",
              " 'december': 935,\n",
              " 'special': 936,\n",
              " 'release': 937,\n",
              " 'homo': 938,\n",
              " 'international': 939,\n",
              " 'sections': 940,\n",
              " 'shall': 941,\n",
              " 'o': 942,\n",
              " 'messages': 943,\n",
              " 'meaning': 944,\n",
              " 'longer': 945,\n",
              " 'contest': 946,\n",
              " 'rationale': 947,\n",
              " 'cities': 948,\n",
              " 'necessary': 949,\n",
              " 'member': 950,\n",
              " 'america': 951,\n",
              " 'warring': 952,\n",
              " 'act': 953,\n",
              " 'photo': 954,\n",
              " 'academic': 955,\n",
              " 'shut': 956,\n",
              " 'fucker': 957,\n",
              " 'proof': 958,\n",
              " 'large': 959,\n",
              " 'prominent': 960,\n",
              " 'purpose': 961,\n",
              " 'rest': 962,\n",
              " 'dead': 963,\n",
              " 'march': 964,\n",
              " 'fix': 965,\n",
              " 'business': 966,\n",
              " 'border': 967,\n",
              " 'vote': 968,\n",
              " 'christian': 969,\n",
              " 'allow': 970,\n",
              " 'tildes': 971,\n",
              " 'except': 972,\n",
              " 'x': 973,\n",
              " '21': 974,\n",
              " 'expect': 975,\n",
              " 'western': 976,\n",
              " 'century': 977,\n",
              " 'force': 978,\n",
              " 'population': 979,\n",
              " 'factual': 980,\n",
              " 'june': 981,\n",
              " 'hell': 982,\n",
              " 'readers': 983,\n",
              " 'pro': 984,\n",
              " 'civil': 985,\n",
              " 'home': 986,\n",
              " \"'\": 987,\n",
              " '25': 988,\n",
              " 'lol': 989,\n",
              " 'age': 990,\n",
              " 'born': 991,\n",
              " 'nobody': 992,\n",
              " 'space': 993,\n",
              " 'minor': 994,\n",
              " 'lists': 995,\n",
              " 'situation': 996,\n",
              " '17': 997,\n",
              " 'bring': 998,\n",
              " 'afd': 999,\n",
              " 'wants': 1000,\n",
              " ...}"
            ]
          },
          "metadata": {},
          "execution_count": 29
        }
      ]
    },
    {
      "cell_type": "code",
      "source": [
        "xtrain_pad"
      ],
      "metadata": {
        "colab": {
          "base_uri": "https://localhost:8080/"
        },
        "id": "PXQQfS2_5-T8",
        "outputId": "3ca7392c-af92-4c96-b9b2-e9fd01bb4f8b"
      },
      "execution_count": null,
      "outputs": [
        {
          "output_type": "execute_result",
          "data": {
            "text/plain": [
              "array([[   0,    0,    0, ..., 1502,   38, 6072],\n",
              "       [   0,    0,    0, ...,    3,  101,  548],\n",
              "       [   0,    0,    0, ...,  359,   11,   38],\n",
              "       ...,\n",
              "       [   0,    0,    0, ...,    4,   45, 1576],\n",
              "       [   0,    0,    0, ...,    9,   77, 5989],\n",
              "       [   0,    0,    0, ...,  166,  202,  514]], dtype=int32)"
            ]
          },
          "metadata": {},
          "execution_count": 30
        }
      ]
    },
    {
      "cell_type": "code",
      "source": [
        "%time\n",
        "with strategy.scope():\n",
        "  model=Sequential()\n",
        "  model.add(Embedding(len(word_index)+1,300,input_length=max_len))\n",
        "  model.add(SimpleRNN(100))\n",
        "  model.add(Dense(1,activation='sigmoid'))\n",
        "  model.compile(loss='binary_crossentropy',optimizer='adam',metrics=['accuracy'])\n",
        "model.summary()"
      ],
      "metadata": {
        "colab": {
          "base_uri": "https://localhost:8080/"
        },
        "id": "tbteSU_86Elc",
        "outputId": "48e12dfa-4f0a-4f78-d57e-51a6f5580af5"
      },
      "execution_count": null,
      "outputs": [
        {
          "output_type": "stream",
          "name": "stdout",
          "text": [
            "CPU times: user 3 µs, sys: 0 ns, total: 3 µs\n",
            "Wall time: 6.44 µs\n",
            "Model: \"sequential_3\"\n",
            "_________________________________________________________________\n",
            " Layer (type)                Output Shape              Param #   \n",
            "=================================================================\n",
            " embedding_3 (Embedding)     (None, 1500, 300)         13049100  \n",
            "                                                                 \n",
            " simple_rnn_3 (SimpleRNN)    (None, 100)               40100     \n",
            "                                                                 \n",
            " dense_1 (Dense)             (None, 1)                 101       \n",
            "                                                                 \n",
            "=================================================================\n",
            "Total params: 13,089,301\n",
            "Trainable params: 13,089,301\n",
            "Non-trainable params: 0\n",
            "_________________________________________________________________\n"
          ]
        }
      ]
    },
    {
      "cell_type": "code",
      "source": [
        "from tensorflow.python.ops.gen_array_ops import batch_matrix_band_part_eager_fallback\n",
        "model.fit(xtrain_pad,ytrain,epochs=1,batch_size=64*strategy.num_replicas_in_sync)"
      ],
      "metadata": {
        "colab": {
          "base_uri": "https://localhost:8080/"
        },
        "id": "nQo-Jfri7e1l",
        "outputId": "99a6c5ac-e5a6-4b50-8fd9-a8b73a8b440b"
      },
      "execution_count": null,
      "outputs": [
        {
          "output_type": "stream",
          "name": "stdout",
          "text": [
            "150/150 [==============================] - 161s 1s/step - loss: 0.1434 - accuracy: 0.9484\n"
          ]
        },
        {
          "output_type": "execute_result",
          "data": {
            "text/plain": [
              "<keras.callbacks.History at 0x7f6c0e6ccac0>"
            ]
          },
          "metadata": {},
          "execution_count": 59
        }
      ]
    },
    {
      "cell_type": "code",
      "source": [
        "score=model.predict(xvalid_pad)"
      ],
      "metadata": {
        "colab": {
          "base_uri": "https://localhost:8080/"
        },
        "id": "hLNo4HmL80Jc",
        "outputId": "01ff67fa-0776-42d1-90bd-d745d19cfbbe"
      },
      "execution_count": null,
      "outputs": [
        {
          "output_type": "stream",
          "name": "stdout",
          "text": [
            "76/76 [==============================] - 8s 102ms/step\n"
          ]
        }
      ]
    },
    {
      "cell_type": "code",
      "source": [
        "print(\"Auc: %.2f%%\"  %(roc_auc(score,yvalid)))"
      ],
      "metadata": {
        "colab": {
          "base_uri": "https://localhost:8080/"
        },
        "id": "-dbhj5tj9L5k",
        "outputId": "da67da8b-b784-4a0a-d8f5-3ea0460395b8"
      },
      "execution_count": null,
      "outputs": [
        {
          "output_type": "stream",
          "name": "stdout",
          "text": [
            "Auc: 0.78%\n"
          ]
        }
      ]
    },
    {
      "cell_type": "code",
      "source": [
        "score_model=[]\n",
        "score_model.append({'Model:' 'SimpleRNN','Auc_soce :',roc_auc(score,yvalid)})"
      ],
      "metadata": {
        "id": "reQXGFE69k3d"
      },
      "execution_count": null,
      "outputs": []
    },
    {
      "cell_type": "code",
      "source": [
        "score_model"
      ],
      "metadata": {
        "colab": {
          "base_uri": "https://localhost:8080/"
        },
        "id": "yssAME8kALTO",
        "outputId": "e2934658-e110-4ef2-9f46-bd4657c9cbf2"
      },
      "execution_count": null,
      "outputs": [
        {
          "output_type": "execute_result",
          "data": {
            "text/plain": [
              "[{0.7847448216608781, 'Auc_soce :', 'Model:SimpleRNN'}]"
            ]
          },
          "metadata": {},
          "execution_count": 65
        }
      ]
    },
    {
      "cell_type": "code",
      "source": [
        "embeddings_index={}\n",
        "with open('/content/glove.6B.100d.txt')as f:\n",
        "  for line in f.readlines():\n",
        "     values=line.split()\n",
        "     word=values[0]\n",
        "     coefs=np.asarray(values[1:], dtype='float32')\n",
        "     embeddings_index[word]=coefs"
      ],
      "metadata": {
        "id": "sDK8pOp1_J4k"
      },
      "execution_count": null,
      "outputs": []
    },
    {
      "cell_type": "code",
      "source": [
        "embedding_matrix=np.zeros((len(word_index)+1,100))\n",
        "for word, i in tqdm(word_index.items()):\n",
        "  embedding_vector=embeddings_index.get(word)\n",
        "  if embedding_vector is not None:\n",
        "    embedding_matrix[i]=embedding_vector"
      ],
      "metadata": {
        "colab": {
          "base_uri": "https://localhost:8080/"
        },
        "id": "dxfqqMx1NJtI",
        "outputId": "a9802144-ab42-47a2-aaae-3e1226377a75"
      },
      "execution_count": null,
      "outputs": [
        {
          "output_type": "stream",
          "name": "stderr",
          "text": [
            "100%|██████████| 43496/43496 [00:00<00:00, 409441.00it/s]\n"
          ]
        }
      ]
    },
    {
      "cell_type": "code",
      "source": [
        "%time\n",
        "with strategy.scope():\n",
        "  model=Sequential()\n",
        "  model.add(Embedding(len(word_index)+1,100,weights=[embedding_matrix],\n",
        "                      input_length=max_len,\n",
        "                      trainable=False))\n",
        "  model.add(LSTM(100,dropout=.3,recurrent_dropout=0.3))\n",
        "  model.add(Dense(1,activation='sigmoid'))\n",
        "  model.compile(loss='binary_crossentropy',optimizer='adam',metrics=['accuracy'])\n",
        "model.summary()"
      ],
      "metadata": {
        "colab": {
          "base_uri": "https://localhost:8080/"
        },
        "id": "eSVWRYXhQy5s",
        "outputId": "4166cb0d-6b8a-4178-a3a0-a169565032c1"
      },
      "execution_count": null,
      "outputs": [
        {
          "output_type": "stream",
          "name": "stderr",
          "text": [
            "WARNING:tensorflow:Layer lstm will not use cuDNN kernels since it doesn't meet the criteria. It will use a generic GPU kernel as fallback when running on GPU.\n"
          ]
        },
        {
          "output_type": "stream",
          "name": "stdout",
          "text": [
            "CPU times: user 4 µs, sys: 0 ns, total: 4 µs\n",
            "Wall time: 7.87 µs\n",
            "Model: \"sequential_5\"\n",
            "_________________________________________________________________\n",
            " Layer (type)                Output Shape              Param #   \n",
            "=================================================================\n",
            " embedding_5 (Embedding)     (None, 1500, 100)         4349700   \n",
            "                                                                 \n",
            " lstm (LSTM)                 (None, 100)               80400     \n",
            "                                                                 \n",
            " dense_2 (Dense)             (None, 1)                 101       \n",
            "                                                                 \n",
            "=================================================================\n",
            "Total params: 4,430,201\n",
            "Trainable params: 80,501\n",
            "Non-trainable params: 4,349,700\n",
            "_________________________________________________________________\n"
          ]
        }
      ]
    },
    {
      "cell_type": "code",
      "source": [
        "model.fit(xtrain_pad,ytrain,epochs=1,batch_size=64*strategy.num_replicas_in_sync)"
      ],
      "metadata": {
        "colab": {
          "base_uri": "https://localhost:8080/"
        },
        "id": "LPykPQ-TTHdD",
        "outputId": "6d74f118-76d0-4e34-9bd7-bbfe115ed491"
      },
      "execution_count": null,
      "outputs": [
        {
          "output_type": "stream",
          "name": "stdout",
          "text": [
            "150/150 [==============================] - 325s 2s/step - loss: 0.2413 - accuracy: 0.9135\n"
          ]
        },
        {
          "output_type": "execute_result",
          "data": {
            "text/plain": [
              "<keras.callbacks.History at 0x7f6d02f9a8b0>"
            ]
          },
          "metadata": {},
          "execution_count": 87
        }
      ]
    },
    {
      "cell_type": "code",
      "source": [
        "scores=model.predict(xvalid_pad)\n",
        "print(\"Auc : %.2f%%\" %(roc_auc(scores,yvalid)))"
      ],
      "metadata": {
        "colab": {
          "base_uri": "https://localhost:8080/"
        },
        "id": "pboKT21oTXDC",
        "outputId": "13522152-c8bc-4cf2-951f-d9cdaea446b7"
      },
      "execution_count": null,
      "outputs": [
        {
          "output_type": "stream",
          "name": "stdout",
          "text": [
            "76/76 [==============================] - 28s 366ms/step\n",
            "Auc : 0.92%\n"
          ]
        }
      ]
    },
    {
      "cell_type": "code",
      "source": [
        "%time\n",
        "with strategy.scope():\n",
        "  model=Sequential()\n",
        "  model.add(Embedding(len(word_index)+1,100,weights=[embedding_matrix],\n",
        "                      input_length=max_len,\n",
        "                      trainable=False))\n",
        "  model.add(SpatialDropout1D(0.3))\n",
        "  model.add(GRU(300))\n",
        "  model.add(Dense(1,activation='sigmoid'))\n",
        "  model.compile(loss='binary_crossentropy',optimizer='adam',metrics=['accuracy'])\n",
        "model.summary()"
      ],
      "metadata": {
        "colab": {
          "base_uri": "https://localhost:8080/"
        },
        "id": "au9HfzoRVhck",
        "outputId": "99269034-5455-418a-e52a-5b749ca85c36"
      },
      "execution_count": null,
      "outputs": [
        {
          "output_type": "stream",
          "name": "stdout",
          "text": [
            "CPU times: user 3 µs, sys: 1e+03 ns, total: 4 µs\n",
            "Wall time: 7.63 µs\n",
            "Model: \"sequential_6\"\n",
            "_________________________________________________________________\n",
            " Layer (type)                Output Shape              Param #   \n",
            "=================================================================\n",
            " embedding_6 (Embedding)     (None, 1500, 100)         4349700   \n",
            "                                                                 \n",
            " spatial_dropout1d (SpatialD  (None, 1500, 100)        0         \n",
            " ropout1D)                                                       \n",
            "                                                                 \n",
            " gru (GRU)                   (None, 300)               361800    \n",
            "                                                                 \n",
            " dense_3 (Dense)             (None, 1)                 301       \n",
            "                                                                 \n",
            "=================================================================\n",
            "Total params: 4,711,801\n",
            "Trainable params: 362,101\n",
            "Non-trainable params: 4,349,700\n",
            "_________________________________________________________________\n"
          ]
        }
      ]
    },
    {
      "cell_type": "code",
      "source": [
        "model.fit(xtrain_pad,ytrain,epochs=1,batch_size=64*strategy.num_replicas_in_sync)"
      ],
      "metadata": {
        "colab": {
          "base_uri": "https://localhost:8080/"
        },
        "id": "xMcePn6hVvr6",
        "outputId": "ff0a8196-e4a0-421d-f41e-3b2399e7f006"
      },
      "execution_count": null,
      "outputs": [
        {
          "output_type": "stream",
          "name": "stdout",
          "text": [
            "150/150 [==============================] - 23s 124ms/step - loss: 0.2411 - accuracy: 0.9190\n"
          ]
        },
        {
          "output_type": "execute_result",
          "data": {
            "text/plain": [
              "<keras.callbacks.History at 0x7f6b7cb0a430>"
            ]
          },
          "metadata": {},
          "execution_count": 93
        }
      ]
    },
    {
      "cell_type": "code",
      "source": [
        "scores=model.predict(xvalid_pad)\n",
        "print(\"Auc : %.2f%%\" %(roc_auc(scores,yvalid)))"
      ],
      "metadata": {
        "colab": {
          "base_uri": "https://localhost:8080/"
        },
        "id": "jdXBnHdlWB4l",
        "outputId": "267b52af-a8be-4cc5-e84b-b490897e9851"
      },
      "execution_count": null,
      "outputs": [
        {
          "output_type": "stream",
          "name": "stdout",
          "text": [
            "76/76 [==============================] - 3s 33ms/step\n",
            "Auc : 0.94%\n"
          ]
        }
      ]
    },
    {
      "cell_type": "code",
      "source": [
        "%time\n",
        "with strategy.scope():\n",
        "  model=Sequential()\n",
        "  model.add(Embedding(len(word_index)+1,100,weights=[embedding_matrix],\n",
        "                      input_length=max_len,\n",
        "                      trainable=False))\n",
        "  model.add(Bidirectional(LSTM(100,dropout=.3,recurrent_dropout=0.3)))\n",
        "  model.add(Dense(1,activation='sigmoid'))\n",
        "  model.compile(loss='binary_crossentropy',optimizer='adam',metrics=['accuracy'])\n",
        "model.summary()"
      ],
      "metadata": {
        "colab": {
          "base_uri": "https://localhost:8080/"
        },
        "id": "v_XT4xJ8WFq7",
        "outputId": "d8a41676-02c3-456c-d073-297b5043893b"
      },
      "execution_count": null,
      "outputs": [
        {
          "output_type": "stream",
          "name": "stderr",
          "text": [
            "WARNING:tensorflow:Layer lstm_1 will not use cuDNN kernels since it doesn't meet the criteria. It will use a generic GPU kernel as fallback when running on GPU.\n",
            "WARNING:tensorflow:Layer lstm_1 will not use cuDNN kernels since it doesn't meet the criteria. It will use a generic GPU kernel as fallback when running on GPU.\n",
            "WARNING:tensorflow:Layer lstm_1 will not use cuDNN kernels since it doesn't meet the criteria. It will use a generic GPU kernel as fallback when running on GPU.\n"
          ]
        },
        {
          "output_type": "stream",
          "name": "stdout",
          "text": [
            "CPU times: user 4 µs, sys: 0 ns, total: 4 µs\n",
            "Wall time: 7.39 µs\n",
            "Model: \"sequential_7\"\n",
            "_________________________________________________________________\n",
            " Layer (type)                Output Shape              Param #   \n",
            "=================================================================\n",
            " embedding_7 (Embedding)     (None, 1500, 100)         4349700   \n",
            "                                                                 \n",
            " bidirectional (Bidirectiona  (None, 200)              160800    \n",
            " l)                                                              \n",
            "                                                                 \n",
            " dense_4 (Dense)             (None, 1)                 201       \n",
            "                                                                 \n",
            "=================================================================\n",
            "Total params: 4,510,701\n",
            "Trainable params: 161,001\n",
            "Non-trainable params: 4,349,700\n",
            "_________________________________________________________________\n"
          ]
        }
      ]
    },
    {
      "cell_type": "code",
      "source": [
        "model.fit(xtrain_pad,ytrain,epochs=1,batch_size=64*strategy.num_replicas_in_sync)"
      ],
      "metadata": {
        "colab": {
          "base_uri": "https://localhost:8080/"
        },
        "id": "XCwasEokWdXz",
        "outputId": "a9ddcd46-d2d0-4605-84f5-9a8764e65575"
      },
      "execution_count": null,
      "outputs": [
        {
          "output_type": "stream",
          "name": "stdout",
          "text": [
            "150/150 [==============================] - 587s 4s/step - loss: 0.2417 - accuracy: 0.9168\n"
          ]
        },
        {
          "output_type": "execute_result",
          "data": {
            "text/plain": [
              "<keras.callbacks.History at 0x7f6c36eabc10>"
            ]
          },
          "metadata": {},
          "execution_count": 96
        }
      ]
    }
  ]
}