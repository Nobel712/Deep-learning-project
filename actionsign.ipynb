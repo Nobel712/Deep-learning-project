{
 "cells": [
  {
   "cell_type": "code",
   "execution_count": 8,
   "id": "20033f9e",
   "metadata": {},
   "outputs": [],
   "source": [
    "import cv2\n",
    "import numpy as np\n",
    "import os\n",
    "from matplotlib import pyplot as plt\n",
    "import time\n",
    "import mediapipe as mp"
   ]
  },
  {
   "cell_type": "code",
   "execution_count": 9,
   "id": "38874ccf",
   "metadata": {},
   "outputs": [],
   "source": [
    "\n",
    "mp_holistic = mp.solutions.holistic \n",
    "mp_drawing = mp.solutions.drawing_utils"
   ]
  },
  {
   "cell_type": "code",
   "execution_count": 10,
   "id": "c14ef0ef",
   "metadata": {},
   "outputs": [],
   "source": [
    "def mediapipe_detection(image, model):\n",
    "    image = cv2.cvtColor(image, cv2.COLOR_BGR2RGB) # COLOR CONVERSION BGR 2 RGB\n",
    "    image.flags.writeable = False                  # Image is no longer writeable\n",
    "    results = model.process(image)                 # Make prediction\n",
    "    image.flags.writeable = True                   # Image is now writeable \n",
    "    image = cv2.cvtColor(image, cv2.COLOR_RGB2BGR) # COLOR COVERSION RGB 2 BGR\n",
    "    return image, results"
   ]
  },
  {
   "cell_type": "code",
   "execution_count": 11,
   "id": "82b3fac9",
   "metadata": {},
   "outputs": [],
   "source": [
    "def draw_landmarks(image, results):\n",
    "    mp_drawing.draw_landmarks(image, results.face_landmarks, mp_holistic.FACEMESH_CONTOURS) # Draw face connections\n",
    "    mp_drawing.draw_landmarks(image, results.pose_landmarks, mp_holistic.POSE_CONNECTIONS) # Draw pose connections\n",
    "    mp_drawing.draw_landmarks(image, results.left_hand_landmarks, mp_holistic.HAND_CONNECTIONS) # Draw left hand connections\n",
    "    mp_drawing.draw_landmarks(image, results.right_hand_landmarks, mp_holistic.HAND_CONNECTIONS) # D"
   ]
  },
  {
   "cell_type": "code",
   "execution_count": 12,
   "id": "68ef1015",
   "metadata": {},
   "outputs": [],
   "source": [
    "def draw_styled_landmarks(image, results):\n",
    "    # Draw face connections\n",
    "    mp_drawing.draw_landmarks(image, results.face_landmarks, mp_holistic.FACEMESH_CONTOURS, \n",
    "                             mp_drawing.DrawingSpec(color=(80,110,10), thickness=1, circle_radius=1), \n",
    "                             mp_drawing.DrawingSpec(color=(80,256,121), thickness=1, circle_radius=1)\n",
    "                             ) \n",
    "    # Draw pose connections\n",
    "    mp_drawing.draw_landmarks(image, results.pose_landmarks, mp_holistic.POSE_CONNECTIONS,\n",
    "                             mp_drawing.DrawingSpec(color=(80,22,10), thickness=2, circle_radius=4), \n",
    "                             mp_drawing.DrawingSpec(color=(80,44,121), thickness=2, circle_radius=2)\n",
    "                             ) \n",
    "    # Draw left hand connections\n",
    "    mp_drawing.draw_landmarks(image, results.left_hand_landmarks, mp_holistic.HAND_CONNECTIONS, \n",
    "                             mp_drawing.DrawingSpec(color=(121,22,76), thickness=2, circle_radius=4), \n",
    "                             mp_drawing.DrawingSpec(color=(121,44,250), thickness=2, circle_radius=2)\n",
    "                             ) \n",
    "    # Draw right hand connections  \n",
    "    mp_drawing.draw_landmarks(image, results.right_hand_landmarks, mp_holistic.HAND_CONNECTIONS, \n",
    "                             mp_drawing.DrawingSpec(color=(245,117,66), thickness=2, circle_radius=4), \n",
    "                             mp_drawing.DrawingSpec(color=(245,66,230), thickness=2, circle_radius=2)\n",
    "                             ) "
   ]
  },
  {
   "cell_type": "code",
   "execution_count": 40,
   "id": "f5994ec7",
   "metadata": {},
   "outputs": [
    {
     "name": "stdout",
     "output_type": "stream",
     "text": [
      "<class 'mediapipe.python.solution_base.SolutionOutputs'>\n",
      "<class 'mediapipe.python.solution_base.SolutionOutputs'>\n",
      "<class 'mediapipe.python.solution_base.SolutionOutputs'>\n",
      "<class 'mediapipe.python.solution_base.SolutionOutputs'>\n",
      "<class 'mediapipe.python.solution_base.SolutionOutputs'>\n",
      "<class 'mediapipe.python.solution_base.SolutionOutputs'>\n",
      "<class 'mediapipe.python.solution_base.SolutionOutputs'>\n",
      "<class 'mediapipe.python.solution_base.SolutionOutputs'>\n",
      "<class 'mediapipe.python.solution_base.SolutionOutputs'>\n",
      "<class 'mediapipe.python.solution_base.SolutionOutputs'>\n",
      "<class 'mediapipe.python.solution_base.SolutionOutputs'>\n",
      "<class 'mediapipe.python.solution_base.SolutionOutputs'>\n",
      "<class 'mediapipe.python.solution_base.SolutionOutputs'>\n",
      "<class 'mediapipe.python.solution_base.SolutionOutputs'>\n",
      "<class 'mediapipe.python.solution_base.SolutionOutputs'>\n",
      "<class 'mediapipe.python.solution_base.SolutionOutputs'>\n",
      "<class 'mediapipe.python.solution_base.SolutionOutputs'>\n",
      "<class 'mediapipe.python.solution_base.SolutionOutputs'>\n",
      "<class 'mediapipe.python.solution_base.SolutionOutputs'>\n",
      "<class 'mediapipe.python.solution_base.SolutionOutputs'>\n",
      "<class 'mediapipe.python.solution_base.SolutionOutputs'>\n",
      "<class 'mediapipe.python.solution_base.SolutionOutputs'>\n",
      "<class 'mediapipe.python.solution_base.SolutionOutputs'>\n",
      "<class 'mediapipe.python.solution_base.SolutionOutputs'>\n",
      "<class 'mediapipe.python.solution_base.SolutionOutputs'>\n",
      "<class 'mediapipe.python.solution_base.SolutionOutputs'>\n",
      "<class 'mediapipe.python.solution_base.SolutionOutputs'>\n",
      "<class 'mediapipe.python.solution_base.SolutionOutputs'>\n",
      "<class 'mediapipe.python.solution_base.SolutionOutputs'>\n",
      "<class 'mediapipe.python.solution_base.SolutionOutputs'>\n",
      "<class 'mediapipe.python.solution_base.SolutionOutputs'>\n",
      "<class 'mediapipe.python.solution_base.SolutionOutputs'>\n",
      "<class 'mediapipe.python.solution_base.SolutionOutputs'>\n",
      "<class 'mediapipe.python.solution_base.SolutionOutputs'>\n",
      "<class 'mediapipe.python.solution_base.SolutionOutputs'>\n",
      "<class 'mediapipe.python.solution_base.SolutionOutputs'>\n",
      "<class 'mediapipe.python.solution_base.SolutionOutputs'>\n",
      "<class 'mediapipe.python.solution_base.SolutionOutputs'>\n",
      "<class 'mediapipe.python.solution_base.SolutionOutputs'>\n",
      "<class 'mediapipe.python.solution_base.SolutionOutputs'>\n",
      "<class 'mediapipe.python.solution_base.SolutionOutputs'>\n",
      "<class 'mediapipe.python.solution_base.SolutionOutputs'>\n",
      "<class 'mediapipe.python.solution_base.SolutionOutputs'>\n",
      "<class 'mediapipe.python.solution_base.SolutionOutputs'>\n",
      "<class 'mediapipe.python.solution_base.SolutionOutputs'>\n",
      "<class 'mediapipe.python.solution_base.SolutionOutputs'>\n",
      "<class 'mediapipe.python.solution_base.SolutionOutputs'>\n",
      "<class 'mediapipe.python.solution_base.SolutionOutputs'>\n",
      "<class 'mediapipe.python.solution_base.SolutionOutputs'>\n",
      "<class 'mediapipe.python.solution_base.SolutionOutputs'>\n",
      "<class 'mediapipe.python.solution_base.SolutionOutputs'>\n",
      "<class 'mediapipe.python.solution_base.SolutionOutputs'>\n",
      "<class 'mediapipe.python.solution_base.SolutionOutputs'>\n",
      "<class 'mediapipe.python.solution_base.SolutionOutputs'>\n",
      "<class 'mediapipe.python.solution_base.SolutionOutputs'>\n",
      "<class 'mediapipe.python.solution_base.SolutionOutputs'>\n",
      "<class 'mediapipe.python.solution_base.SolutionOutputs'>\n",
      "<class 'mediapipe.python.solution_base.SolutionOutputs'>\n",
      "<class 'mediapipe.python.solution_base.SolutionOutputs'>\n",
      "<class 'mediapipe.python.solution_base.SolutionOutputs'>\n",
      "<class 'mediapipe.python.solution_base.SolutionOutputs'>\n",
      "<class 'mediapipe.python.solution_base.SolutionOutputs'>\n",
      "<class 'mediapipe.python.solution_base.SolutionOutputs'>\n",
      "<class 'mediapipe.python.solution_base.SolutionOutputs'>\n",
      "<class 'mediapipe.python.solution_base.SolutionOutputs'>\n",
      "<class 'mediapipe.python.solution_base.SolutionOutputs'>\n",
      "<class 'mediapipe.python.solution_base.SolutionOutputs'>\n",
      "<class 'mediapipe.python.solution_base.SolutionOutputs'>\n",
      "<class 'mediapipe.python.solution_base.SolutionOutputs'>\n",
      "<class 'mediapipe.python.solution_base.SolutionOutputs'>\n",
      "<class 'mediapipe.python.solution_base.SolutionOutputs'>\n",
      "<class 'mediapipe.python.solution_base.SolutionOutputs'>\n",
      "<class 'mediapipe.python.solution_base.SolutionOutputs'>\n",
      "<class 'mediapipe.python.solution_base.SolutionOutputs'>\n",
      "<class 'mediapipe.python.solution_base.SolutionOutputs'>\n",
      "<class 'mediapipe.python.solution_base.SolutionOutputs'>\n",
      "<class 'mediapipe.python.solution_base.SolutionOutputs'>\n",
      "<class 'mediapipe.python.solution_base.SolutionOutputs'>\n",
      "<class 'mediapipe.python.solution_base.SolutionOutputs'>\n",
      "<class 'mediapipe.python.solution_base.SolutionOutputs'>\n",
      "<class 'mediapipe.python.solution_base.SolutionOutputs'>\n",
      "<class 'mediapipe.python.solution_base.SolutionOutputs'>\n",
      "<class 'mediapipe.python.solution_base.SolutionOutputs'>\n",
      "<class 'mediapipe.python.solution_base.SolutionOutputs'>\n",
      "<class 'mediapipe.python.solution_base.SolutionOutputs'>\n",
      "<class 'mediapipe.python.solution_base.SolutionOutputs'>\n",
      "<class 'mediapipe.python.solution_base.SolutionOutputs'>\n",
      "<class 'mediapipe.python.solution_base.SolutionOutputs'>\n",
      "<class 'mediapipe.python.solution_base.SolutionOutputs'>\n",
      "<class 'mediapipe.python.solution_base.SolutionOutputs'>\n",
      "<class 'mediapipe.python.solution_base.SolutionOutputs'>\n",
      "<class 'mediapipe.python.solution_base.SolutionOutputs'>\n",
      "<class 'mediapipe.python.solution_base.SolutionOutputs'>\n",
      "<class 'mediapipe.python.solution_base.SolutionOutputs'>\n",
      "<class 'mediapipe.python.solution_base.SolutionOutputs'>\n",
      "<class 'mediapipe.python.solution_base.SolutionOutputs'>\n",
      "<class 'mediapipe.python.solution_base.SolutionOutputs'>\n",
      "<class 'mediapipe.python.solution_base.SolutionOutputs'>\n",
      "<class 'mediapipe.python.solution_base.SolutionOutputs'>\n",
      "<class 'mediapipe.python.solution_base.SolutionOutputs'>\n",
      "<class 'mediapipe.python.solution_base.SolutionOutputs'>\n",
      "<class 'mediapipe.python.solution_base.SolutionOutputs'>\n",
      "<class 'mediapipe.python.solution_base.SolutionOutputs'>\n",
      "<class 'mediapipe.python.solution_base.SolutionOutputs'>\n",
      "<class 'mediapipe.python.solution_base.SolutionOutputs'>\n",
      "<class 'mediapipe.python.solution_base.SolutionOutputs'>\n",
      "<class 'mediapipe.python.solution_base.SolutionOutputs'>\n",
      "<class 'mediapipe.python.solution_base.SolutionOutputs'>\n",
      "<class 'mediapipe.python.solution_base.SolutionOutputs'>\n",
      "<class 'mediapipe.python.solution_base.SolutionOutputs'>\n",
      "<class 'mediapipe.python.solution_base.SolutionOutputs'>\n",
      "<class 'mediapipe.python.solution_base.SolutionOutputs'>\n",
      "<class 'mediapipe.python.solution_base.SolutionOutputs'>\n",
      "<class 'mediapipe.python.solution_base.SolutionOutputs'>\n",
      "<class 'mediapipe.python.solution_base.SolutionOutputs'>\n",
      "<class 'mediapipe.python.solution_base.SolutionOutputs'>\n",
      "<class 'mediapipe.python.solution_base.SolutionOutputs'>\n",
      "<class 'mediapipe.python.solution_base.SolutionOutputs'>\n",
      "<class 'mediapipe.python.solution_base.SolutionOutputs'>\n",
      "<class 'mediapipe.python.solution_base.SolutionOutputs'>\n",
      "<class 'mediapipe.python.solution_base.SolutionOutputs'>\n",
      "<class 'mediapipe.python.solution_base.SolutionOutputs'>\n",
      "<class 'mediapipe.python.solution_base.SolutionOutputs'>\n",
      "<class 'mediapipe.python.solution_base.SolutionOutputs'>\n",
      "<class 'mediapipe.python.solution_base.SolutionOutputs'>\n",
      "<class 'mediapipe.python.solution_base.SolutionOutputs'>\n",
      "<class 'mediapipe.python.solution_base.SolutionOutputs'>\n",
      "<class 'mediapipe.python.solution_base.SolutionOutputs'>\n",
      "<class 'mediapipe.python.solution_base.SolutionOutputs'>\n",
      "<class 'mediapipe.python.solution_base.SolutionOutputs'>\n",
      "<class 'mediapipe.python.solution_base.SolutionOutputs'>\n",
      "<class 'mediapipe.python.solution_base.SolutionOutputs'>\n",
      "<class 'mediapipe.python.solution_base.SolutionOutputs'>\n",
      "<class 'mediapipe.python.solution_base.SolutionOutputs'>\n",
      "<class 'mediapipe.python.solution_base.SolutionOutputs'>\n",
      "<class 'mediapipe.python.solution_base.SolutionOutputs'>\n",
      "<class 'mediapipe.python.solution_base.SolutionOutputs'>\n",
      "<class 'mediapipe.python.solution_base.SolutionOutputs'>\n",
      "<class 'mediapipe.python.solution_base.SolutionOutputs'>\n",
      "<class 'mediapipe.python.solution_base.SolutionOutputs'>\n",
      "<class 'mediapipe.python.solution_base.SolutionOutputs'>\n",
      "<class 'mediapipe.python.solution_base.SolutionOutputs'>\n",
      "<class 'mediapipe.python.solution_base.SolutionOutputs'>\n",
      "<class 'mediapipe.python.solution_base.SolutionOutputs'>\n",
      "<class 'mediapipe.python.solution_base.SolutionOutputs'>\n"
     ]
    },
    {
     "name": "stdout",
     "output_type": "stream",
     "text": [
      "<class 'mediapipe.python.solution_base.SolutionOutputs'>\n",
      "<class 'mediapipe.python.solution_base.SolutionOutputs'>\n",
      "<class 'mediapipe.python.solution_base.SolutionOutputs'>\n",
      "<class 'mediapipe.python.solution_base.SolutionOutputs'>\n",
      "<class 'mediapipe.python.solution_base.SolutionOutputs'>\n",
      "<class 'mediapipe.python.solution_base.SolutionOutputs'>\n",
      "<class 'mediapipe.python.solution_base.SolutionOutputs'>\n",
      "<class 'mediapipe.python.solution_base.SolutionOutputs'>\n",
      "<class 'mediapipe.python.solution_base.SolutionOutputs'>\n",
      "<class 'mediapipe.python.solution_base.SolutionOutputs'>\n",
      "<class 'mediapipe.python.solution_base.SolutionOutputs'>\n",
      "<class 'mediapipe.python.solution_base.SolutionOutputs'>\n",
      "<class 'mediapipe.python.solution_base.SolutionOutputs'>\n",
      "<class 'mediapipe.python.solution_base.SolutionOutputs'>\n",
      "<class 'mediapipe.python.solution_base.SolutionOutputs'>\n",
      "<class 'mediapipe.python.solution_base.SolutionOutputs'>\n",
      "<class 'mediapipe.python.solution_base.SolutionOutputs'>\n",
      "<class 'mediapipe.python.solution_base.SolutionOutputs'>\n",
      "<class 'mediapipe.python.solution_base.SolutionOutputs'>\n",
      "<class 'mediapipe.python.solution_base.SolutionOutputs'>\n",
      "<class 'mediapipe.python.solution_base.SolutionOutputs'>\n"
     ]
    }
   ],
   "source": [
    "cap = cv2.VideoCapture(0)\n",
    "# Set mediapipe model \n",
    "with mp_holistic.Holistic(min_detection_confidence=0.5, min_tracking_confidence=0.5) as holistic:\n",
    "    while cap.isOpened():\n",
    "\n",
    "        # Read feed\n",
    "        ret, frame = cap.read()\n",
    "\n",
    "        # Make detections\n",
    "        image, results = mediapipe_detection(frame, holistic)\n",
    "        print(results)\n",
    "        \n",
    "        # Draw landmarks\n",
    "        draw_styled_landmarks(image, results)\n",
    "\n",
    "        # Show to screenQQQQ\n",
    "        cv2.imshow('OpenCV Feed', image)\n",
    "\n",
    "        # Break gracefully\n",
    "        if cv2.waitKey(10) & 0xFF == ord('q'):\n",
    "            break\n",
    "    cap.release()\n",
    "    cv2.destroyAllWindows()"
   ]
  },
  {
   "cell_type": "code",
   "execution_count": 41,
   "id": "ae91da41",
   "metadata": {},
   "outputs": [],
   "source": [
    "draw_landmarks(frame, results)"
   ]
  },
  {
   "cell_type": "code",
   "execution_count": 42,
   "id": "a3b2e5c9",
   "metadata": {},
   "outputs": [
    {
     "data": {
      "text/plain": [
       "<matplotlib.image.AxesImage at 0x1fe9887e700>"
      ]
     },
     "execution_count": 42,
     "metadata": {},
     "output_type": "execute_result"
    },
    {
     "data": {
      "image/png": "[encoded data removed]",
      "text/plain": [
       "<Figure size 432x288 with 1 Axes>"
      ]
     },
     "metadata": {
      "needs_background": "light"
     },
     "output_type": "display_data"
    }
   ],
   "source": [
    "plt.imshow(cv2.cvtColor(frame, cv2.COLOR_BGR2RGB))"
   ]
  },
  {
   "cell_type": "code",
   "execution_count": 39,
   "id": "48836ad5",
   "metadata": {},
   "outputs": [
    {
     "ename": "AttributeError",
     "evalue": "'NoneType' object has no attribute 'landmark'",
     "output_type": "error",
     "traceback": [
      "\u001b[1;31m---------------------------------------------------------------------------\u001b[0m",
      "\u001b[1;31mAttributeError\u001b[0m                            Traceback (most recent call last)",
      "Input \u001b[1;32mIn [39]\u001b[0m, in \u001b[0;36m<cell line: 1>\u001b[1;34m()\u001b[0m\n\u001b[1;32m----> 1\u001b[0m \u001b[38;5;28mlen\u001b[39m(\u001b[43mresults\u001b[49m\u001b[38;5;241;43m.\u001b[39;49m\u001b[43mleft_hand_landmarks\u001b[49m\u001b[38;5;241;43m.\u001b[39;49m\u001b[43mlandmark\u001b[49m)\n",
      "\u001b[1;31mAttributeError\u001b[0m: 'NoneType' object has no attribute 'landmark'"
     ]
    }
   ],
   "source": [
    "len(results.left_hand_landmarks.landmark)"
   ]
  },
  {
   "cell_type": "code",
   "execution_count": 18,
   "id": "5360ea25",
   "metadata": {},
   "outputs": [
    {
     "data": {
      "text/plain": [
       "landmark {\n",
       "  x: 0.65089375\n",
       "  y: 0.78314203\n",
       "  z: -1.9344975\n",
       "  visibility: 0.9995128\n",
       "}\n",
       "landmark {\n",
       "  x: 0.69205374\n",
       "  y: 0.6674082\n",
       "  z: -1.9004043\n",
       "  visibility: 0.9993882\n",
       "}\n",
       "landmark {\n",
       "  x: 0.7260061\n",
       "  y: 0.66749835\n",
       "  z: -1.9001133\n",
       "  visibility: 0.9993336\n",
       "}\n",
       "landmark {\n",
       "  x: 0.7597915\n",
       "  y: 0.66424155\n",
       "  z: -1.9001255\n",
       "  visibility: 0.999219\n",
       "}\n",
       "landmark {\n",
       "  x: 0.6094501\n",
       "  y: 0.6609859\n",
       "  z: -1.8340786\n",
       "  visibility: 0.9995127\n",
       "}\n",
       "landmark {\n",
       "  x: 0.58546716\n",
       "  y: 0.6580206\n",
       "  z: -1.8340628\n",
       "  visibility: 0.9994712\n",
       "}\n",
       "landmark {\n",
       "  x: 0.56119597\n",
       "  y: 0.6582405\n",
       "  z: -1.8340533\n",
       "  visibility: 0.9994391\n",
       "}\n",
       "landmark {\n",
       "  x: 0.82585096\n",
       "  y: 0.67554843\n",
       "  z: -1.3574233\n",
       "  visibility: 0.9990879\n",
       "}\n",
       "landmark {\n",
       "  x: 0.54743063\n",
       "  y: 0.6727603\n",
       "  z: -1.030416\n",
       "  visibility: 0.9995908\n",
       "}\n",
       "landmark {\n",
       "  x: 0.7247941\n",
       "  y: 0.88830966\n",
       "  z: -1.6797371\n",
       "  visibility: 0.99590075\n",
       "}\n",
       "landmark {\n",
       "  x: 0.6246507\n",
       "  y: 0.8808687\n",
       "  z: -1.5969163\n",
       "  visibility: 0.99730545\n",
       "}\n",
       "landmark {\n",
       "  x: 0.9191308\n",
       "  y: 1.0136017\n",
       "  z: -1.0782962\n",
       "  visibility: 0.62473446\n",
       "}\n",
       "landmark {\n",
       "  x: 0.45871902\n",
       "  y: 1.0281442\n",
       "  z: -0.3219826\n",
       "  visibility: 0.8784987\n",
       "}\n",
       "landmark {\n",
       "  x: 1.0080788\n",
       "  y: 1.3047187\n",
       "  z: -1.3974918\n",
       "  visibility: 0.22434734\n",
       "}\n",
       "landmark {\n",
       "  x: 0.15054199\n",
       "  y: 1.2677191\n",
       "  z: -0.6843508\n",
       "  visibility: 0.33181405\n",
       "}\n",
       "landmark {\n",
       "  x: 0.794294\n",
       "  y: 1.0045354\n",
       "  z: -1.4624226\n",
       "  visibility: 0.265835\n",
       "}\n",
       "landmark {\n",
       "  x: 0.10957857\n",
       "  y: 1.0496231\n",
       "  z: -1.7139752\n",
       "  visibility: 0.3320995\n",
       "}\n",
       "landmark {\n",
       "  x: 0.7426542\n",
       "  y: 0.9309651\n",
       "  z: -1.5206305\n",
       "  visibility: 0.3262179\n",
       "}\n",
       "landmark {\n",
       "  x: 0.09829076\n",
       "  y: 1.0056179\n",
       "  z: -1.8617504\n",
       "  visibility: 0.40090522\n",
       "}\n",
       "landmark {\n",
       "  x: 0.75158226\n",
       "  y: 0.8810822\n",
       "  z: -1.4961545\n",
       "  visibility: 0.38148925\n",
       "}\n",
       "landmark {\n",
       "  x: 0.12907669\n",
       "  y: 0.95579493\n",
       "  z: -1.840917\n",
       "  visibility: 0.46313626\n",
       "}\n",
       "landmark {\n",
       "  x: 0.7528859\n",
       "  y: 0.92398477\n",
       "  z: -1.4713329\n",
       "  visibility: 0.362158\n",
       "}\n",
       "landmark {\n",
       "  x: 0.1501455\n",
       "  y: 0.9910259\n",
       "  z: -1.7472191\n",
       "  visibility: 0.43970168\n",
       "}\n",
       "landmark {\n",
       "  x: 0.881221\n",
       "  y: 2.3586853\n",
       "  z: -0.3540747\n",
       "  visibility: 0.0015629472\n",
       "}\n",
       "landmark {\n",
       "  x: 0.554521\n",
       "  y: 2.2770643\n",
       "  z: 0.35914695\n",
       "  visibility: 0.0029656012\n",
       "}\n",
       "landmark {\n",
       "  x: 0.8109883\n",
       "  y: 2.2670856\n",
       "  z: -0.71524346\n",
       "  visibility: 0.016213445\n",
       "}\n",
       "landmark {\n",
       "  x: 0.37388647\n",
       "  y: 2.1648712\n",
       "  z: -0.097738735\n",
       "  visibility: 0.017863557\n",
       "}\n",
       "landmark {\n",
       "  x: 0.7471467\n",
       "  y: 2.9541643\n",
       "  z: 0.116366245\n",
       "  visibility: 0.0027200538\n",
       "}\n",
       "landmark {\n",
       "  x: 0.5207996\n",
       "  y: 2.7951567\n",
       "  z: 0.65566385\n",
       "  visibility: 0.0014742855\n",
       "}\n",
       "landmark {\n",
       "  x: 0.7750061\n",
       "  y: 3.1111069\n",
       "  z: 0.1685251\n",
       "  visibility: 0.0033865927\n",
       "}\n",
       "landmark {\n",
       "  x: 0.5700604\n",
       "  y: 2.901174\n",
       "  z: 0.71822065\n",
       "  visibility: 0.0020998532\n",
       "}\n",
       "landmark {\n",
       "  x: 0.6237874\n",
       "  y: 3.0060008\n",
       "  z: -0.36109176\n",
       "  visibility: 0.0064386986\n",
       "}\n",
       "landmark {\n",
       "  x: 0.3985482\n",
       "  y: 2.9395742\n",
       "  z: 0.2930681\n",
       "  visibility: 0.003192847\n",
       "}"
      ]
     },
     "execution_count": 18,
     "metadata": {},
     "output_type": "execute_result"
    }
   ],
   "source": [
    "results.pose_landmarks"
   ]
  },
  {
   "cell_type": "code",
   "execution_count": 19,
   "id": "1072e8f5",
   "metadata": {},
   "outputs": [],
   "source": [
    "pose = []\n",
    "for res in results.pose_landmarks.landmark:\n",
    "    test = np.array([res.x, res.y, res.z, res.visibility])\n",
    "    pose.append(test)"
   ]
  },
  {
   "cell_type": "code",
   "execution_count": 20,
   "id": "bd9711b1",
   "metadata": {},
   "outputs": [],
   "source": [
    "pose = np.array([[res.x, res.y, res.z, res.visibility] for res in results.pose_landmarks.landmark]).flatten() if results.pose_landmarks else np.zeros(132)\n",
    "face = np.array([[res.x, res.y, res.z] for res in results.face_landmarks.landmark]).flatten() if results.face_landmarks else np.zeros(1404)\n",
    "lh = np.array([[res.x, res.y, res.z] for res in results.left_hand_landmarks.landmark]).flatten() if results.left_hand_landmarks else np.zeros(21*3)\n",
    "rh = np.array([[res.x, res.y, res.z] for res in results.right_hand_landmarks.landmark]).flatten() if results.right_hand_landmarks else np.zeros(21*3)"
   ]
  },
  {
   "cell_type": "code",
   "execution_count": 21,
   "id": "5642bd32",
   "metadata": {},
   "outputs": [
    {
     "data": {
      "text/plain": [
       "1404"
      ]
     },
     "execution_count": 21,
     "metadata": {},
     "output_type": "execute_result"
    }
   ],
   "source": [
    "len(results.face_landmarks.landmark)*3"
   ]
  },
  {
   "cell_type": "code",
   "execution_count": 22,
   "id": "a3d839a8",
   "metadata": {},
   "outputs": [],
   "source": [
    "face = np.array([[res.x, res.y, res.z] for res in results.face_landmarks.landmark]).flatten()if results.face_landmarks else np.zeros(1404)"
   ]
  },
  {
   "cell_type": "code",
   "execution_count": 23,
   "id": "a012f0f2",
   "metadata": {},
   "outputs": [],
   "source": [
    "def extract_keypoints(results):\n",
    "    pose = np.array([[res.x, res.y, res.z, res.visibility] for res in results.pose_landmarks.landmark]).flatten() if results.pose_landmarks else np.zeros(33*4)\n",
    "    face = np.array([[res.x, res.y, res.z] for res in results.face_landmarks.landmark]).flatten() if results.face_landmarks else np.zeros(468*3)\n",
    "    lh = np.array([[res.x, res.y, res.z] for res in results.left_hand_landmarks.landmark]).flatten() if results.left_hand_landmarks else np.zeros(21*3)\n",
    "    rh = np.array([[res.x, res.y, res.z] for res in results.right_hand_landmarks.landmark]).flatten() if results.right_hand_landmarks else np.zeros(21*3)\n",
    "    return np.concatenate([pose, face, lh, rh])"
   ]
  },
  {
   "cell_type": "code",
   "execution_count": 24,
   "id": "fb4ddce1",
   "metadata": {},
   "outputs": [],
   "source": [
    "result_test = extract_keypoints(results)"
   ]
  },
  {
   "cell_type": "code",
   "execution_count": 25,
   "id": "a1637ecd",
   "metadata": {},
   "outputs": [
    {
     "data": {
      "text/plain": [
       "array([ 0.65089375,  0.78314203, -1.93449748, ...,  0.        ,\n",
       "        0.        ,  0.        ])"
      ]
     },
     "execution_count": 25,
     "metadata": {},
     "output_type": "execute_result"
    }
   ],
   "source": [
    "result_test"
   ]
  },
  {
   "cell_type": "code",
   "execution_count": 26,
   "id": "f15f58b4",
   "metadata": {},
   "outputs": [],
   "source": [
    "np.save('0',result_test)"
   ]
  },
  {
   "cell_type": "code",
   "execution_count": 27,
   "id": "ff3257b2",
   "metadata": {},
   "outputs": [
    {
     "data": {
      "text/plain": [
       "array([ 0.65089375,  0.78314203, -1.93449748, ...,  0.        ,\n",
       "        0.        ,  0.        ])"
      ]
     },
     "execution_count": 27,
     "metadata": {},
     "output_type": "execute_result"
    }
   ],
   "source": [
    "np.load('0.npy')"
   ]
  },
  {
   "cell_type": "code",
   "execution_count": 28,
   "id": "eaa1d4cf",
   "metadata": {},
   "outputs": [],
   "source": [
    "DATA_PATH = os.path.join('MP_Data') \n",
    "\n",
    "# Actions that we try to detect\n",
    "actions = np.array(['hello', 'thanks', 'i love you badhon'])\n",
    "\n",
    "# Thirty videos worth of data\n",
    "no_sequences = 30\n",
    "\n",
    "# Videos are going to be 30 frames in length\n",
    "sequence_length = 30"
   ]
  },
  {
   "cell_type": "code",
   "execution_count": 29,
   "id": "c5148fb1",
   "metadata": {},
   "outputs": [],
   "source": [
    "for action in actions: \n",
    "    for sequence in range(no_sequences):\n",
    "        try: \n",
    "            os.makedirs(os.path.join(DATA_PATH, action, str(sequence)))\n",
    "        except:\n",
    "            pass"
   ]
  },
  {
   "cell_type": "code",
   "execution_count": 30,
   "id": "730d9ac2",
   "metadata": {},
   "outputs": [],
   "source": [
    "cap = cv2.VideoCapture(0)\n",
    "# Set mediapipe model \n",
    "with mp_holistic.Holistic(min_detection_confidence=0.5, min_tracking_confidence=0.5) as holistic:\n",
    "    \n",
    "    # NEW LOOP\n",
    "    # Loop through actions\n",
    "    for action in actions:\n",
    "        # Loop through sequences aka videos\n",
    "        for sequence in range(no_sequences):\n",
    "            # Loop through video length aka sequence length\n",
    "            for frame_num in range(sequence_length):\n",
    "                if cv2.waitKey(10) & 0xFF == ord('q'):\n",
    "                    break\n",
    "\n",
    "                # Read feed\n",
    "                ret, frame = cap.read()\n",
    "\n",
    "                # Make detections\n",
    "                image, results = mediapipe_detection(frame, holistic)\n",
    "#                 print(results)\n",
    "\n",
    "                # Draw landmarks\n",
    "                draw_styled_landmarks(image, results)\n",
    "                \n",
    "                # NEW Apply wait logic\n",
    "                if frame_num == 0: \n",
    "                    cv2.putText(image, 'STARTING COLLECTION', (120,200), \n",
    "                               cv2.FONT_HERSHEY_SIMPLEX, 1, (0,255, 0), 4, cv2.LINE_AA)\n",
    "                    cv2.putText(image, 'Collecting frames for {} Video Number {}'.format(action, sequence), (15,12), \n",
    "                               cv2.FONT_HERSHEY_SIMPLEX, 0.5, (0, 0, 255), 1, cv2.LINE_AA)\n",
    "                    # Show to screen\n",
    "                    cv2.imshow('OpenCV Feed', image)\n",
    "                    cv2.waitKey(2000)\n",
    "                else: \n",
    "                    cv2.putText(image, 'Collecting frames for {} Video Number {}'.format(action, sequence), (15,12), \n",
    "                               cv2.FONT_HERSHEY_SIMPLEX, 0.5, (0, 0, 255), 1, cv2.LINE_AA)\n",
    "                    # Show to screen\n",
    "                    cv2.imshow('OpenCV Feed', image)\n",
    "                \n",
    "                # NEW Export keypoints\n",
    "                keypoints = extract_keypoints(results)\n",
    "                npy_path = os.path.join(DATA_PATH, action, str(sequence), str(frame_num))\n",
    "                np.save(npy_path, keypoints)\n",
    "\n",
    "                # Break gracefully\n",
    "                \n",
    "                    \n",
    "    cap.release()\n",
    "    cv2.destroyAllWindows()"
   ]
  },
  {
   "cell_type": "code",
   "execution_count": 31,
   "id": "1845032e",
   "metadata": {},
   "outputs": [],
   "source": [
    "cap.release()\n",
    "cv2.destroyAllWindows()"
   ]
  },
  {
   "cell_type": "code",
   "execution_count": 32,
   "id": "83011fe0",
   "metadata": {},
   "outputs": [],
   "source": [
    "from sklearn.model_selection import train_test_split\n",
    "from tensorflow.keras.utils import to_categorical"
   ]
  },
  {
   "cell_type": "code",
   "execution_count": 33,
   "id": "26e52d53",
   "metadata": {},
   "outputs": [],
   "source": [
    "label_map = {label:num for num, label in enumerate(actions)}"
   ]
  },
  {
   "cell_type": "code",
   "execution_count": 34,
   "id": "4ec269e0",
   "metadata": {},
   "outputs": [
    {
     "data": {
      "text/plain": [
       "{'hello': 0, 'thanks': 1, 'i love you badhon': 2}"
      ]
     },
     "execution_count": 34,
     "metadata": {},
     "output_type": "execute_result"
    }
   ],
   "source": [
    "label_map"
   ]
  },
  {
   "cell_type": "code",
   "execution_count": 35,
   "id": "2c977ca7",
   "metadata": {},
   "outputs": [],
   "source": [
    "sequences, labels = [], []\n",
    "for action in actions:\n",
    "   for sequence in range(no_sequences):\n",
    "        window = []\n",
    "        for frame_num in range(sequence_length):\n",
    "            res = np.load(os.path.join(DATA_PATH, action, str(sequence), \"{}.npy\".format(frame_num)))\n",
    "            window.append(res)\n",
    "        sequences.append(window)\n",
    "        labels.append(label_map[action])"
   ]
  },
  {
   "cell_type": "code",
   "execution_count": 36,
   "id": "5b747130",
   "metadata": {},
   "outputs": [
    {
     "data": {
      "text/plain": [
       "(90, 30, 1662)"
      ]
     },
     "execution_count": 36,
     "metadata": {},
     "output_type": "execute_result"
    }
   ],
   "source": [
    "np.array(sequences).shape"
   ]
  },
  {
   "cell_type": "code",
   "execution_count": 37,
   "id": "b689aaaf",
   "metadata": {},
   "outputs": [],
   "source": [
    "x=np.array(sequences)"
   ]
  },
  {
   "cell_type": "code",
   "execution_count": 38,
   "id": "bd1ea280",
   "metadata": {},
   "outputs": [
    {
     "data": {
      "text/plain": [
       "(90, 30, 1662)"
      ]
     },
     "execution_count": 38,
     "metadata": {},
     "output_type": "execute_result"
    }
   ],
   "source": [
    "x.shape"
   ]
  },
  {
   "cell_type": "code",
   "execution_count": 39,
   "id": "14bd3e36",
   "metadata": {},
   "outputs": [],
   "source": [
    "y=to_categorical(labels).astype(int)"
   ]
  },
  {
   "cell_type": "code",
   "execution_count": 40,
   "id": "0f4ab934",
   "metadata": {},
   "outputs": [],
   "source": [
    "xtrain,xtest,ytrain,ytest=train_test_split(x,y,test_size=0.05)"
   ]
  },
  {
   "cell_type": "code",
   "execution_count": 41,
   "id": "a35dd7fe",
   "metadata": {},
   "outputs": [
    {
     "data": {
      "text/plain": [
       "(5, 3)"
      ]
     },
     "execution_count": 41,
     "metadata": {},
     "output_type": "execute_result"
    }
   ],
   "source": [
    "ytest.shape"
   ]
  },
  {
   "cell_type": "code",
   "execution_count": 42,
   "id": "0b4d73ed",
   "metadata": {},
   "outputs": [],
   "source": [
    "from tensorflow.keras.models import Sequential\n",
    "from tensorflow.keras.layers import LSTM,Dense\n",
    "from tensorflow.keras.callbacks import TensorBoard"
   ]
  },
  {
   "cell_type": "code",
   "execution_count": 43,
   "id": "6a54ceff",
   "metadata": {},
   "outputs": [],
   "source": [
    "log_dir=os.path.join('logs')\n",
    "tb_callback=TensorBoard(log_dir=log_dir)"
   ]
  },
  {
   "cell_type": "code",
   "execution_count": 44,
   "id": "f0ce4b62",
   "metadata": {},
   "outputs": [],
   "source": [
    "model = Sequential()\n",
    "model.add(LSTM(64, return_sequences=True, activation='relu', input_shape=(30,1662)))\n",
    "model.add(LSTM(128, return_sequences=True, activation='relu'))\n",
    "model.add(LSTM(64, return_sequences=False, activation='relu'))\n",
    "model.add(Dense(64, activation='relu'))\n",
    "model.add(Dense(32, activation='relu'))\n",
    "model.add(Dense(actions.shape[0], activation='softmax'))"
   ]
  },
  {
   "cell_type": "code",
   "execution_count": 45,
   "id": "2e05b41a",
   "metadata": {},
   "outputs": [],
   "source": [
    "res = [.7, 0.2, 0.1]"
   ]
  },
  {
   "cell_type": "code",
   "execution_count": 46,
   "id": "5946b577",
   "metadata": {},
   "outputs": [
    {
     "data": {
      "text/plain": [
       "'hello'"
      ]
     },
     "execution_count": 46,
     "metadata": {},
     "output_type": "execute_result"
    }
   ],
   "source": [
    "actions[np.argmax(res)]"
   ]
  },
  {
   "cell_type": "code",
   "execution_count": 47,
   "id": "31239315",
   "metadata": {},
   "outputs": [],
   "source": [
    "model.compile(optimizer='Adam', loss='categorical_crossentropy', metrics=['categorical_accuracy'])"
   ]
  },
  {
   "cell_type": "code",
   "execution_count": 48,
   "id": "4ba9b860",
   "metadata": {},
   "outputs": [
    {
     "name": "stdout",
     "output_type": "stream",
     "text": [
      "Epoch 1/200\n",
      "3/3 [==============================] - 4s 72ms/step - loss: 6.6274 - categorical_accuracy: 0.3882\n",
      "Epoch 2/200\n",
      "3/3 [==============================] - 0s 65ms/step - loss: 17.1670 - categorical_accuracy: 0.2706\n",
      "Epoch 3/200\n",
      "3/3 [==============================] - 0s 69ms/step - loss: 35.4098 - categorical_accuracy: 0.3765\n",
      "Epoch 4/200\n",
      "3/3 [==============================] - 0s 71ms/step - loss: 23.9414 - categorical_accuracy: 0.3882\n",
      "Epoch 5/200\n",
      "3/3 [==============================] - 0s 72ms/step - loss: 21.9559 - categorical_accuracy: 0.3176\n",
      "Epoch 6/200\n",
      "3/3 [==============================] - 0s 65ms/step - loss: 46.9659 - categorical_accuracy: 0.3529\n",
      "Epoch 7/200\n",
      "3/3 [==============================] - 0s 67ms/step - loss: 60.1581 - categorical_accuracy: 0.2824\n",
      "Epoch 8/200\n",
      "3/3 [==============================] - 0s 58ms/step - loss: 45.0080 - categorical_accuracy: 0.2471\n",
      "Epoch 9/200\n",
      "3/3 [==============================] - 0s 65ms/step - loss: 31.9701 - categorical_accuracy: 0.2824\n",
      "Epoch 10/200\n",
      "3/3 [==============================] - 0s 58ms/step - loss: 41.1322 - categorical_accuracy: 0.2471\n",
      "Epoch 11/200\n",
      "3/3 [==============================] - 0s 58ms/step - loss: 65.8619 - categorical_accuracy: 0.4235\n",
      "Epoch 12/200\n",
      "3/3 [==============================] - 0s 59ms/step - loss: 44.6862 - categorical_accuracy: 0.3294\n",
      "Epoch 13/200\n",
      "3/3 [==============================] - 0s 61ms/step - loss: 43.8950 - categorical_accuracy: 0.3412\n",
      "Epoch 14/200\n",
      "3/3 [==============================] - 0s 58ms/step - loss: 78.1744 - categorical_accuracy: 0.3176\n",
      "Epoch 15/200\n",
      "3/3 [==============================] - 0s 69ms/step - loss: 53.5792 - categorical_accuracy: 0.2941\n",
      "Epoch 16/200\n",
      "3/3 [==============================] - 0s 62ms/step - loss: 34.8761 - categorical_accuracy: 0.2588\n",
      "Epoch 17/200\n",
      "3/3 [==============================] - 0s 67ms/step - loss: 52.8249 - categorical_accuracy: 0.3412\n",
      "Epoch 18/200\n",
      "3/3 [==============================] - 0s 61ms/step - loss: 106.5970 - categorical_accuracy: 0.3176\n",
      "Epoch 19/200\n",
      "3/3 [==============================] - 0s 59ms/step - loss: 59.9423 - categorical_accuracy: 0.2941\n",
      "Epoch 20/200\n",
      "3/3 [==============================] - 0s 59ms/step - loss: 67.6653 - categorical_accuracy: 0.3412\n",
      "Epoch 21/200\n",
      "3/3 [==============================] - 0s 59ms/step - loss: 78.0505 - categorical_accuracy: 0.3412\n",
      "Epoch 22/200\n",
      "3/3 [==============================] - 0s 74ms/step - loss: 45.0041 - categorical_accuracy: 0.3412\n",
      "Epoch 23/200\n",
      "3/3 [==============================] - 0s 60ms/step - loss: 58.3106 - categorical_accuracy: 0.3059\n",
      "Epoch 24/200\n",
      "3/3 [==============================] - 0s 62ms/step - loss: 47.7156 - categorical_accuracy: 0.3059\n",
      "Epoch 25/200\n",
      "3/3 [==============================] - 0s 67ms/step - loss: 37.6866 - categorical_accuracy: 0.3294\n",
      "Epoch 26/200\n",
      "3/3 [==============================] - 0s 65ms/step - loss: 41.6025 - categorical_accuracy: 0.3059\n",
      "Epoch 27/200\n",
      "3/3 [==============================] - 0s 61ms/step - loss: 40.1318 - categorical_accuracy: 0.3412\n",
      "Epoch 28/200\n",
      "3/3 [==============================] - 0s 61ms/step - loss: 30.3340 - categorical_accuracy: 0.3765\n",
      "Epoch 29/200\n",
      "3/3 [==============================] - 0s 67ms/step - loss: 41.5346 - categorical_accuracy: 0.3412\n",
      "Epoch 30/200\n",
      "3/3 [==============================] - 0s 58ms/step - loss: 79.0617 - categorical_accuracy: 0.2118\n",
      "Epoch 31/200\n",
      "3/3 [==============================] - 0s 63ms/step - loss: 97.8794 - categorical_accuracy: 0.3412\n",
      "Epoch 32/200\n",
      "3/3 [==============================] - 0s 67ms/step - loss: 78.6484 - categorical_accuracy: 0.4588\n",
      "Epoch 33/200\n",
      "3/3 [==============================] - 0s 63ms/step - loss: 67.6821 - categorical_accuracy: 0.2941\n",
      "Epoch 34/200\n",
      "3/3 [==============================] - 0s 62ms/step - loss: 67.0766 - categorical_accuracy: 0.3412\n",
      "Epoch 35/200\n",
      "3/3 [==============================] - 0s 62ms/step - loss: 70.4968 - categorical_accuracy: 0.3412\n",
      "Epoch 36/200\n",
      "3/3 [==============================] - 0s 65ms/step - loss: 80.5981 - categorical_accuracy: 0.3176\n",
      "Epoch 37/200\n",
      "3/3 [==============================] - 0s 66ms/step - loss: 46.2655 - categorical_accuracy: 0.3529\n",
      "Epoch 38/200\n",
      "3/3 [==============================] - 0s 68ms/step - loss: 19.0502 - categorical_accuracy: 0.3412\n",
      "Epoch 39/200\n",
      "3/3 [==============================] - 0s 67ms/step - loss: 22.6469 - categorical_accuracy: 0.3294\n",
      "Epoch 40/200\n",
      "3/3 [==============================] - 0s 66ms/step - loss: 14.3121 - categorical_accuracy: 0.3882\n",
      "Epoch 41/200\n",
      "3/3 [==============================] - 0s 65ms/step - loss: 17.4533 - categorical_accuracy: 0.4235\n",
      "Epoch 42/200\n",
      "3/3 [==============================] - 0s 60ms/step - loss: 7.1757 - categorical_accuracy: 0.4353\n",
      "Epoch 43/200\n",
      "3/3 [==============================] - 0s 61ms/step - loss: 8.0573 - categorical_accuracy: 0.2941\n",
      "Epoch 44/200\n",
      "3/3 [==============================] - 0s 66ms/step - loss: 8.3568 - categorical_accuracy: 0.3529\n",
      "Epoch 45/200\n",
      "3/3 [==============================] - 0s 65ms/step - loss: 6.2593 - categorical_accuracy: 0.3882\n",
      "Epoch 46/200\n",
      "3/3 [==============================] - 0s 66ms/step - loss: 5.6882 - categorical_accuracy: 0.3294\n",
      "Epoch 47/200\n",
      "3/3 [==============================] - 0s 60ms/step - loss: 5.3584 - categorical_accuracy: 0.3647\n",
      "Epoch 48/200\n",
      "3/3 [==============================] - 0s 56ms/step - loss: 6.0595 - categorical_accuracy: 0.4118\n",
      "Epoch 49/200\n",
      "3/3 [==============================] - 0s 62ms/step - loss: 7.4964 - categorical_accuracy: 0.3647\n",
      "Epoch 50/200\n",
      "3/3 [==============================] - 0s 62ms/step - loss: 7.7108 - categorical_accuracy: 0.4235\n",
      "Epoch 51/200\n",
      "3/3 [==============================] - 0s 61ms/step - loss: 13.3604 - categorical_accuracy: 0.3412\n",
      "Epoch 52/200\n",
      "3/3 [==============================] - 0s 60ms/step - loss: 8.8928 - categorical_accuracy: 0.3176\n",
      "Epoch 53/200\n",
      "3/3 [==============================] - 0s 60ms/step - loss: 11.9130 - categorical_accuracy: 0.3529\n",
      "Epoch 54/200\n",
      "3/3 [==============================] - 0s 64ms/step - loss: 12.6787 - categorical_accuracy: 0.3529\n",
      "Epoch 55/200\n",
      "3/3 [==============================] - 0s 66ms/step - loss: 7.1160 - categorical_accuracy: 0.3765\n",
      "Epoch 56/200\n",
      "3/3 [==============================] - 0s 61ms/step - loss: 10.1400 - categorical_accuracy: 0.3647\n",
      "Epoch 57/200\n",
      "3/3 [==============================] - 0s 60ms/step - loss: 7.6152 - categorical_accuracy: 0.3647\n",
      "Epoch 58/200\n",
      "3/3 [==============================] - 0s 60ms/step - loss: 11.1562 - categorical_accuracy: 0.3647\n",
      "Epoch 59/200\n",
      "3/3 [==============================] - 0s 58ms/step - loss: 100.8828 - categorical_accuracy: 0.3059\n",
      "Epoch 60/200\n",
      "3/3 [==============================] - 0s 61ms/step - loss: 160.2887 - categorical_accuracy: 0.2706\n",
      "Epoch 61/200\n",
      "3/3 [==============================] - 0s 58ms/step - loss: 100.5565 - categorical_accuracy: 0.3882\n",
      "Epoch 62/200\n",
      "3/3 [==============================] - 0s 62ms/step - loss: 177.9274 - categorical_accuracy: 0.3412\n",
      "Epoch 63/200\n",
      "3/3 [==============================] - 0s 58ms/step - loss: 84.5142 - categorical_accuracy: 0.3294\n",
      "Epoch 64/200\n",
      "3/3 [==============================] - 0s 58ms/step - loss: 171.8661 - categorical_accuracy: 0.1882\n",
      "Epoch 65/200\n",
      "3/3 [==============================] - 0s 61ms/step - loss: 168.2556 - categorical_accuracy: 0.3176\n",
      "Epoch 66/200\n",
      "3/3 [==============================] - 0s 63ms/step - loss: 123.8716 - categorical_accuracy: 0.3647\n",
      "Epoch 67/200\n",
      "3/3 [==============================] - 0s 63ms/step - loss: 91.8412 - categorical_accuracy: 0.3176\n",
      "Epoch 68/200\n",
      "3/3 [==============================] - 0s 64ms/step - loss: 131.1645 - categorical_accuracy: 0.4353\n",
      "Epoch 69/200\n",
      "3/3 [==============================] - 0s 65ms/step - loss: 57.1604 - categorical_accuracy: 0.3765\n",
      "Epoch 70/200\n",
      "3/3 [==============================] - 0s 59ms/step - loss: 65.6339 - categorical_accuracy: 0.3294\n",
      "Epoch 71/200\n",
      "3/3 [==============================] - 0s 64ms/step - loss: 55.4424 - categorical_accuracy: 0.2941\n",
      "Epoch 72/200\n",
      "3/3 [==============================] - 0s 58ms/step - loss: 54.9685 - categorical_accuracy: 0.3529\n",
      "Epoch 73/200\n",
      "3/3 [==============================] - 0s 59ms/step - loss: 103.4008 - categorical_accuracy: 0.3412\n",
      "Epoch 74/200\n",
      "3/3 [==============================] - 0s 59ms/step - loss: 38.0595 - categorical_accuracy: 0.3882\n",
      "Epoch 75/200\n",
      "3/3 [==============================] - 0s 62ms/step - loss: 19.5465 - categorical_accuracy: 0.4000\n",
      "Epoch 76/200\n",
      "3/3 [==============================] - 0s 60ms/step - loss: 11.7580 - categorical_accuracy: 0.4588\n",
      "Epoch 77/200\n",
      "3/3 [==============================] - 0s 66ms/step - loss: 3.7915 - categorical_accuracy: 0.4588\n",
      "Epoch 78/200\n",
      "3/3 [==============================] - 0s 64ms/step - loss: 1.9641 - categorical_accuracy: 0.4824\n",
      "Epoch 79/200\n",
      "3/3 [==============================] - 0s 54ms/step - loss: 2.9376 - categorical_accuracy: 0.3412\n",
      "Epoch 80/200\n",
      "3/3 [==============================] - 0s 62ms/step - loss: 1.6491 - categorical_accuracy: 0.2353\n",
      "Epoch 81/200\n",
      "3/3 [==============================] - 0s 61ms/step - loss: 2.3878 - categorical_accuracy: 0.3412\n",
      "Epoch 82/200\n",
      "3/3 [==============================] - 0s 63ms/step - loss: 2.1854 - categorical_accuracy: 0.1647\n",
      "Epoch 83/200\n",
      "3/3 [==============================] - 0s 61ms/step - loss: 26.0778 - categorical_accuracy: 0.3412\n",
      "Epoch 84/200\n",
      "3/3 [==============================] - 0s 57ms/step - loss: 14.5641 - categorical_accuracy: 0.3176\n",
      "Epoch 85/200\n",
      "3/3 [==============================] - 0s 57ms/step - loss: 11.8416 - categorical_accuracy: 0.3647\n",
      "Epoch 86/200\n",
      "3/3 [==============================] - 0s 56ms/step - loss: 9.7235 - categorical_accuracy: 0.3529\n",
      "Epoch 87/200\n",
      "3/3 [==============================] - 0s 67ms/step - loss: 11.2594 - categorical_accuracy: 0.3882\n",
      "Epoch 88/200\n",
      "3/3 [==============================] - 0s 61ms/step - loss: 12.9761 - categorical_accuracy: 0.3059\n",
      "Epoch 89/200\n",
      "3/3 [==============================] - 0s 59ms/step - loss: 11.3176 - categorical_accuracy: 0.2941\n",
      "Epoch 90/200\n",
      "3/3 [==============================] - 0s 61ms/step - loss: 9.3932 - categorical_accuracy: 0.3529\n",
      "Epoch 91/200\n",
      "3/3 [==============================] - 0s 61ms/step - loss: 5.3960 - categorical_accuracy: 0.3647\n",
      "Epoch 92/200\n",
      "3/3 [==============================] - 0s 59ms/step - loss: 2.4365 - categorical_accuracy: 0.2941\n",
      "Epoch 93/200\n",
      "3/3 [==============================] - 0s 59ms/step - loss: 3.1928 - categorical_accuracy: 0.3294\n",
      "Epoch 94/200\n",
      "3/3 [==============================] - 0s 58ms/step - loss: 1.9401 - categorical_accuracy: 0.3647\n",
      "Epoch 95/200\n",
      "3/3 [==============================] - 0s 59ms/step - loss: 2.0712 - categorical_accuracy: 0.3412\n",
      "Epoch 96/200\n",
      "3/3 [==============================] - 0s 59ms/step - loss: 2.0942 - categorical_accuracy: 0.3294\n",
      "Epoch 97/200\n",
      "3/3 [==============================] - 0s 53ms/step - loss: 1.3205 - categorical_accuracy: 0.3882\n",
      "Epoch 98/200\n",
      "3/3 [==============================] - 0s 61ms/step - loss: 1.8134 - categorical_accuracy: 0.3294\n",
      "Epoch 99/200\n",
      "3/3 [==============================] - 0s 61ms/step - loss: 1.2484 - categorical_accuracy: 0.2706\n",
      "Epoch 100/200\n",
      "3/3 [==============================] - 0s 60ms/step - loss: 1.5319 - categorical_accuracy: 0.3294\n",
      "Epoch 101/200\n",
      "3/3 [==============================] - 0s 61ms/step - loss: 1.0898 - categorical_accuracy: 0.4353\n",
      "Epoch 102/200\n",
      "3/3 [==============================] - 0s 62ms/step - loss: 1.3606 - categorical_accuracy: 0.3294\n",
      "Epoch 103/200\n",
      "3/3 [==============================] - 0s 61ms/step - loss: 1.1892 - categorical_accuracy: 0.3529\n",
      "Epoch 104/200\n",
      "3/3 [==============================] - 0s 62ms/step - loss: 1.2263 - categorical_accuracy: 0.3882\n",
      "Epoch 105/200\n",
      "3/3 [==============================] - 0s 58ms/step - loss: 1.0711 - categorical_accuracy: 0.3882\n",
      "Epoch 106/200\n",
      "3/3 [==============================] - 0s 57ms/step - loss: 1.0965 - categorical_accuracy: 0.4353\n",
      "Epoch 107/200\n",
      "3/3 [==============================] - 0s 52ms/step - loss: 1.1381 - categorical_accuracy: 0.2471\n",
      "Epoch 108/200\n",
      "3/3 [==============================] - 0s 60ms/step - loss: 1.0886 - categorical_accuracy: 0.4588\n",
      "Epoch 109/200\n",
      "3/3 [==============================] - 0s 60ms/step - loss: 1.0624 - categorical_accuracy: 0.5059\n",
      "Epoch 110/200\n",
      "3/3 [==============================] - 0s 63ms/step - loss: 1.0489 - categorical_accuracy: 0.4000\n",
      "Epoch 111/200\n",
      "3/3 [==============================] - 0s 70ms/step - loss: 1.0383 - categorical_accuracy: 0.4471\n",
      "Epoch 112/200\n",
      "3/3 [==============================] - 0s 68ms/step - loss: 1.0679 - categorical_accuracy: 0.5176\n",
      "Epoch 113/200\n",
      "3/3 [==============================] - 0s 58ms/step - loss: 1.0568 - categorical_accuracy: 0.4471\n",
      "Epoch 114/200\n",
      "3/3 [==============================] - 0s 66ms/step - loss: 1.0441 - categorical_accuracy: 0.4471\n",
      "Epoch 115/200\n",
      "3/3 [==============================] - 0s 64ms/step - loss: 1.0768 - categorical_accuracy: 0.4824\n",
      "Epoch 116/200\n",
      "3/3 [==============================] - 0s 61ms/step - loss: 1.0354 - categorical_accuracy: 0.5529\n",
      "Epoch 117/200\n",
      "3/3 [==============================] - 0s 61ms/step - loss: 1.0510 - categorical_accuracy: 0.3882\n",
      "Epoch 118/200\n",
      "3/3 [==============================] - 0s 61ms/step - loss: 1.0715 - categorical_accuracy: 0.5176\n",
      "Epoch 119/200\n",
      "3/3 [==============================] - 0s 62ms/step - loss: 1.0525 - categorical_accuracy: 0.4588\n",
      "Epoch 120/200\n",
      "3/3 [==============================] - 0s 64ms/step - loss: 1.0591 - categorical_accuracy: 0.3529\n",
      "Epoch 121/200\n",
      "3/3 [==============================] - 0s 62ms/step - loss: 1.0567 - categorical_accuracy: 0.4824\n",
      "Epoch 122/200\n",
      "3/3 [==============================] - 0s 62ms/step - loss: 1.0379 - categorical_accuracy: 0.5294\n",
      "Epoch 123/200\n",
      "3/3 [==============================] - 0s 61ms/step - loss: 1.0322 - categorical_accuracy: 0.4824\n",
      "Epoch 124/200\n",
      "3/3 [==============================] - 0s 66ms/step - loss: 1.0624 - categorical_accuracy: 0.4824\n",
      "Epoch 125/200\n",
      "3/3 [==============================] - 0s 63ms/step - loss: 1.0259 - categorical_accuracy: 0.4471\n",
      "Epoch 126/200\n",
      "3/3 [==============================] - 0s 68ms/step - loss: 1.0636 - categorical_accuracy: 0.3294\n",
      "Epoch 127/200\n",
      "3/3 [==============================] - 0s 66ms/step - loss: 1.0210 - categorical_accuracy: 0.5059\n",
      "Epoch 128/200\n",
      "3/3 [==============================] - 0s 63ms/step - loss: 1.0650 - categorical_accuracy: 0.3647\n",
      "Epoch 129/200\n",
      "3/3 [==============================] - 0s 64ms/step - loss: 1.0166 - categorical_accuracy: 0.5294\n",
      "Epoch 130/200\n",
      "3/3 [==============================] - 0s 63ms/step - loss: 1.0277 - categorical_accuracy: 0.5176\n",
      "Epoch 131/200\n",
      "3/3 [==============================] - 0s 62ms/step - loss: 1.0354 - categorical_accuracy: 0.5059\n",
      "Epoch 132/200\n",
      "3/3 [==============================] - 0s 61ms/step - loss: 1.0427 - categorical_accuracy: 0.4824\n",
      "Epoch 133/200\n",
      "3/3 [==============================] - 0s 60ms/step - loss: 1.0237 - categorical_accuracy: 0.4235\n",
      "Epoch 134/200\n",
      "3/3 [==============================] - 0s 61ms/step - loss: 1.0398 - categorical_accuracy: 0.4706\n",
      "Epoch 135/200\n",
      "3/3 [==============================] - 0s 63ms/step - loss: 1.0377 - categorical_accuracy: 0.4706\n",
      "Epoch 136/200\n",
      "3/3 [==============================] - 0s 61ms/step - loss: 1.0550 - categorical_accuracy: 0.4000\n",
      "Epoch 137/200\n",
      "3/3 [==============================] - 0s 58ms/step - loss: 1.0203 - categorical_accuracy: 0.5294\n",
      "Epoch 138/200\n",
      "3/3 [==============================] - 0s 53ms/step - loss: 1.0337 - categorical_accuracy: 0.4235\n",
      "Epoch 139/200\n",
      "3/3 [==============================] - 0s 58ms/step - loss: 1.0025 - categorical_accuracy: 0.5412\n",
      "Epoch 140/200\n",
      "3/3 [==============================] - 0s 54ms/step - loss: 1.0519 - categorical_accuracy: 0.3765\n",
      "Epoch 141/200\n",
      "3/3 [==============================] - 0s 63ms/step - loss: 1.0486 - categorical_accuracy: 0.4353\n",
      "Epoch 142/200\n",
      "3/3 [==============================] - 0s 61ms/step - loss: 1.0394 - categorical_accuracy: 0.4706\n",
      "Epoch 143/200\n",
      "3/3 [==============================] - 0s 61ms/step - loss: 1.0486 - categorical_accuracy: 0.4471\n",
      "Epoch 144/200\n",
      "3/3 [==============================] - 0s 60ms/step - loss: 1.0848 - categorical_accuracy: 0.3765\n",
      "Epoch 145/200\n",
      "3/3 [==============================] - 0s 61ms/step - loss: 1.0946 - categorical_accuracy: 0.4588\n",
      "Epoch 146/200\n",
      "3/3 [==============================] - 0s 62ms/step - loss: 1.0568 - categorical_accuracy: 0.4824\n",
      "Epoch 147/200\n"
     ]
    },
    {
     "name": "stdout",
     "output_type": "stream",
     "text": [
      "3/3 [==============================] - 0s 65ms/step - loss: 1.0349 - categorical_accuracy: 0.4235\n",
      "Epoch 148/200\n",
      "3/3 [==============================] - 0s 58ms/step - loss: 1.0948 - categorical_accuracy: 0.3882\n",
      "Epoch 149/200\n",
      "3/3 [==============================] - 0s 57ms/step - loss: 1.0487 - categorical_accuracy: 0.4941\n",
      "Epoch 150/200\n",
      "3/3 [==============================] - 0s 57ms/step - loss: 1.0410 - categorical_accuracy: 0.3882\n",
      "Epoch 151/200\n",
      "3/3 [==============================] - 0s 60ms/step - loss: 1.0965 - categorical_accuracy: 0.4000\n",
      "Epoch 152/200\n",
      "3/3 [==============================] - 0s 62ms/step - loss: 0.9974 - categorical_accuracy: 0.6118\n",
      "Epoch 153/200\n",
      "3/3 [==============================] - 0s 58ms/step - loss: 1.0434 - categorical_accuracy: 0.3765\n",
      "Epoch 154/200\n",
      "3/3 [==============================] - 0s 58ms/step - loss: 1.0605 - categorical_accuracy: 0.5176\n",
      "Epoch 155/200\n",
      "3/3 [==============================] - 0s 60ms/step - loss: 1.0250 - categorical_accuracy: 0.5529\n",
      "Epoch 156/200\n",
      "3/3 [==============================] - 0s 63ms/step - loss: 1.0389 - categorical_accuracy: 0.4000\n",
      "Epoch 157/200\n",
      "3/3 [==============================] - 0s 58ms/step - loss: 1.0311 - categorical_accuracy: 0.5647\n",
      "Epoch 158/200\n",
      "3/3 [==============================] - 0s 60ms/step - loss: 1.0213 - categorical_accuracy: 0.4000\n",
      "Epoch 159/200\n",
      "3/3 [==============================] - 0s 59ms/step - loss: 1.0056 - categorical_accuracy: 0.5529\n",
      "Epoch 160/200\n",
      "3/3 [==============================] - 0s 53ms/step - loss: 1.0038 - categorical_accuracy: 0.5294\n",
      "Epoch 161/200\n",
      "3/3 [==============================] - 0s 59ms/step - loss: 1.0154 - categorical_accuracy: 0.5176\n",
      "Epoch 162/200\n",
      "3/3 [==============================] - 0s 60ms/step - loss: 1.0331 - categorical_accuracy: 0.5412\n",
      "Epoch 163/200\n",
      "3/3 [==============================] - 0s 61ms/step - loss: 1.0594 - categorical_accuracy: 0.4235\n",
      "Epoch 164/200\n",
      "3/3 [==============================] - 0s 60ms/step - loss: 1.0043 - categorical_accuracy: 0.5176\n",
      "Epoch 165/200\n",
      "3/3 [==============================] - 0s 62ms/step - loss: 1.0289 - categorical_accuracy: 0.4235\n",
      "Epoch 166/200\n",
      "3/3 [==============================] - 0s 66ms/step - loss: 1.0272 - categorical_accuracy: 0.5647\n",
      "Epoch 167/200\n",
      "3/3 [==============================] - 0s 61ms/step - loss: 1.0115 - categorical_accuracy: 0.5294\n",
      "Epoch 168/200\n",
      "3/3 [==============================] - 0s 62ms/step - loss: 1.0370 - categorical_accuracy: 0.4353\n",
      "Epoch 169/200\n",
      "3/3 [==============================] - 0s 62ms/step - loss: 0.9984 - categorical_accuracy: 0.5529\n",
      "Epoch 170/200\n",
      "3/3 [==============================] - 0s 61ms/step - loss: 1.0105 - categorical_accuracy: 0.5412\n",
      "Epoch 171/200\n",
      "3/3 [==============================] - 0s 60ms/step - loss: 1.0173 - categorical_accuracy: 0.5647\n",
      "Epoch 172/200\n",
      "3/3 [==============================] - 0s 59ms/step - loss: 0.9987 - categorical_accuracy: 0.5529\n",
      "Epoch 173/200\n",
      "3/3 [==============================] - 0s 68ms/step - loss: 1.0200 - categorical_accuracy: 0.4235\n",
      "Epoch 174/200\n",
      "3/3 [==============================] - 0s 68ms/step - loss: 1.0229 - categorical_accuracy: 0.5647\n",
      "Epoch 175/200\n",
      "3/3 [==============================] - 0s 67ms/step - loss: 1.0081 - categorical_accuracy: 0.5059\n",
      "Epoch 176/200\n",
      "3/3 [==============================] - 0s 66ms/step - loss: 1.0079 - categorical_accuracy: 0.5176\n",
      "Epoch 177/200\n",
      "3/3 [==============================] - 0s 65ms/step - loss: 0.9848 - categorical_accuracy: 0.6235\n",
      "Epoch 178/200\n",
      "3/3 [==============================] - 0s 68ms/step - loss: 1.0364 - categorical_accuracy: 0.5059\n",
      "Epoch 179/200\n",
      "3/3 [==============================] - 0s 67ms/step - loss: 1.0020 - categorical_accuracy: 0.5529\n",
      "Epoch 180/200\n",
      "3/3 [==============================] - 0s 68ms/step - loss: 1.0265 - categorical_accuracy: 0.4000\n",
      "Epoch 181/200\n",
      "3/3 [==============================] - 0s 66ms/step - loss: 0.9919 - categorical_accuracy: 0.5176\n",
      "Epoch 182/200\n",
      "3/3 [==============================] - 0s 67ms/step - loss: 0.9990 - categorical_accuracy: 0.6118\n",
      "Epoch 183/200\n",
      "3/3 [==============================] - 0s 67ms/step - loss: 0.9940 - categorical_accuracy: 0.5765\n",
      "Epoch 184/200\n",
      "3/3 [==============================] - 0s 66ms/step - loss: 0.9782 - categorical_accuracy: 0.5765\n",
      "Epoch 185/200\n",
      "3/3 [==============================] - 0s 66ms/step - loss: 1.0181 - categorical_accuracy: 0.5176\n",
      "Epoch 186/200\n",
      "3/3 [==============================] - 0s 66ms/step - loss: 1.0065 - categorical_accuracy: 0.5176\n",
      "Epoch 187/200\n",
      "3/3 [==============================] - 0s 64ms/step - loss: 0.9901 - categorical_accuracy: 0.5882\n",
      "Epoch 188/200\n",
      "3/3 [==============================] - 0s 68ms/step - loss: 1.0034 - categorical_accuracy: 0.3647\n",
      "Epoch 189/200\n",
      "3/3 [==============================] - 0s 67ms/step - loss: 0.9802 - categorical_accuracy: 0.4353\n",
      "Epoch 190/200\n",
      "3/3 [==============================] - 0s 66ms/step - loss: 0.9805 - categorical_accuracy: 0.5412\n",
      "Epoch 191/200\n",
      "3/3 [==============================] - 0s 69ms/step - loss: 0.9419 - categorical_accuracy: 0.5765\n",
      "Epoch 192/200\n",
      "3/3 [==============================] - 0s 65ms/step - loss: 0.9690 - categorical_accuracy: 0.5412\n",
      "Epoch 193/200\n",
      "3/3 [==============================] - 0s 64ms/step - loss: 0.9847 - categorical_accuracy: 0.6000\n",
      "Epoch 194/200\n",
      "3/3 [==============================] - 0s 67ms/step - loss: 0.9795 - categorical_accuracy: 0.5176\n",
      "Epoch 195/200\n",
      "3/3 [==============================] - 0s 67ms/step - loss: 0.9840 - categorical_accuracy: 0.5882\n",
      "Epoch 196/200\n",
      "3/3 [==============================] - 0s 65ms/step - loss: 1.0280 - categorical_accuracy: 0.4471\n",
      "Epoch 197/200\n",
      "3/3 [==============================] - 0s 66ms/step - loss: 1.0466 - categorical_accuracy: 0.4941\n",
      "Epoch 198/200\n",
      "3/3 [==============================] - 0s 64ms/step - loss: 1.0132 - categorical_accuracy: 0.5529\n",
      "Epoch 199/200\n",
      "3/3 [==============================] - 0s 68ms/step - loss: 1.0078 - categorical_accuracy: 0.5765\n",
      "Epoch 200/200\n",
      "3/3 [==============================] - 0s 67ms/step - loss: 1.0145 - categorical_accuracy: 0.6000\n"
     ]
    },
    {
     "data": {
      "text/plain": [
       "<keras.callbacks.History at 0x1c936d83d30>"
      ]
     },
     "execution_count": 48,
     "metadata": {},
     "output_type": "execute_result"
    }
   ],
   "source": [
    "model.fit(xtrain, ytrain, epochs=200, callbacks=[tb_callback])"
   ]
  },
  {
   "cell_type": "code",
   "execution_count": 49,
   "id": "63321b61",
   "metadata": {},
   "outputs": [
    {
     "name": "stdout",
     "output_type": "stream",
     "text": [
      "Model: \"sequential\"\n",
      "_________________________________________________________________\n",
      " Layer (type)                Output Shape              Param #   \n",
      "=================================================================\n",
      " lstm (LSTM)                 (None, 30, 64)            442112    \n",
      "                                                                 \n",
      " lstm_1 (LSTM)               (None, 30, 128)           98816     \n",
      "                                                                 \n",
      " lstm_2 (LSTM)               (None, 64)                49408     \n",
      "                                                                 \n",
      " dense (Dense)               (None, 64)                4160      \n",
      "                                                                 \n",
      " dense_1 (Dense)             (None, 32)                2080      \n",
      "                                                                 \n",
      " dense_2 (Dense)             (None, 3)                 99        \n",
      "                                                                 \n",
      "=================================================================\n",
      "Total params: 596,675\n",
      "Trainable params: 596,675\n",
      "Non-trainable params: 0\n",
      "_________________________________________________________________\n"
     ]
    }
   ],
   "source": [
    "model.summary()"
   ]
  },
  {
   "cell_type": "code",
   "execution_count": 50,
   "id": "2f82d73a",
   "metadata": {},
   "outputs": [
    {
     "name": "stdout",
     "output_type": "stream",
     "text": [
      "1/1 [==============================] - 1s 516ms/step\n"
     ]
    }
   ],
   "source": [
    "res = model.predict(xtest)"
   ]
  },
  {
   "cell_type": "code",
   "execution_count": 51,
   "id": "2289bc10",
   "metadata": {},
   "outputs": [
    {
     "data": {
      "text/plain": [
       "'i love you badhon'"
      ]
     },
     "execution_count": 51,
     "metadata": {},
     "output_type": "execute_result"
    }
   ],
   "source": [
    "actions[np.argmax(res[4])]"
   ]
  },
  {
   "cell_type": "code",
   "execution_count": 52,
   "id": "b3885f9c",
   "metadata": {},
   "outputs": [
    {
     "data": {
      "text/plain": [
       "'hello'"
      ]
     },
     "execution_count": 52,
     "metadata": {},
     "output_type": "execute_result"
    }
   ],
   "source": [
    "actions[np.argmax(ytest[4])]"
   ]
  },
  {
   "cell_type": "code",
   "execution_count": 53,
   "id": "09348210",
   "metadata": {},
   "outputs": [],
   "source": [
    "model.save('action.h5')"
   ]
  },
  {
   "cell_type": "code",
   "execution_count": null,
   "id": "2a762672",
   "metadata": {},
   "outputs": [],
   "source": []
  },
  {
   "cell_type": "code",
   "execution_count": 54,
   "id": "6e067494",
   "metadata": {},
   "outputs": [],
   "source": [
    "from sklearn.metrics import multilabel_confusion_matrix, accuracy_score"
   ]
  },
  {
   "cell_type": "code",
   "execution_count": 55,
   "id": "a6afe37e",
   "metadata": {},
   "outputs": [
    {
     "name": "stdout",
     "output_type": "stream",
     "text": [
      "1/1 [==============================] - 0s 19ms/step\n"
     ]
    }
   ],
   "source": [
    "yhat = model.predict(xtest)"
   ]
  },
  {
   "cell_type": "code",
   "execution_count": 56,
   "id": "872cbba9",
   "metadata": {},
   "outputs": [],
   "source": [
    "ytrue = np.argmax(ytest, axis=1).tolist()\n",
    "yhat = np.argmax(yhat, axis=1).tolist()"
   ]
  },
  {
   "cell_type": "code",
   "execution_count": 57,
   "id": "87c5892d",
   "metadata": {},
   "outputs": [
    {
     "data": {
      "text/plain": [
       "array([[[2, 0],\n",
       "        [3, 0]],\n",
       "\n",
       "       [[4, 1],\n",
       "        [0, 0]],\n",
       "\n",
       "       [[0, 3],\n",
       "        [1, 1]]], dtype=int64)"
      ]
     },
     "execution_count": 57,
     "metadata": {},
     "output_type": "execute_result"
    }
   ],
   "source": [
    "multilabel_confusion_matrix(ytrue, yhat)"
   ]
  },
  {
   "cell_type": "code",
   "execution_count": 58,
   "id": "50b87161",
   "metadata": {},
   "outputs": [
    {
     "data": {
      "text/plain": [
       "0.2"
      ]
     },
     "execution_count": 58,
     "metadata": {},
     "output_type": "execute_result"
    }
   ],
   "source": [
    "accuracy_score(ytrue, yhat)"
   ]
  },
  {
   "cell_type": "code",
   "execution_count": 59,
   "id": "994b1c11",
   "metadata": {},
   "outputs": [
    {
     "name": "stdout",
     "output_type": "stream",
     "text": [
      "<class 'mediapipe.python.solution_base.SolutionOutputs'>\n",
      "<class 'mediapipe.python.solution_base.SolutionOutputs'>\n",
      "<class 'mediapipe.python.solution_base.SolutionOutputs'>\n",
      "<class 'mediapipe.python.solution_base.SolutionOutputs'>\n",
      "<class 'mediapipe.python.solution_base.SolutionOutputs'>\n",
      "<class 'mediapipe.python.solution_base.SolutionOutputs'>\n",
      "<class 'mediapipe.python.solution_base.SolutionOutputs'>\n",
      "<class 'mediapipe.python.solution_base.SolutionOutputs'>\n",
      "<class 'mediapipe.python.solution_base.SolutionOutputs'>\n",
      "<class 'mediapipe.python.solution_base.SolutionOutputs'>\n",
      "<class 'mediapipe.python.solution_base.SolutionOutputs'>\n",
      "<class 'mediapipe.python.solution_base.SolutionOutputs'>\n",
      "<class 'mediapipe.python.solution_base.SolutionOutputs'>\n",
      "<class 'mediapipe.python.solution_base.SolutionOutputs'>\n",
      "<class 'mediapipe.python.solution_base.SolutionOutputs'>\n",
      "<class 'mediapipe.python.solution_base.SolutionOutputs'>\n",
      "<class 'mediapipe.python.solution_base.SolutionOutputs'>\n",
      "<class 'mediapipe.python.solution_base.SolutionOutputs'>\n",
      "<class 'mediapipe.python.solution_base.SolutionOutputs'>\n",
      "<class 'mediapipe.python.solution_base.SolutionOutputs'>\n",
      "<class 'mediapipe.python.solution_base.SolutionOutputs'>\n",
      "<class 'mediapipe.python.solution_base.SolutionOutputs'>\n",
      "<class 'mediapipe.python.solution_base.SolutionOutputs'>\n",
      "<class 'mediapipe.python.solution_base.SolutionOutputs'>\n",
      "<class 'mediapipe.python.solution_base.SolutionOutputs'>\n",
      "<class 'mediapipe.python.solution_base.SolutionOutputs'>\n",
      "<class 'mediapipe.python.solution_base.SolutionOutputs'>\n",
      "<class 'mediapipe.python.solution_base.SolutionOutputs'>\n",
      "<class 'mediapipe.python.solution_base.SolutionOutputs'>\n",
      "<class 'mediapipe.python.solution_base.SolutionOutputs'>\n",
      "1/1 [==============================] - 0s 17ms/step\n",
      "thanks\n"
     ]
    },
    {
     "ename": "NameError",
     "evalue": "name 'prob_viz' is not defined",
     "output_type": "error",
     "traceback": [
      "\u001b[1;31m---------------------------------------------------------------------------\u001b[0m",
      "\u001b[1;31mNameError\u001b[0m                                 Traceback (most recent call last)",
      "Input \u001b[1;32mIn [59]\u001b[0m, in \u001b[0;36m<cell line: 7>\u001b[1;34m()\u001b[0m\n\u001b[0;32m     41\u001b[0m         sentence \u001b[38;5;241m=\u001b[39m sentence[\u001b[38;5;241m-\u001b[39m\u001b[38;5;241m5\u001b[39m:]\n\u001b[0;32m     43\u001b[0m     \u001b[38;5;66;03m# Viz probabilities\u001b[39;00m\n\u001b[1;32m---> 44\u001b[0m     image \u001b[38;5;241m=\u001b[39m \u001b[43mprob_viz\u001b[49m(res, actions, image, colors)\n\u001b[0;32m     46\u001b[0m cv2\u001b[38;5;241m.\u001b[39mrectangle(image, (\u001b[38;5;241m0\u001b[39m,\u001b[38;5;241m0\u001b[39m), (\u001b[38;5;241m640\u001b[39m, \u001b[38;5;241m40\u001b[39m), (\u001b[38;5;241m245\u001b[39m, \u001b[38;5;241m117\u001b[39m, \u001b[38;5;241m16\u001b[39m), \u001b[38;5;241m-\u001b[39m\u001b[38;5;241m1\u001b[39m)\n\u001b[0;32m     47\u001b[0m cv2\u001b[38;5;241m.\u001b[39mputText(image, \u001b[38;5;124m'\u001b[39m\u001b[38;5;124m \u001b[39m\u001b[38;5;124m'\u001b[39m\u001b[38;5;241m.\u001b[39mjoin(sentence), (\u001b[38;5;241m3\u001b[39m,\u001b[38;5;241m30\u001b[39m), \n\u001b[0;32m     48\u001b[0m                cv2\u001b[38;5;241m.\u001b[39mFONT_HERSHEY_SIMPLEX, \u001b[38;5;241m1\u001b[39m, (\u001b[38;5;241m255\u001b[39m, \u001b[38;5;241m255\u001b[39m, \u001b[38;5;241m255\u001b[39m), \u001b[38;5;241m2\u001b[39m, cv2\u001b[38;5;241m.\u001b[39mLINE_AA)\n",
      "\u001b[1;31mNameError\u001b[0m: name 'prob_viz' is not defined"
     ]
    }
   ],
   "source": [
    "sequence = []\n",
    "sentence = []\n",
    "threshold = 0.8\n",
    "\n",
    "cap = cv2.VideoCapture(0)\n",
    "# Set mediapipe model \n",
    "with mp_holistic.Holistic(min_detection_confidence=0.5, min_tracking_confidence=0.5) as holistic:\n",
    "    while cap.isOpened():\n",
    "\n",
    "        # Read feed\n",
    "        ret, frame = cap.read()\n",
    "\n",
    "        # Make detections\n",
    "        image, results = mediapipe_detection(frame, holistic)\n",
    "        print(results)\n",
    "        \n",
    "        # Draw landmarks\n",
    "        draw_styled_landmarks(image, results)\n",
    "        \n",
    "        # 2. Prediction logic\n",
    "        keypoints = extract_keypoints(results)\n",
    "#         sequence.insert(0,keypoints)\n",
    "#         sequence = sequence[:30]\n",
    "        sequence.append(keypoints)\n",
    "        sequence = sequence[-30:]\n",
    "        \n",
    "        if len(sequence) == 30:\n",
    "            res = model.predict(np.expand_dims(sequence, axis=0))[0]\n",
    "            print(actions[np.argmax(res)])\n",
    "            \n",
    "            \n",
    "        #3. Viz logic\n",
    "            if res[np.argmax(res)] > threshold: \n",
    "                if len(sentence) > 0: \n",
    "                    if actions[np.argmax(res)] != sentence[-1]:\n",
    "                        sentence.append(actions[np.argmax(res)])\n",
    "                else:\n",
    "                    sentence.append(actions[np.argmax(res)])\n",
    "\n",
    "            if len(sentence) > 5: \n",
    "                sentence = sentence[-5:]\n",
    "\n",
    "            # Viz probabilities\n",
    "            image = prob_viz(res, actions, image, colors)\n",
    "            \n",
    "        cv2.rectangle(image, (0,0), (640, 40), (245, 117, 16), -1)\n",
    "        cv2.putText(image, ' '.join(sentence), (3,30), \n",
    "                       cv2.FONT_HERSHEY_SIMPLEX, 1, (255, 255, 255), 2, cv2.LINE_AA)\n",
    "        \n",
    "        # Show to screen\n",
    "        cv2.imshow('OpenCV Feed', image)\n",
    "\n",
    "        # Break gracefully\n",
    "        if cv2.waitKey(10) & 0xFF == ord('q'):\n",
    "            break\n",
    "    cap.release()\n",
    "    cv2.destroyAllWindows()"
   ]
  },
  {
   "cell_type": "code",
   "execution_count": 1,
   "id": "60169874",
   "metadata": {},
   "outputs": [
    {
     "ename": "NameError",
     "evalue": "name 'cap' is not defined",
     "output_type": "error",
     "traceback": [
      "\u001b[1;31m---------------------------------------------------------------------------\u001b[0m",
      "\u001b[1;31mNameError\u001b[0m                                 Traceback (most recent call last)",
      "Input \u001b[1;32mIn [1]\u001b[0m, in \u001b[0;36m<cell line: 1>\u001b[1;34m()\u001b[0m\n\u001b[1;32m----> 1\u001b[0m \u001b[43mcap\u001b[49m\u001b[38;5;241m.\u001b[39mrelease()\n\u001b[0;32m      2\u001b[0m cv2\u001b[38;5;241m.\u001b[39mdestroyAllWindows()\n",
      "\u001b[1;31mNameError\u001b[0m: name 'cap' is not defined"
     ]
    }
   ],
   "source": [
    "cap.release()\n",
    "cv2.destroyAllWindows()"
   ]
  },
  {
   "cell_type": "code",
   "execution_count": 218,
   "id": "5910d7bb",
   "metadata": {},
   "outputs": [
    {
     "data": {
      "text/plain": [
       "True"
      ]
     },
     "execution_count": 218,
     "metadata": {},
     "output_type": "execute_result"
    }
   ],
   "source": [
    "res[np.argmax(res)] > threshold"
   ]
  },
  {
   "cell_type": "code",
   "execution_count": 185,
   "id": "ac8d56ae",
   "metadata": {},
   "outputs": [
    {
     "name": "stdout",
     "output_type": "stream",
     "text": [
      "1/1 [==============================] - 0s 16ms/step\n"
     ]
    },
    {
     "data": {
      "text/plain": [
       "array([[9.8670030e-01, 1.3298781e-02, 9.4959273e-07]], dtype=float32)"
      ]
     },
     "execution_count": 185,
     "metadata": {},
     "output_type": "execute_result"
    }
   ],
   "source": [
    "model.predict(np.expand_dims(xtest[0], axis=0))"
   ]
  },
  {
   "cell_type": "code",
   "execution_count": 220,
   "id": "4380a0ac",
   "metadata": {},
   "outputs": [
    {
     "name": "stdout",
     "output_type": "stream",
     "text": [
      "Collecting gTTS\n",
      "  Downloading gTTS-2.2.4-py3-none-any.whl (26 kB)\n",
      "Requirement already satisfied: click in c:\\users\\nobel\\anaconda3\\lib\\site-packages (from gTTS) (8.0.4)\n",
      "Requirement already satisfied: six in c:\\users\\nobel\\anaconda3\\lib\\site-packages (from gTTS) (1.16.0)\n",
      "Requirement already satisfied: requests in c:\\users\\nobel\\anaconda3\\lib\\site-packages (from gTTS) (2.27.1)\n",
      "Requirement already satisfied: colorama in c:\\users\\nobel\\anaconda3\\lib\\site-packages (from click->gTTS) (0.4.4)\n",
      "Requirement already satisfied: idna<4,>=2.5 in c:\\users\\nobel\\anaconda3\\lib\\site-packages (from requests->gTTS) (3.3)\n",
      "Requirement already satisfied: certifi>=2017.4.17 in c:\\users\\nobel\\anaconda3\\lib\\site-packages (from requests->gTTS) (2021.10.8)\n",
      "Requirement already satisfied: charset-normalizer~=2.0.0 in c:\\users\\nobel\\anaconda3\\lib\\site-packages (from requests->gTTS) (2.0.4)\n",
      "Requirement already satisfied: urllib3<1.27,>=1.21.1 in c:\\users\\nobel\\anaconda3\\lib\\site-packages (from requests->gTTS) (1.26.9)\n",
      "Installing collected packages: gTTS\n",
      "Successfully installed gTTS-2.2.4\n"
     ]
    }
   ],
   "source": [
    "!pip install gTTS "
   ]
  },
  {
   "cell_type": "code",
   "execution_count": 221,
   "id": "0af41f29",
   "metadata": {},
   "outputs": [
    {
     "name": "stdout",
     "output_type": "stream",
     "text": [
      "Collecting playsound\n",
      "  Downloading playsound-1.3.0.tar.gz (7.7 kB)\n",
      "Building wheels for collected packages: playsound\n",
      "  Building wheel for playsound (setup.py): started\n",
      "  Building wheel for playsound (setup.py): finished with status 'done'\n",
      "  Created wheel for playsound: filename=playsound-1.3.0-py3-none-any.whl size=7035 sha256=eca9d91f83bd327ad3aa4f38bac0cc36ade0f969ae570493249f4f3252666810\n",
      "  Stored in directory: c:\\users\\nobel\\appdata\\local\\pip\\cache\\wheels\\ba\\39\\54\\c8f7ff9a88a644d3c58b4dec802d90b79a2e0fb2a6b884bf82\n",
      "Successfully built playsound\n",
      "Installing collected packages: playsound\n",
      "Successfully installed playsound-1.3.0\n"
     ]
    }
   ],
   "source": [
    "!pip install playsound  "
   ]
  },
  {
   "cell_type": "code",
   "execution_count": 231,
   "id": "827dd1df",
   "metadata": {},
   "outputs": [
    {
     "name": "stdout",
     "output_type": "stream",
     "text": [
      "Requirement already satisfied: pyttsx3 in c:\\users\\nobel\\anaconda3\\lib\\site-packages (2.90)\n",
      "Requirement already satisfied: pypiwin32 in c:\\users\\nobel\\anaconda3\\lib\\site-packages (from pyttsx3) (223)\n",
      "Requirement already satisfied: pywin32 in c:\\users\\nobel\\anaconda3\\lib\\site-packages (from pyttsx3) (302)\n",
      "Requirement already satisfied: comtypes in c:\\users\\nobel\\anaconda3\\lib\\site-packages (from pyttsx3) (1.1.10)\n"
     ]
    }
   ],
   "source": [
    "!pip install pyttsx3  "
   ]
  },
  {
   "cell_type": "code",
   "execution_count": 258,
   "id": "8538df6b",
   "metadata": {},
   "outputs": [
    {
     "data": {
      "text/plain": [
       "0"
      ]
     },
     "execution_count": 258,
     "metadata": {},
     "output_type": "execute_result"
    }
   ],
   "source": [
    "from gtts import gTTS\n",
    "  \n",
    "# This module is imported so that we can \n",
    "# play the converted audio\n",
    "import os\n",
    "  \n",
    "# The text that you want to convert to audio\n",
    "mytext = 'i love you badhon'\n",
    "  \n",
    "# Language in which you want to convert\n",
    "language = 'en'\n",
    "  \n",
    "# Passing the text and language to the engine, \n",
    "# here we have marked slow=False. Which tells \n",
    "# the module that the converted audio should \n",
    "# have a high speed\n",
    "myobj = gTTS(text=mytext, lang=language, slow=True)\n",
    "  \n",
    "# Saving the converted audio in a mp3 file named\n",
    "# welcome \n",
    "myobj.save(\"welcome.mp3\")\n",
    "  \n",
    "# Playing the converted file\n",
    "os.system(\"welcome.mp3\")"
   ]
  },
  {
   "cell_type": "code",
   "execution_count": 236,
   "id": "78fc9a26",
   "metadata": {},
   "outputs": [
    {
     "name": "stderr",
     "output_type": "stream",
     "text": [
      "\n",
      "    Error 263 for command:\n",
      "        open welcome.mp3\n",
      "    The specified device is not open or is not recognized by MCI.\n",
      "\n",
      "    Error 263 for command:\n",
      "        close welcome.mp3\n",
      "    The specified device is not open or is not recognized by MCI.\n",
      "Failed to close the file: welcome.mp3\n"
     ]
    },
    {
     "ename": "PlaysoundException",
     "evalue": "\n    Error 263 for command:\n        open welcome.mp3\n    The specified device is not open or is not recognized by MCI.",
     "output_type": "error",
     "traceback": [
      "\u001b[1;31m---------------------------------------------------------------------------\u001b[0m",
      "\u001b[1;31mPlaysoundException\u001b[0m                        Traceback (most recent call last)",
      "Input \u001b[1;32mIn [236]\u001b[0m, in \u001b[0;36m<cell line: 2>\u001b[1;34m()\u001b[0m\n\u001b[0;32m      1\u001b[0m \u001b[38;5;28;01mfrom\u001b[39;00m \u001b[38;5;21;01mplaysound\u001b[39;00m \u001b[38;5;28;01mimport\u001b[39;00m playsound\n\u001b[1;32m----> 2\u001b[0m \u001b[43mplaysound\u001b[49m\u001b[43m(\u001b[49m\u001b[38;5;124;43m'\u001b[39;49m\u001b[38;5;124;43mwelcome.mp3\u001b[39;49m\u001b[38;5;124;43m'\u001b[39;49m\u001b[43m)\u001b[49m\n",
      "File \u001b[1;32m~\\anaconda3\\lib\\site-packages\\playsound.py:72\u001b[0m, in \u001b[0;36m_playsoundWin\u001b[1;34m(sound, block)\u001b[0m\n\u001b[0;32m     70\u001b[0m \u001b[38;5;28;01mtry\u001b[39;00m:\n\u001b[0;32m     71\u001b[0m     logger\u001b[38;5;241m.\u001b[39mdebug(\u001b[38;5;124m'\u001b[39m\u001b[38;5;124mStarting\u001b[39m\u001b[38;5;124m'\u001b[39m)\n\u001b[1;32m---> 72\u001b[0m     \u001b[43mwinCommand\u001b[49m\u001b[43m(\u001b[49m\u001b[38;5;124;43mu\u001b[39;49m\u001b[38;5;124;43m'\u001b[39;49m\u001b[38;5;124;43mopen \u001b[39;49m\u001b[38;5;132;43;01m{}\u001b[39;49;00m\u001b[38;5;124;43m'\u001b[39;49m\u001b[38;5;241;43m.\u001b[39;49m\u001b[43mformat\u001b[49m\u001b[43m(\u001b[49m\u001b[43msound\u001b[49m\u001b[43m)\u001b[49m\u001b[43m)\u001b[49m\n\u001b[0;32m     73\u001b[0m     winCommand(\u001b[38;5;124mu\u001b[39m\u001b[38;5;124m'\u001b[39m\u001b[38;5;124mplay \u001b[39m\u001b[38;5;132;01m{}\u001b[39;00m\u001b[38;5;132;01m{}\u001b[39;00m\u001b[38;5;124m'\u001b[39m\u001b[38;5;241m.\u001b[39mformat(sound, \u001b[38;5;124m'\u001b[39m\u001b[38;5;124m wait\u001b[39m\u001b[38;5;124m'\u001b[39m \u001b[38;5;28;01mif\u001b[39;00m block \u001b[38;5;28;01melse\u001b[39;00m \u001b[38;5;124m'\u001b[39m\u001b[38;5;124m'\u001b[39m))\n\u001b[0;32m     74\u001b[0m     logger\u001b[38;5;241m.\u001b[39mdebug(\u001b[38;5;124m'\u001b[39m\u001b[38;5;124mReturning\u001b[39m\u001b[38;5;124m'\u001b[39m)\n",
      "File \u001b[1;32m~\\anaconda3\\lib\\site-packages\\playsound.py:64\u001b[0m, in \u001b[0;36m_playsoundWin.<locals>.winCommand\u001b[1;34m(*command)\u001b[0m\n\u001b[0;32m     60\u001b[0m     exceptionMessage \u001b[38;5;241m=\u001b[39m (\u001b[38;5;124m'\u001b[39m\u001b[38;5;130;01m\\n\u001b[39;00m\u001b[38;5;124m    Error \u001b[39m\u001b[38;5;124m'\u001b[39m \u001b[38;5;241m+\u001b[39m \u001b[38;5;28mstr\u001b[39m(errorCode) \u001b[38;5;241m+\u001b[39m \u001b[38;5;124m'\u001b[39m\u001b[38;5;124m for command:\u001b[39m\u001b[38;5;124m'\u001b[39m\n\u001b[0;32m     61\u001b[0m                         \u001b[38;5;124m'\u001b[39m\u001b[38;5;130;01m\\n\u001b[39;00m\u001b[38;5;124m        \u001b[39m\u001b[38;5;124m'\u001b[39m \u001b[38;5;241m+\u001b[39m command\u001b[38;5;241m.\u001b[39mdecode(\u001b[38;5;124m'\u001b[39m\u001b[38;5;124mutf-16\u001b[39m\u001b[38;5;124m'\u001b[39m) \u001b[38;5;241m+\u001b[39m\n\u001b[0;32m     62\u001b[0m                         \u001b[38;5;124m'\u001b[39m\u001b[38;5;130;01m\\n\u001b[39;00m\u001b[38;5;124m    \u001b[39m\u001b[38;5;124m'\u001b[39m \u001b[38;5;241m+\u001b[39m errorBuffer\u001b[38;5;241m.\u001b[39mraw\u001b[38;5;241m.\u001b[39mdecode(\u001b[38;5;124m'\u001b[39m\u001b[38;5;124mutf-16\u001b[39m\u001b[38;5;124m'\u001b[39m)\u001b[38;5;241m.\u001b[39mrstrip(\u001b[38;5;124m'\u001b[39m\u001b[38;5;130;01m\\0\u001b[39;00m\u001b[38;5;124m'\u001b[39m))\n\u001b[0;32m     63\u001b[0m     logger\u001b[38;5;241m.\u001b[39merror(exceptionMessage)\n\u001b[1;32m---> 64\u001b[0m     \u001b[38;5;28;01mraise\u001b[39;00m PlaysoundException(exceptionMessage)\n\u001b[0;32m     65\u001b[0m \u001b[38;5;28;01mreturn\u001b[39;00m buf\u001b[38;5;241m.\u001b[39mvalue\n",
      "\u001b[1;31mPlaysoundException\u001b[0m: \n    Error 263 for command:\n        open welcome.mp3\n    The specified device is not open or is not recognized by MCI."
     ]
    }
   ],
   "source": [
    "from playsound import playsound\n",
    "playsound('welcome.mp3')"
   ]
  },
  {
   "cell_type": "code",
   "execution_count": 4,
   "id": "75f1017b",
   "metadata": {},
   "outputs": [],
   "source": [
    "import pyttsx3\n",
    "audio=pyttsx3.init()\n",
    "audio.setProperty('rate',130)\n",
    "audio.setProperty('volume',.9)\n",
    "audio.say('Hello Badhon')\n",
    "audio.say('I love you')\n",
    "audio.runAndWait()"
   ]
  },
  {
   "cell_type": "code",
   "execution_count": null,
   "id": "8f762a5e",
   "metadata": {},
   "outputs": [],
   "source": []
  },
  {
   "cell_type": "code",
   "execution_count": null,
   "id": "2267b203",
   "metadata": {},
   "outputs": [],
   "source": []
  },
  {
   "cell_type": "code",
   "execution_count": null,
   "id": "621737bc",
   "metadata": {},
   "outputs": [],
   "source": []
  }
 ],
 "metadata": {
  "kernelspec": {
   "display_name": "Python 3 (ipykernel)",
   "language": "python",
   "name": "python3"
  },
  "language_info": {
   "codemirror_mode": {
    "name": "ipython",
    "version": 3
   },
   "file_extension": ".py",
   "mimetype": "text/x-python",
   "name": "python",
   "nbconvert_exporter": "python",
   "pygments_lexer": "ipython3",
   "version": "3.9.12"
  }
 },
 "nbformat": 4,
 "nbformat_minor": 5
}
